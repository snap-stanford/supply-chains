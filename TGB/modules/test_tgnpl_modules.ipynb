{
 "cells": [
  {
   "cell_type": "code",
   "execution_count": 1,
   "metadata": {},
   "outputs": [],
   "source": [
    "%load_ext autoreload\n",
    "%autoreload 2\n",
    "\n",
    "import torch as t\n",
    "import numpy as np\n",
    "\n",
    "from memory_module import TGNPLMemory, StaticMemory\n",
    "from inventory_module import TGNPLInventory\n",
    "from msg_func import TGNPLMessage\n",
    "from msg_agg import *\n",
    "\n",
    "from neighbor_loader import LastNeighborLoader, LastNeighborLoaderTGNPL\n",
    "\n",
    "import matplotlib.pyplot as plt"
   ]
  },
  {
   "cell_type": "markdown",
   "metadata": {},
   "source": [
    "# Test TGNPLMemory"
   ]
  },
  {
   "cell_type": "code",
   "execution_count": 2,
   "metadata": {},
   "outputs": [],
   "source": [
    "num_nodes = 10\n",
    "num_prods = 2\n",
    "raw_msg_dim = 1\n",
    "memory_dim = 5\n",
    "time_dim = 1\n",
    "message_module = TGNPLMessage(raw_msg_dim, memory_dim, time_dim)\n",
    "aggregator_module = MeanAggregator()"
   ]
  },
  {
   "cell_type": "code",
   "execution_count": 3,
   "metadata": {},
   "outputs": [],
   "source": [
    "# test initialization\n",
    "mem = TGNPLMemory(num_nodes,\n",
    "        num_prods,\n",
    "        raw_msg_dim,\n",
    "        memory_dim,\n",
    "        time_dim,\n",
    "        message_module,\n",
    "        aggregator_module,\n",
    "        memory_updater_cell=\"gru\",\n",
    "        debug=True)"
   ]
  },
  {
   "cell_type": "code",
   "execution_count": 4,
   "metadata": {},
   "outputs": [
    {
     "name": "stdout",
     "output_type": "stream",
     "text": [
      "msg_s_module.lin.weight torch.Size([17, 17])\n",
      "msg_s_module.lin.bias torch.Size([17])\n",
      "msg_s_module.layer_norm.weight torch.Size([17])\n",
      "msg_s_module.layer_norm.bias torch.Size([17])\n",
      "msg_d_module.lin.weight torch.Size([17, 17])\n",
      "msg_d_module.lin.bias torch.Size([17])\n",
      "msg_d_module.layer_norm.weight torch.Size([17])\n",
      "msg_d_module.layer_norm.bias torch.Size([17])\n",
      "msg_p_module.lin.weight torch.Size([17, 17])\n",
      "msg_p_module.lin.bias torch.Size([17])\n",
      "msg_p_module.layer_norm.weight torch.Size([17])\n",
      "msg_p_module.layer_norm.bias torch.Size([17])\n",
      "time_enc.lin.weight torch.Size([1, 1])\n",
      "time_enc.lin.bias torch.Size([1])\n",
      "memory_updater.weight_ih torch.Size([15, 17])\n",
      "memory_updater.weight_hh torch.Size([15, 5])\n",
      "memory_updater.bias_ih torch.Size([15])\n",
      "memory_updater.bias_hh torch.Size([15])\n",
      "init_memory.weight torch.Size([10, 5])\n"
     ]
    }
   ],
   "source": [
    "for name, param in mem.named_parameters():\n",
    "    if param.requires_grad:\n",
    "        print(name, param.data.shape)"
   ]
  },
  {
   "cell_type": "code",
   "execution_count": 5,
   "metadata": {
    "scrolled": true
   },
   "outputs": [
    {
     "name": "stdout",
     "output_type": "stream",
     "text": [
      "tensor([0, 1, 2, 3, 4, 5, 6, 7, 8, 9])\n",
      "init memory tensor([[ 0.4914,  0.7131, -2.8262, -2.5365,  0.3427],\n",
      "        [-0.0779,  0.6779,  1.2663, -0.5405, -1.4563],\n",
      "        [-2.1379,  0.2348, -1.1929,  0.5336, -0.2746],\n",
      "        [ 0.4992,  0.8994,  0.8674,  0.6404,  2.3216],\n",
      "        [-0.0807, -0.0544, -1.4065, -0.1904,  0.6187],\n",
      "        [ 0.8137,  1.2687,  0.9926,  0.7229, -0.0804],\n",
      "        [-1.1660, -0.5671,  0.2012, -1.1957,  0.2869],\n",
      "        [-1.3550,  0.0471,  0.1788, -0.9293,  0.6383],\n",
      "        [-0.2679,  0.8475, -0.9793,  1.2555, -1.0411],\n",
      "        [-0.5698, -0.0139,  0.1173, -0.6805,  1.5255]],\n",
      "       grad_fn=<EmbeddingBackward0>)\n",
      "msg_s tensor([], size=(0, 17), grad_fn=<ReluBackward0>)\n",
      "msg_d tensor([], size=(0, 17), grad_fn=<ReluBackward0>)\n",
      "msg_p tensor([], size=(0, 17), grad_fn=<ReluBackward0>)\n",
      "aggr tensor([[0., 0., 0., 0., 0., 0., 0., 0., 0., 0., 0., 0., 0., 0., 0., 0., 0.],\n",
      "        [0., 0., 0., 0., 0., 0., 0., 0., 0., 0., 0., 0., 0., 0., 0., 0., 0.],\n",
      "        [0., 0., 0., 0., 0., 0., 0., 0., 0., 0., 0., 0., 0., 0., 0., 0., 0.],\n",
      "        [0., 0., 0., 0., 0., 0., 0., 0., 0., 0., 0., 0., 0., 0., 0., 0., 0.],\n",
      "        [0., 0., 0., 0., 0., 0., 0., 0., 0., 0., 0., 0., 0., 0., 0., 0., 0.],\n",
      "        [0., 0., 0., 0., 0., 0., 0., 0., 0., 0., 0., 0., 0., 0., 0., 0., 0.],\n",
      "        [0., 0., 0., 0., 0., 0., 0., 0., 0., 0., 0., 0., 0., 0., 0., 0., 0.],\n",
      "        [0., 0., 0., 0., 0., 0., 0., 0., 0., 0., 0., 0., 0., 0., 0., 0., 0.],\n",
      "        [0., 0., 0., 0., 0., 0., 0., 0., 0., 0., 0., 0., 0., 0., 0., 0., 0.],\n",
      "        [0., 0., 0., 0., 0., 0., 0., 0., 0., 0., 0., 0., 0., 0., 0., 0., 0.]],\n",
      "       grad_fn=<DivBackward0>)\n",
      "memory tensor([[ 0.4914,  0.7131, -2.8262, -2.5365,  0.3427],\n",
      "        [-0.0779,  0.6779,  1.2663, -0.5405, -1.4563],\n",
      "        [-2.1379,  0.2348, -1.1929,  0.5336, -0.2746],\n",
      "        [ 0.4992,  0.8994,  0.8674,  0.6404,  2.3216],\n",
      "        [-0.0807, -0.0544, -1.4065, -0.1904,  0.6187],\n",
      "        [ 0.8137,  1.2687,  0.9926,  0.7229, -0.0804],\n",
      "        [-1.1660, -0.5671,  0.2012, -1.1957,  0.2869],\n",
      "        [-1.3550,  0.0471,  0.1788, -0.9293,  0.6383],\n",
      "        [-0.2679,  0.8475, -0.9793,  1.2555, -1.0411],\n",
      "        [-0.5698, -0.0139,  0.1173, -0.6805,  1.5255]],\n",
      "       grad_fn=<IndexPutBackward0>)\n"
     ]
    }
   ],
   "source": [
    "# before any interactions have been added\n",
    "# init memory should match memory\n",
    "n_id = t.arange(0, num_nodes, dtype=t.long)\n",
    "print(n_id)\n",
    "print('init memory', mem.init_memory(n_id))\n",
    "memory, last_update, loss = mem(n_id)"
   ]
  },
  {
   "cell_type": "code",
   "execution_count": 6,
   "metadata": {
    "scrolled": true
   },
   "outputs": [
    {
     "name": "stdout",
     "output_type": "stream",
     "text": [
      "msg_s tensor([], size=(0, 17), grad_fn=<ReluBackward0>)\n",
      "msg_d tensor([], size=(0, 17), grad_fn=<ReluBackward0>)\n",
      "msg_p tensor([], size=(0, 17), grad_fn=<ReluBackward0>)\n",
      "aggr tensor([[0., 0., 0., 0., 0., 0., 0., 0., 0., 0., 0., 0., 0., 0., 0., 0., 0.],\n",
      "        [0., 0., 0., 0., 0., 0., 0., 0., 0., 0., 0., 0., 0., 0., 0., 0., 0.],\n",
      "        [0., 0., 0., 0., 0., 0., 0., 0., 0., 0., 0., 0., 0., 0., 0., 0., 0.],\n",
      "        [0., 0., 0., 0., 0., 0., 0., 0., 0., 0., 0., 0., 0., 0., 0., 0., 0.],\n",
      "        [0., 0., 0., 0., 0., 0., 0., 0., 0., 0., 0., 0., 0., 0., 0., 0., 0.],\n",
      "        [0., 0., 0., 0., 0., 0., 0., 0., 0., 0., 0., 0., 0., 0., 0., 0., 0.]],\n",
      "       grad_fn=<DivBackward0>)\n",
      "memory tensor([[ 0.4914,  0.7131, -2.8262, -2.5365,  0.3427],\n",
      "        [-0.0779,  0.6779,  1.2663, -0.5405, -1.4563],\n",
      "        [-2.1379,  0.2348, -1.1929,  0.5336, -0.2746],\n",
      "        [ 0.4992,  0.8994,  0.8674,  0.6404,  2.3216],\n",
      "        [-0.2679,  0.8475, -0.9793,  1.2555, -1.0411],\n",
      "        [-0.5698, -0.0139,  0.1173, -0.6805,  1.5255]],\n",
      "       grad_fn=<IndexPutBackward0>)\n"
     ]
    }
   ],
   "source": [
    "# try adding interactions\n",
    "# 1) get_updated_memory will print 6 nodes [0, 1, 2, 3, 8, 9], but memories shouldn't be updated yet\n",
    "# 2) _update_msg_store should update all three msg stores\n",
    "src = t.Tensor([0, 0, 1, 2]).long()\n",
    "dst = t.Tensor([3, 3, 3, 0]).long()\n",
    "prod = t.Tensor([8, 8, 8, 9]).long()\n",
    "time = t.Tensor(np.ones(4)).long()\n",
    "raw_msg = t.Tensor([10, 20, 5, 13]).reshape(-1, 1)\n",
    "mem.update_state(src, dst, prod, time, raw_msg)"
   ]
  },
  {
   "cell_type": "code",
   "execution_count": 7,
   "metadata": {
    "scrolled": true
   },
   "outputs": [
    {
     "data": {
      "text/plain": [
       "{0: (tensor([0, 0]),\n",
       "  tensor([3, 3]),\n",
       "  tensor([8, 8]),\n",
       "  tensor([1, 1]),\n",
       "  tensor([[10.],\n",
       "          [20.]])),\n",
       " 1: (tensor([1]), tensor([3]), tensor([8]), tensor([1]), tensor([[5.]])),\n",
       " 2: (tensor([2]), tensor([0]), tensor([9]), tensor([1]), tensor([[13.]])),\n",
       " 3: (tensor([], dtype=torch.int64),\n",
       "  tensor([], dtype=torch.int64),\n",
       "  tensor([], dtype=torch.int64),\n",
       "  tensor([], dtype=torch.int64),\n",
       "  tensor([], size=(0, 1))),\n",
       " 4: (tensor([], dtype=torch.int64),\n",
       "  tensor([], dtype=torch.int64),\n",
       "  tensor([], dtype=torch.int64),\n",
       "  tensor([], dtype=torch.int64),\n",
       "  tensor([], size=(0, 1))),\n",
       " 5: (tensor([], dtype=torch.int64),\n",
       "  tensor([], dtype=torch.int64),\n",
       "  tensor([], dtype=torch.int64),\n",
       "  tensor([], dtype=torch.int64),\n",
       "  tensor([], size=(0, 1))),\n",
       " 6: (tensor([], dtype=torch.int64),\n",
       "  tensor([], dtype=torch.int64),\n",
       "  tensor([], dtype=torch.int64),\n",
       "  tensor([], dtype=torch.int64),\n",
       "  tensor([], size=(0, 1))),\n",
       " 7: (tensor([], dtype=torch.int64),\n",
       "  tensor([], dtype=torch.int64),\n",
       "  tensor([], dtype=torch.int64),\n",
       "  tensor([], dtype=torch.int64),\n",
       "  tensor([], size=(0, 1))),\n",
       " 8: (tensor([], dtype=torch.int64),\n",
       "  tensor([], dtype=torch.int64),\n",
       "  tensor([], dtype=torch.int64),\n",
       "  tensor([], dtype=torch.int64),\n",
       "  tensor([], size=(0, 1))),\n",
       " 9: (tensor([], dtype=torch.int64),\n",
       "  tensor([], dtype=torch.int64),\n",
       "  tensor([], dtype=torch.int64),\n",
       "  tensor([], dtype=torch.int64),\n",
       "  tensor([], size=(0, 1)))}"
      ]
     },
     "execution_count": 7,
     "metadata": {},
     "output_type": "execute_result"
    }
   ],
   "source": [
    "mem.msg_s_store"
   ]
  },
  {
   "cell_type": "code",
   "execution_count": 8,
   "metadata": {
    "scrolled": true
   },
   "outputs": [
    {
     "data": {
      "text/plain": [
       "{0: (tensor([2]), tensor([0]), tensor([9]), tensor([1]), tensor([[13.]])),\n",
       " 1: (tensor([], dtype=torch.int64),\n",
       "  tensor([], dtype=torch.int64),\n",
       "  tensor([], dtype=torch.int64),\n",
       "  tensor([], dtype=torch.int64),\n",
       "  tensor([], size=(0, 1))),\n",
       " 2: (tensor([], dtype=torch.int64),\n",
       "  tensor([], dtype=torch.int64),\n",
       "  tensor([], dtype=torch.int64),\n",
       "  tensor([], dtype=torch.int64),\n",
       "  tensor([], size=(0, 1))),\n",
       " 3: (tensor([0, 0, 1]),\n",
       "  tensor([3, 3, 3]),\n",
       "  tensor([8, 8, 8]),\n",
       "  tensor([1, 1, 1]),\n",
       "  tensor([[10.],\n",
       "          [20.],\n",
       "          [ 5.]])),\n",
       " 4: (tensor([], dtype=torch.int64),\n",
       "  tensor([], dtype=torch.int64),\n",
       "  tensor([], dtype=torch.int64),\n",
       "  tensor([], dtype=torch.int64),\n",
       "  tensor([], size=(0, 1))),\n",
       " 5: (tensor([], dtype=torch.int64),\n",
       "  tensor([], dtype=torch.int64),\n",
       "  tensor([], dtype=torch.int64),\n",
       "  tensor([], dtype=torch.int64),\n",
       "  tensor([], size=(0, 1))),\n",
       " 6: (tensor([], dtype=torch.int64),\n",
       "  tensor([], dtype=torch.int64),\n",
       "  tensor([], dtype=torch.int64),\n",
       "  tensor([], dtype=torch.int64),\n",
       "  tensor([], size=(0, 1))),\n",
       " 7: (tensor([], dtype=torch.int64),\n",
       "  tensor([], dtype=torch.int64),\n",
       "  tensor([], dtype=torch.int64),\n",
       "  tensor([], dtype=torch.int64),\n",
       "  tensor([], size=(0, 1))),\n",
       " 8: (tensor([], dtype=torch.int64),\n",
       "  tensor([], dtype=torch.int64),\n",
       "  tensor([], dtype=torch.int64),\n",
       "  tensor([], dtype=torch.int64),\n",
       "  tensor([], size=(0, 1))),\n",
       " 9: (tensor([], dtype=torch.int64),\n",
       "  tensor([], dtype=torch.int64),\n",
       "  tensor([], dtype=torch.int64),\n",
       "  tensor([], dtype=torch.int64),\n",
       "  tensor([], size=(0, 1)))}"
      ]
     },
     "execution_count": 8,
     "metadata": {},
     "output_type": "execute_result"
    }
   ],
   "source": [
    "mem.msg_d_store"
   ]
  },
  {
   "cell_type": "code",
   "execution_count": 9,
   "metadata": {
    "scrolled": true
   },
   "outputs": [
    {
     "data": {
      "text/plain": [
       "{0: (tensor([], dtype=torch.int64),\n",
       "  tensor([], dtype=torch.int64),\n",
       "  tensor([], dtype=torch.int64),\n",
       "  tensor([], dtype=torch.int64),\n",
       "  tensor([], size=(0, 1))),\n",
       " 1: (tensor([], dtype=torch.int64),\n",
       "  tensor([], dtype=torch.int64),\n",
       "  tensor([], dtype=torch.int64),\n",
       "  tensor([], dtype=torch.int64),\n",
       "  tensor([], size=(0, 1))),\n",
       " 2: (tensor([], dtype=torch.int64),\n",
       "  tensor([], dtype=torch.int64),\n",
       "  tensor([], dtype=torch.int64),\n",
       "  tensor([], dtype=torch.int64),\n",
       "  tensor([], size=(0, 1))),\n",
       " 3: (tensor([], dtype=torch.int64),\n",
       "  tensor([], dtype=torch.int64),\n",
       "  tensor([], dtype=torch.int64),\n",
       "  tensor([], dtype=torch.int64),\n",
       "  tensor([], size=(0, 1))),\n",
       " 4: (tensor([], dtype=torch.int64),\n",
       "  tensor([], dtype=torch.int64),\n",
       "  tensor([], dtype=torch.int64),\n",
       "  tensor([], dtype=torch.int64),\n",
       "  tensor([], size=(0, 1))),\n",
       " 5: (tensor([], dtype=torch.int64),\n",
       "  tensor([], dtype=torch.int64),\n",
       "  tensor([], dtype=torch.int64),\n",
       "  tensor([], dtype=torch.int64),\n",
       "  tensor([], size=(0, 1))),\n",
       " 6: (tensor([], dtype=torch.int64),\n",
       "  tensor([], dtype=torch.int64),\n",
       "  tensor([], dtype=torch.int64),\n",
       "  tensor([], dtype=torch.int64),\n",
       "  tensor([], size=(0, 1))),\n",
       " 7: (tensor([], dtype=torch.int64),\n",
       "  tensor([], dtype=torch.int64),\n",
       "  tensor([], dtype=torch.int64),\n",
       "  tensor([], dtype=torch.int64),\n",
       "  tensor([], size=(0, 1))),\n",
       " 8: (tensor([0, 0, 1]),\n",
       "  tensor([3, 3, 3]),\n",
       "  tensor([8, 8, 8]),\n",
       "  tensor([1, 1, 1]),\n",
       "  tensor([[10.],\n",
       "          [20.],\n",
       "          [ 5.]])),\n",
       " 9: (tensor([2]), tensor([0]), tensor([9]), tensor([1]), tensor([[13.]]))}"
      ]
     },
     "execution_count": 9,
     "metadata": {},
     "output_type": "execute_result"
    }
   ],
   "source": [
    "mem.msg_p_store"
   ]
  },
  {
   "cell_type": "code",
   "execution_count": 10,
   "metadata": {
    "scrolled": true
   },
   "outputs": [
    {
     "name": "stdout",
     "output_type": "stream",
     "text": [
      "msg_s tensor([[0.0000, 0.9801, 0.0000, 0.0000, 0.0000, 0.1751, 0.3486, 1.1994, 1.4253,\n",
      "         0.3512, 1.6287, 0.2486, 0.5403, 0.0000, 0.0036, 0.0000, 0.0000],\n",
      "        [0.0000, 1.1626, 0.0000, 0.0000, 0.0000, 0.1152, 0.4266, 1.1952, 0.9019,\n",
      "         0.2167, 1.7127, 0.2165, 1.1999, 0.0000, 0.0000, 0.0000, 0.0000],\n",
      "        [0.0000, 0.0000, 0.0000, 0.0000, 0.6544, 1.2596, 0.4593, 1.9518, 0.8186,\n",
      "         0.0000, 1.2689, 0.1537, 0.0000, 0.0000, 0.2257, 0.0000, 0.0000],\n",
      "        [0.0000, 1.1877, 0.0000, 0.0000, 0.0000, 0.0000, 0.1473, 0.4406, 0.0000,\n",
      "         0.0000, 1.8169, 0.0000, 2.3194, 0.0000, 0.1493, 0.0070, 0.0000]],\n",
      "       grad_fn=<ReluBackward0>)\n",
      "msg_d tensor([[0.0000, 1.1877, 0.0000, 0.0000, 0.0000, 0.0000, 0.1473, 0.4406, 0.0000,\n",
      "         0.0000, 1.8169, 0.0000, 2.3194, 0.0000, 0.1493, 0.0070, 0.0000],\n",
      "        [0.0000, 0.9801, 0.0000, 0.0000, 0.0000, 0.1751, 0.3486, 1.1994, 1.4253,\n",
      "         0.3512, 1.6287, 0.2486, 0.5403, 0.0000, 0.0036, 0.0000, 0.0000],\n",
      "        [0.0000, 1.1626, 0.0000, 0.0000, 0.0000, 0.1152, 0.4266, 1.1952, 0.9019,\n",
      "         0.2167, 1.7127, 0.2165, 1.1999, 0.0000, 0.0000, 0.0000, 0.0000],\n",
      "        [0.0000, 0.0000, 0.0000, 0.0000, 0.6544, 1.2596, 0.4593, 1.9518, 0.8186,\n",
      "         0.0000, 1.2689, 0.1537, 0.0000, 0.0000, 0.2257, 0.0000, 0.0000]],\n",
      "       grad_fn=<ReluBackward0>)\n",
      "msg_p tensor([[0.0000, 0.9801, 0.0000, 0.0000, 0.0000, 0.1751, 0.3486, 1.1994, 1.4253,\n",
      "         0.3512, 1.6287, 0.2486, 0.5403, 0.0000, 0.0036, 0.0000, 0.0000],\n",
      "        [0.0000, 1.1626, 0.0000, 0.0000, 0.0000, 0.1152, 0.4266, 1.1952, 0.9019,\n",
      "         0.2167, 1.7127, 0.2165, 1.1999, 0.0000, 0.0000, 0.0000, 0.0000],\n",
      "        [0.0000, 0.0000, 0.0000, 0.0000, 0.6544, 1.2596, 0.4593, 1.9518, 0.8186,\n",
      "         0.0000, 1.2689, 0.1537, 0.0000, 0.0000, 0.2257, 0.0000, 0.0000],\n",
      "        [0.0000, 1.1877, 0.0000, 0.0000, 0.0000, 0.0000, 0.1473, 0.4406, 0.0000,\n",
      "         0.0000, 1.8169, 0.0000, 2.3194, 0.0000, 0.1493, 0.0070, 0.0000]],\n",
      "       grad_fn=<ReluBackward0>)\n",
      "aggr tensor([[0.0000, 1.1101, 0.0000, 0.0000, 0.0000, 0.0968, 0.3075, 0.9451, 0.7758,\n",
      "         0.1893, 1.7194, 0.1550, 1.3532, 0.0000, 0.0510, 0.0023, 0.0000],\n",
      "        [0.0000, 0.0000, 0.0000, 0.0000, 0.6544, 1.2596, 0.4593, 1.9518, 0.8186,\n",
      "         0.0000, 1.2689, 0.1537, 0.0000, 0.0000, 0.2257, 0.0000, 0.0000],\n",
      "        [0.0000, 1.1877, 0.0000, 0.0000, 0.0000, 0.0000, 0.1473, 0.4406, 0.0000,\n",
      "         0.0000, 1.8169, 0.0000, 2.3194, 0.0000, 0.1493, 0.0070, 0.0000],\n",
      "        [0.0000, 0.7142, 0.0000, 0.0000, 0.2181, 0.5167, 0.4115, 1.4488, 1.0486,\n",
      "         0.1893, 1.5368, 0.2062, 0.5801, 0.0000, 0.0764, 0.0000, 0.0000],\n",
      "        [0.0000, 0.0000, 0.0000, 0.0000, 0.0000, 0.0000, 0.0000, 0.0000, 0.0000,\n",
      "         0.0000, 0.0000, 0.0000, 0.0000, 0.0000, 0.0000, 0.0000, 0.0000],\n",
      "        [0.0000, 0.0000, 0.0000, 0.0000, 0.0000, 0.0000, 0.0000, 0.0000, 0.0000,\n",
      "         0.0000, 0.0000, 0.0000, 0.0000, 0.0000, 0.0000, 0.0000, 0.0000],\n",
      "        [0.0000, 0.0000, 0.0000, 0.0000, 0.0000, 0.0000, 0.0000, 0.0000, 0.0000,\n",
      "         0.0000, 0.0000, 0.0000, 0.0000, 0.0000, 0.0000, 0.0000, 0.0000],\n",
      "        [0.0000, 0.0000, 0.0000, 0.0000, 0.0000, 0.0000, 0.0000, 0.0000, 0.0000,\n",
      "         0.0000, 0.0000, 0.0000, 0.0000, 0.0000, 0.0000, 0.0000, 0.0000],\n",
      "        [0.0000, 0.7142, 0.0000, 0.0000, 0.2181, 0.5167, 0.4115, 1.4488, 1.0486,\n",
      "         0.1893, 1.5368, 0.2062, 0.5801, 0.0000, 0.0764, 0.0000, 0.0000],\n",
      "        [0.0000, 1.1877, 0.0000, 0.0000, 0.0000, 0.0000, 0.1473, 0.4406, 0.0000,\n",
      "         0.0000, 1.8169, 0.0000, 2.3194, 0.0000, 0.1493, 0.0070, 0.0000]],\n",
      "       grad_fn=<DivBackward0>)\n",
      "memory tensor([[ 0.8160,  0.6607, -2.3491, -1.7818,  0.2681],\n",
      "        [ 0.4392,  0.3641,  0.8449, -0.3775,  0.3455],\n",
      "        [-0.1819,  0.3413, -0.9443,  0.3417,  0.2412],\n",
      "        [ 0.8868,  0.5851,  0.3247,  0.6831,  2.0582],\n",
      "        [-0.0807, -0.0544, -1.4065, -0.1904,  0.6187],\n",
      "        [ 0.8137,  1.2687,  0.9926,  0.7229, -0.0804],\n",
      "        [-1.1660, -0.5671,  0.2012, -1.1957,  0.2869],\n",
      "        [-1.3550,  0.0471,  0.1788, -0.9293,  0.6383],\n",
      "        [ 0.2796,  0.4626, -0.7522,  0.7771, -0.1053],\n",
      "        [ 0.7553,  0.2005,  0.1919, -0.5854,  1.1414]],\n",
      "       grad_fn=<IndexPutBackward0>)\n"
     ]
    }
   ],
   "source": [
    "# now get memory again - only nodes with interactions should've changed\n",
    "memory, last_update, loss = mem(n_id)  # test .forward()"
   ]
  },
  {
   "cell_type": "code",
   "execution_count": 12,
   "metadata": {},
   "outputs": [
    {
     "data": {
      "text/plain": [
       "tensor([[ 0.8160,  0.6607, -2.3491, -1.7818,  0.2681],\n",
       "        [ 0.4392,  0.3641,  0.8449, -0.3775,  0.3455],\n",
       "        [-0.1819,  0.3413, -0.9443,  0.3417,  0.2412],\n",
       "        [ 0.8868,  0.5851,  0.3247,  0.6831,  2.0582],\n",
       "        [ 0.2796,  0.4626, -0.7522,  0.7771, -0.1053],\n",
       "        [ 0.7553,  0.2005,  0.1919, -0.5854,  1.1414]],\n",
       "       grad_fn=<IndexBackward0>)"
      ]
     },
     "execution_count": 12,
     "metadata": {},
     "output_type": "execute_result"
    }
   ],
   "source": [
    "# had interactions\n",
    "memory[[0,1,2,3,8,9]]"
   ]
  },
  {
   "cell_type": "code",
   "execution_count": 13,
   "metadata": {},
   "outputs": [
    {
     "data": {
      "text/plain": [
       "tensor([[-0.0807, -0.0544, -1.4065, -0.1904,  0.6187],\n",
       "        [ 0.8137,  1.2687,  0.9926,  0.7229, -0.0804],\n",
       "        [-1.1660, -0.5671,  0.2012, -1.1957,  0.2869],\n",
       "        [-1.3550,  0.0471,  0.1788, -0.9293,  0.6383]],\n",
       "       grad_fn=<IndexBackward0>)"
      ]
     },
     "execution_count": 13,
     "metadata": {},
     "output_type": "execute_result"
    }
   ],
   "source": [
    "# didn't have interactions - should still be using init memory\n",
    "memory[[4,5,6,7]]"
   ]
  },
  {
   "cell_type": "code",
   "execution_count": 14,
   "metadata": {},
   "outputs": [
    {
     "data": {
      "text/plain": [
       "tensor([ 1,  1,  1,  1, -1, -1, -1, -1,  1,  1])"
      ]
     },
     "execution_count": 14,
     "metadata": {},
     "output_type": "execute_result"
    }
   ],
   "source": [
    "# should only be updated for nodes in transactions\n",
    "last_update"
   ]
  },
  {
   "cell_type": "code",
   "execution_count": 15,
   "metadata": {
    "scrolled": true
   },
   "outputs": [
    {
     "name": "stdout",
     "output_type": "stream",
     "text": [
      "msg_s tensor([[0.0000, 0.9801, 0.0000, 0.0000, 0.0000, 0.1751, 0.3486, 1.1994, 1.4253,\n",
      "         0.3512, 1.6287, 0.2486, 0.5403, 0.0000, 0.0036, 0.0000, 0.0000],\n",
      "        [0.0000, 1.1626, 0.0000, 0.0000, 0.0000, 0.1152, 0.4266, 1.1952, 0.9019,\n",
      "         0.2167, 1.7127, 0.2165, 1.1999, 0.0000, 0.0000, 0.0000, 0.0000],\n",
      "        [0.0000, 0.0000, 0.0000, 0.0000, 0.6544, 1.2596, 0.4593, 1.9518, 0.8186,\n",
      "         0.0000, 1.2689, 0.1537, 0.0000, 0.0000, 0.2257, 0.0000, 0.0000],\n",
      "        [0.0000, 1.1877, 0.0000, 0.0000, 0.0000, 0.0000, 0.1473, 0.4406, 0.0000,\n",
      "         0.0000, 1.8169, 0.0000, 2.3194, 0.0000, 0.1493, 0.0070, 0.0000]],\n",
      "       grad_fn=<ReluBackward0>)\n",
      "msg_d tensor([[0.0000, 1.1877, 0.0000, 0.0000, 0.0000, 0.0000, 0.1473, 0.4406, 0.0000,\n",
      "         0.0000, 1.8169, 0.0000, 2.3194, 0.0000, 0.1493, 0.0070, 0.0000],\n",
      "        [0.0000, 0.9801, 0.0000, 0.0000, 0.0000, 0.1751, 0.3486, 1.1994, 1.4253,\n",
      "         0.3512, 1.6287, 0.2486, 0.5403, 0.0000, 0.0036, 0.0000, 0.0000],\n",
      "        [0.0000, 1.1626, 0.0000, 0.0000, 0.0000, 0.1152, 0.4266, 1.1952, 0.9019,\n",
      "         0.2167, 1.7127, 0.2165, 1.1999, 0.0000, 0.0000, 0.0000, 0.0000],\n",
      "        [0.0000, 0.0000, 0.0000, 0.0000, 0.6544, 1.2596, 0.4593, 1.9518, 0.8186,\n",
      "         0.0000, 1.2689, 0.1537, 0.0000, 0.0000, 0.2257, 0.0000, 0.0000]],\n",
      "       grad_fn=<ReluBackward0>)\n",
      "msg_p tensor([[0.0000, 0.9801, 0.0000, 0.0000, 0.0000, 0.1751, 0.3486, 1.1994, 1.4253,\n",
      "         0.3512, 1.6287, 0.2486, 0.5403, 0.0000, 0.0036, 0.0000, 0.0000],\n",
      "        [0.0000, 1.1626, 0.0000, 0.0000, 0.0000, 0.1152, 0.4266, 1.1952, 0.9019,\n",
      "         0.2167, 1.7127, 0.2165, 1.1999, 0.0000, 0.0000, 0.0000, 0.0000],\n",
      "        [0.0000, 0.0000, 0.0000, 0.0000, 0.6544, 1.2596, 0.4593, 1.9518, 0.8186,\n",
      "         0.0000, 1.2689, 0.1537, 0.0000, 0.0000, 0.2257, 0.0000, 0.0000],\n",
      "        [0.0000, 1.1877, 0.0000, 0.0000, 0.0000, 0.0000, 0.1473, 0.4406, 0.0000,\n",
      "         0.0000, 1.8169, 0.0000, 2.3194, 0.0000, 0.1493, 0.0070, 0.0000]],\n",
      "       grad_fn=<ReluBackward0>)\n",
      "aggr tensor([[0.0000, 1.1101, 0.0000, 0.0000, 0.0000, 0.0968, 0.3075, 0.9451, 0.7758,\n",
      "         0.1893, 1.7194, 0.1550, 1.3532, 0.0000, 0.0510, 0.0023, 0.0000],\n",
      "        [0.0000, 0.0000, 0.0000, 0.0000, 0.6544, 1.2596, 0.4593, 1.9518, 0.8186,\n",
      "         0.0000, 1.2689, 0.1537, 0.0000, 0.0000, 0.2257, 0.0000, 0.0000],\n",
      "        [0.0000, 1.1877, 0.0000, 0.0000, 0.0000, 0.0000, 0.1473, 0.4406, 0.0000,\n",
      "         0.0000, 1.8169, 0.0000, 2.3194, 0.0000, 0.1493, 0.0070, 0.0000],\n",
      "        [0.0000, 0.7142, 0.0000, 0.0000, 0.2181, 0.5167, 0.4115, 1.4488, 1.0486,\n",
      "         0.1893, 1.5368, 0.2062, 0.5801, 0.0000, 0.0764, 0.0000, 0.0000],\n",
      "        [0.0000, 0.0000, 0.0000, 0.0000, 0.0000, 0.0000, 0.0000, 0.0000, 0.0000,\n",
      "         0.0000, 0.0000, 0.0000, 0.0000, 0.0000, 0.0000, 0.0000, 0.0000],\n",
      "        [0.0000, 0.0000, 0.0000, 0.0000, 0.0000, 0.0000, 0.0000, 0.0000, 0.0000,\n",
      "         0.0000, 0.0000, 0.0000, 0.0000, 0.0000, 0.0000, 0.0000, 0.0000],\n",
      "        [0.0000, 0.0000, 0.0000, 0.0000, 0.0000, 0.0000, 0.0000, 0.0000, 0.0000,\n",
      "         0.0000, 0.0000, 0.0000, 0.0000, 0.0000, 0.0000, 0.0000, 0.0000],\n",
      "        [0.0000, 0.0000, 0.0000, 0.0000, 0.0000, 0.0000, 0.0000, 0.0000, 0.0000,\n",
      "         0.0000, 0.0000, 0.0000, 0.0000, 0.0000, 0.0000, 0.0000, 0.0000],\n",
      "        [0.0000, 0.7142, 0.0000, 0.0000, 0.2181, 0.5167, 0.4115, 1.4488, 1.0486,\n",
      "         0.1893, 1.5368, 0.2062, 0.5801, 0.0000, 0.0764, 0.0000, 0.0000],\n",
      "        [0.0000, 1.1877, 0.0000, 0.0000, 0.0000, 0.0000, 0.1473, 0.4406, 0.0000,\n",
      "         0.0000, 1.8169, 0.0000, 2.3194, 0.0000, 0.1493, 0.0070, 0.0000]],\n",
      "       grad_fn=<DivBackward0>)\n",
      "memory tensor([[ 0.8160,  0.6607, -2.3491, -1.7818,  0.2681],\n",
      "        [ 0.4392,  0.3641,  0.8449, -0.3775,  0.3455],\n",
      "        [-0.1819,  0.3413, -0.9443,  0.3417,  0.2412],\n",
      "        [ 0.8868,  0.5851,  0.3247,  0.6831,  2.0582],\n",
      "        [-0.0807, -0.0544, -1.4065, -0.1904,  0.6187],\n",
      "        [ 0.8137,  1.2687,  0.9926,  0.7229, -0.0804],\n",
      "        [-1.1660, -0.5671,  0.2012, -1.1957,  0.2869],\n",
      "        [-1.3550,  0.0471,  0.1788, -0.9293,  0.6383],\n",
      "        [ 0.2796,  0.4626, -0.7522,  0.7771, -0.1053],\n",
      "        [ 0.7553,  0.2005,  0.1919, -0.5854,  1.1414]],\n",
      "       grad_fn=<IndexPutBackward0>)\n"
     ]
    }
   ],
   "source": [
    "# store latest memory, reset message store\n",
    "mem._update_memory(n_id)\n",
    "mem._reset_message_store()"
   ]
  },
  {
   "cell_type": "code",
   "execution_count": 16,
   "metadata": {},
   "outputs": [
    {
     "data": {
      "text/plain": [
       "tensor([[False, False, False, False, False],\n",
       "        [False, False, False, False, False],\n",
       "        [False, False, False, False, False],\n",
       "        [False, False, False, False, False],\n",
       "        [ True,  True,  True,  True,  True],\n",
       "        [ True,  True,  True,  True,  True],\n",
       "        [ True,  True,  True,  True,  True],\n",
       "        [ True,  True,  True,  True,  True],\n",
       "        [False, False, False, False, False],\n",
       "        [False, False, False, False, False]])"
      ]
     },
     "execution_count": 16,
     "metadata": {},
     "output_type": "execute_result"
    }
   ],
   "source": [
    "# should be equal when node hasn't had interactions\n",
    "mem.memory[:, :5] == mem.init_memory(n_id)"
   ]
  },
  {
   "cell_type": "code",
   "execution_count": 17,
   "metadata": {
    "scrolled": true
   },
   "outputs": [
    {
     "data": {
      "text/plain": [
       "{0: (tensor([], dtype=torch.int64),\n",
       "  tensor([], dtype=torch.int64),\n",
       "  tensor([], dtype=torch.int64),\n",
       "  tensor([], dtype=torch.int64),\n",
       "  tensor([], size=(0, 1))),\n",
       " 1: (tensor([], dtype=torch.int64),\n",
       "  tensor([], dtype=torch.int64),\n",
       "  tensor([], dtype=torch.int64),\n",
       "  tensor([], dtype=torch.int64),\n",
       "  tensor([], size=(0, 1))),\n",
       " 2: (tensor([], dtype=torch.int64),\n",
       "  tensor([], dtype=torch.int64),\n",
       "  tensor([], dtype=torch.int64),\n",
       "  tensor([], dtype=torch.int64),\n",
       "  tensor([], size=(0, 1))),\n",
       " 3: (tensor([], dtype=torch.int64),\n",
       "  tensor([], dtype=torch.int64),\n",
       "  tensor([], dtype=torch.int64),\n",
       "  tensor([], dtype=torch.int64),\n",
       "  tensor([], size=(0, 1))),\n",
       " 4: (tensor([], dtype=torch.int64),\n",
       "  tensor([], dtype=torch.int64),\n",
       "  tensor([], dtype=torch.int64),\n",
       "  tensor([], dtype=torch.int64),\n",
       "  tensor([], size=(0, 1))),\n",
       " 5: (tensor([], dtype=torch.int64),\n",
       "  tensor([], dtype=torch.int64),\n",
       "  tensor([], dtype=torch.int64),\n",
       "  tensor([], dtype=torch.int64),\n",
       "  tensor([], size=(0, 1))),\n",
       " 6: (tensor([], dtype=torch.int64),\n",
       "  tensor([], dtype=torch.int64),\n",
       "  tensor([], dtype=torch.int64),\n",
       "  tensor([], dtype=torch.int64),\n",
       "  tensor([], size=(0, 1))),\n",
       " 7: (tensor([], dtype=torch.int64),\n",
       "  tensor([], dtype=torch.int64),\n",
       "  tensor([], dtype=torch.int64),\n",
       "  tensor([], dtype=torch.int64),\n",
       "  tensor([], size=(0, 1))),\n",
       " 8: (tensor([], dtype=torch.int64),\n",
       "  tensor([], dtype=torch.int64),\n",
       "  tensor([], dtype=torch.int64),\n",
       "  tensor([], dtype=torch.int64),\n",
       "  tensor([], size=(0, 1))),\n",
       " 9: (tensor([], dtype=torch.int64),\n",
       "  tensor([], dtype=torch.int64),\n",
       "  tensor([], dtype=torch.int64),\n",
       "  tensor([], dtype=torch.int64),\n",
       "  tensor([], size=(0, 1)))}"
      ]
     },
     "execution_count": 17,
     "metadata": {},
     "output_type": "execute_result"
    }
   ],
   "source": [
    "# should be empty\n",
    "mem.msg_s_store"
   ]
  },
  {
   "cell_type": "code",
   "execution_count": 18,
   "metadata": {},
   "outputs": [
    {
     "data": {
      "text/plain": [
       "tensor([ 1,  1,  1,  1, -1, -1, -1, -1,  1,  1])"
      ]
     },
     "execution_count": 18,
     "metadata": {},
     "output_type": "execute_result"
    }
   ],
   "source": [
    "# shouldn't have changed\n",
    "mem.last_update"
   ]
  },
  {
   "cell_type": "markdown",
   "metadata": {},
   "source": [
    "# Test Neighbor Loader"
   ]
  },
  {
   "cell_type": "code",
   "execution_count": 19,
   "metadata": {},
   "outputs": [
    {
     "name": "stdout",
     "output_type": "stream",
     "text": [
      "torch.Size([9, 2])\n",
      "torch.Size([9, 2])\n",
      "torch.Size([9])\n"
     ]
    }
   ],
   "source": [
    "# Test init\n",
    "num_nodes = 9\n",
    "num_neighbors = 2\n",
    "all_nid = torch.arange(9).long()\n",
    "fid = torch.arange(6).long()  # firm ids\n",
    "pid = torch.arange(6,9).long()  # prod ids\n",
    "neighbor_loader = LastNeighborLoaderTGNPL(num_nodes, size=num_neighbors)\n",
    "print(neighbor_loader.neighbors.shape)\n",
    "print(neighbor_loader.e_id.shape)\n",
    "print(neighbor_loader._assoc.shape)\n",
    "self = neighbor_loader"
   ]
  },
  {
   "cell_type": "code",
   "execution_count": 20,
   "metadata": {},
   "outputs": [
    {
     "name": "stdout",
     "output_type": "stream",
     "text": [
      "tensor(0) tensor([        6, 139976432]) tensor([ 0, -1])\n",
      "tensor(1) tensor([7, 0]) tensor([ 2, -1])\n",
      "tensor(2) tensor([              8, 139644797086728]) tensor([ 4, -1])\n",
      "tensor(3) tensor([              6, 139644808583664]) tensor([ 1, -1])\n",
      "tensor(4) tensor([        7, 140002544]) tensor([ 3, -1])\n",
      "tensor(5) tensor([        8, 139966464]) tensor([ 5, -1])\n",
      "tensor(6) tensor([3, 0]) tensor([1, 0])\n",
      "tensor(7) tensor([4, 1]) tensor([3, 2])\n",
      "tensor(8) tensor([5, 2]) tensor([5, 4])\n"
     ]
    }
   ],
   "source": [
    "# Test insert\n",
    "src = torch.Tensor([0, 1, 2]).to(torch.long)\n",
    "dst = torch.Tensor([3, 4, 5]).to(torch.long)\n",
    "prod = torch.Tensor([6, 7, 8]).to(torch.long)\n",
    "neighbor_loader.insert(src, dst, prod)\n",
    "\n",
    "# Ground truth neighbors\n",
    "# 0: 6; 1: 7; 2: 8; 3: 6; 4: 7; 5: 8; 6: 3,0; 7: 4,1; 8: 5,2\n",
    "for i in all_nid:\n",
    "    print(i, self.neighbors[i], self.e_id[i])"
   ]
  },
  {
   "cell_type": "code",
   "execution_count": 21,
   "metadata": {},
   "outputs": [
    {
     "name": "stdout",
     "output_type": "stream",
     "text": [
      "tensor([0, 1, 2, 3, 4, 5, 6, 7, 8]) torch.Size([9])\n",
      "torch.Size([2, 12]) torch.Size([12])\n",
      "6 -> 0; e_id = 0\n",
      "7 -> 1; e_id = 2\n",
      "8 -> 2; e_id = 4\n",
      "6 -> 3; e_id = 1\n",
      "7 -> 4; e_id = 3\n",
      "8 -> 5; e_id = 5\n",
      "3 -> 6; e_id = 1\n",
      "0 -> 6; e_id = 0\n",
      "4 -> 7; e_id = 3\n",
      "1 -> 7; e_id = 2\n",
      "5 -> 8; e_id = 5\n",
      "2 -> 8; e_id = 4\n"
     ]
    }
   ],
   "source": [
    "# Test _call_\n",
    "n_id, edge_index, e_id = neighbor_loader(fid, pid)\n",
    "# Ground truth edges (x2, for all)\n",
    "# 0-6, 3-6, 1-7, 4-7, 2-8, 5-8\n",
    "print(n_id, n_id.shape)\n",
    "print(edge_index.shape, e_id.shape)\n",
    "for i in range(edge_index.size(1)):\n",
    "    print(f'{edge_index[0,i]} -> {edge_index[1,i]}; e_id = {e_id[i]}')"
   ]
  },
  {
   "cell_type": "code",
   "execution_count": 22,
   "metadata": {},
   "outputs": [
    {
     "name": "stdout",
     "output_type": "stream",
     "text": [
      "tensor(0) tensor([6, 6]) tensor([6, 0])\n",
      "tensor(1) tensor([6, 7]) tensor([7, 2])\n",
      "tensor(2) tensor([              8, 139644797086728]) tensor([ 4, -1])\n",
      "tensor(3) tensor([              6, 139644808583664]) tensor([ 1, -1])\n",
      "tensor(4) tensor([        7, 140002544]) tensor([ 3, -1])\n",
      "tensor(5) tensor([        8, 139966464]) tensor([ 5, -1])\n",
      "tensor(6) tensor([1, 0]) tensor([7, 6])\n",
      "tensor(7) tensor([4, 1]) tensor([3, 2])\n",
      "tensor(8) tensor([5, 2]) tensor([5, 4])\n"
     ]
    }
   ],
   "source": [
    "# Test insert again\n",
    "src = torch.Tensor([0]).to(torch.long)\n",
    "dst = torch.Tensor([1]).to(torch.long)\n",
    "prod = torch.Tensor([6]).to(torch.long)\n",
    "neighbor_loader.insert(src, dst, prod)\n",
    "\n",
    "# Ground truth neighbors - 0 and 1 have extra neighbor, 6 replaced old neighbors with new neighbors\n",
    "# 0: 6,6; 1: 6,7; 2: 8; 3: 6; 4: 7; 5: 8; 6: 1,0; 7: 4,1; 8: 5,2\n",
    "for i in all_nid:\n",
    "    print(i, self.neighbors[i], self.e_id[i])  # This is correct"
   ]
  },
  {
   "cell_type": "code",
   "execution_count": 23,
   "metadata": {},
   "outputs": [
    {
     "name": "stdout",
     "output_type": "stream",
     "text": [
      "tensor([0, 1, 2, 3, 4, 5, 6, 7, 8]) torch.Size([9])\n",
      "torch.Size([2, 14]) torch.Size([14])\n",
      "6 -> 0; e_id = 6\n",
      "6 -> 0; e_id = 0\n",
      "6 -> 1; e_id = 7\n",
      "7 -> 1; e_id = 2\n",
      "8 -> 2; e_id = 4\n",
      "6 -> 3; e_id = 1\n",
      "7 -> 4; e_id = 3\n",
      "8 -> 5; e_id = 5\n",
      "1 -> 6; e_id = 7\n",
      "0 -> 6; e_id = 6\n",
      "4 -> 7; e_id = 3\n",
      "1 -> 7; e_id = 2\n",
      "5 -> 8; e_id = 5\n",
      "2 -> 8; e_id = 4\n"
     ]
    }
   ],
   "source": [
    "# Test _call_\n",
    "n_id, edge_index, e_id = neighbor_loader(fid, pid)\n",
    "# Ground truth edges (x2, for all except first 0-6 and 3-6)\n",
    "# 0-6, 3-6, 1-7, 4-7, 2-8, 5-8, 0-6, 1-6\n",
    "print(n_id, n_id.shape)\n",
    "print(edge_index.shape, e_id.shape)\n",
    "for i in range(edge_index.size(1)):\n",
    "    print(f'{edge_index[0,i]} -> {edge_index[1,i]}; e_id = {e_id[i]}')  # This is correct"
   ]
  },
  {
   "cell_type": "code",
   "execution_count": 24,
   "metadata": {},
   "outputs": [
    {
     "name": "stdout",
     "output_type": "stream",
     "text": [
      "tensor([0, 1, 6])\n",
      "1 -> 2; e_id = 7\n",
      "0 -> 2; e_id = 6\n"
     ]
    }
   ],
   "source": [
    "# Test calling a subset of nodes\n",
    "n_id, edge_index, e_id = neighbor_loader(torch.Tensor([]).long(), torch.Tensor([6]).long())\n",
    "print(n_id)\n",
    "for i in range(edge_index.size(1)):\n",
    "    print(f'{edge_index[0,i]} -> {edge_index[1,i]}; e_id = {e_id[i]}')  # This is correct - reindexing matches up"
   ]
  },
  {
   "cell_type": "markdown",
   "metadata": {},
   "source": [
    "# Test inventory module"
   ]
  },
  {
   "cell_type": "code",
   "execution_count": 12,
   "metadata": {},
   "outputs": [
    {
     "name": "stdout",
     "output_type": "stream",
     "text": [
      "tensor([[1., 1., 1.],\n",
      "        [1., 1., 1.],\n",
      "        [1., 1., 1.]])\n",
      "Parameter containing:\n",
      "tensor([[0.5877, 0.1735, 0.7540],\n",
      "        [0.1679, 0.9280, 0.9383],\n",
      "        [0.4877, 0.2799, 0.7242]], requires_grad=True)\n"
     ]
    }
   ],
   "source": [
    "num_firms = 3\n",
    "num_prods = 3\n",
    "module = TGNPLInventory(num_firms, num_prods, learn_att_direct=True)\n",
    "print(module.inventory)\n",
    "print(module.att_weights)"
   ]
  },
  {
   "cell_type": "code",
   "execution_count": 3,
   "metadata": {},
   "outputs": [
    {
     "data": {
      "text/plain": [
       "tensor([[0., 0., 0.],\n",
       "        [0., 0., 1.],\n",
       "        [0., 0., 0.]])"
      ]
     },
     "execution_count": 3,
     "metadata": {},
     "output_type": "execute_result"
    }
   ],
   "source": [
    "src = t.Tensor([1]).long()\n",
    "dst = t.Tensor([2]).long()\n",
    "prod = t.Tensor([5]).long()\n",
    "raw_msg = t.Tensor([1]).reshape(-1, 1)\n",
    "module._compute_totals_per_firm_and_product(src, prod, raw_msg)"
   ]
  },
  {
   "cell_type": "code",
   "execution_count": 4,
   "metadata": {},
   "outputs": [
    {
     "data": {
      "text/plain": [
       "tensor([[0., 0., 0.],\n",
       "        [0., 0., 0.],\n",
       "        [0., 0., 1.]])"
      ]
     },
     "execution_count": 4,
     "metadata": {},
     "output_type": "execute_result"
    }
   ],
   "source": [
    "module._compute_totals_per_firm_and_product(dst, prod, raw_msg)"
   ]
  },
  {
   "cell_type": "code",
   "execution_count": 5,
   "metadata": {},
   "outputs": [
    {
     "name": "stdout",
     "output_type": "stream",
     "text": [
      "tensor([[1.0000, 1.0000, 1.0000],\n",
      "        [0.0773, 0.8896, 0.8109],\n",
      "        [1.0000, 1.0000, 2.0000]], grad_fn=<ClampBackward1>)\n"
     ]
    }
   ],
   "source": [
    "loss = module(src, dst, prod, raw_msg)\n",
    "print(module.inventory)"
   ]
  },
  {
   "cell_type": "code",
   "execution_count": 6,
   "metadata": {},
   "outputs": [
    {
     "data": {
      "text/plain": [
       "tensor(-1.2222, grad_fn=<DivBackward0>)"
      ]
     },
     "execution_count": 6,
     "metadata": {},
     "output_type": "execute_result"
    }
   ],
   "source": [
    "loss"
   ]
  },
  {
   "cell_type": "code",
   "execution_count": 13,
   "metadata": {
    "scrolled": true
   },
   "outputs": [
    {
     "name": "stdout",
     "output_type": "stream",
     "text": [
      "i=0 -> loss = -1.259\n",
      "tensor([[0.5877, 0.1735, 0.7540],\n",
      "        [0.1679, 0.9280, 0.9383],\n",
      "        [0.4877, 0.2799, 0.7242]])\n",
      "\n",
      "i=100 -> loss = 44.634\n",
      "tensor([[0.5176, 0.1034, 0.6839],\n",
      "        [0.0977, 0.8579, 0.8682],\n",
      "        [0.5585, 0.3507, 0.6566]])\n",
      "\n",
      "i=200 -> loss = 38.898\n",
      "tensor([[0.4467, 0.0326, 0.6130],\n",
      "        [0.0269, 0.7871, 0.7974],\n",
      "        [0.6291, 0.4213, 0.5856]])\n",
      "\n",
      "i=300 -> loss = 34.278\n",
      "tensor([[ 0.3760, -0.0068,  0.5423],\n",
      "        [-0.0068,  0.7163,  0.7266],\n",
      "        [ 0.6998,  0.4919,  0.5147]])\n",
      "\n",
      "i=400 -> loss = 30.457\n",
      "tensor([[ 0.3052, -0.0068,  0.4715],\n",
      "        [-0.0068,  0.6456,  0.6559],\n",
      "        [ 0.7704,  0.5626,  0.4439]])\n",
      "\n",
      "i=500 -> loss = 26.637\n",
      "tensor([[ 0.2345, -0.0068,  0.4008],\n",
      "        [-0.0068,  0.5748,  0.5851],\n",
      "        [ 0.8411,  0.6333,  0.3731]])\n",
      "\n",
      "i=600 -> loss = 22.818\n",
      "tensor([[ 0.1637, -0.0068,  0.3301],\n",
      "        [-0.0068,  0.5041,  0.5144],\n",
      "        [ 0.9118,  0.7040,  0.3023]])\n",
      "\n",
      "i=700 -> loss = 18.998\n",
      "tensor([[ 0.0930, -0.0068,  0.2593],\n",
      "        [-0.0068,  0.4334,  0.4437],\n",
      "        [ 0.9825,  0.7747,  0.2315]])\n",
      "\n",
      "i=800 -> loss = 15.179\n",
      "tensor([[ 0.0223, -0.0068,  0.1886],\n",
      "        [-0.0068,  0.3627,  0.3730],\n",
      "        [ 1.0532,  0.8454,  0.1608]])\n",
      "\n",
      "i=900 -> loss = 11.789\n",
      "tensor([[-0.0071, -0.0068,  0.1179],\n",
      "        [-0.0068,  0.2919,  0.3022],\n",
      "        [ 1.1239,  0.9161,  0.0900]])\n",
      "\n",
      "i=1000 -> loss = 8.607\n",
      "tensor([[-0.0071, -0.0068,  0.0472],\n",
      "        [-0.0068,  0.2212,  0.2315],\n",
      "        [ 1.1946,  0.9868,  0.0193]])\n",
      "\n",
      "i=1100 -> loss = 5.630\n",
      "tensor([[-0.0071, -0.0068, -0.0061],\n",
      "        [-0.0068,  0.1505,  0.1608],\n",
      "        [ 1.2653,  1.0575, -0.0066]])\n",
      "\n",
      "i=1200 -> loss = 3.084\n",
      "tensor([[-0.0071, -0.0068, -0.0063],\n",
      "        [-0.0068,  0.0798,  0.0901],\n",
      "        [ 1.3360,  1.1282, -0.0066]])\n",
      "\n",
      "i=1300 -> loss = 0.538\n",
      "tensor([[-0.0071, -0.0068, -0.0063],\n",
      "        [-0.0068,  0.0091,  0.0194],\n",
      "        [ 1.4067,  1.1989, -0.0066]])\n",
      "\n",
      "i=1400 -> loss = 0.000\n",
      "tensor([[-0.0071, -0.0068, -0.0063],\n",
      "        [-0.0068, -0.0062, -0.0072],\n",
      "        [ 1.4774,  1.2696, -0.0066]])\n",
      "\n",
      "i=1500 -> loss = 0.000\n",
      "tensor([[-0.0071, -0.0068, -0.0063],\n",
      "        [-0.0068, -0.0062, -0.0072],\n",
      "        [ 1.5481,  1.3403, -0.0066]])\n",
      "\n",
      "i=1600 -> loss = 0.000\n",
      "tensor([[-0.0071, -0.0068, -0.0063],\n",
      "        [-0.0068, -0.0062, -0.0072],\n",
      "        [ 1.6188,  1.4110, -0.0066]])\n",
      "\n",
      "i=1700 -> loss = 0.000\n",
      "tensor([[-0.0071, -0.0068, -0.0063],\n",
      "        [-0.0068, -0.0062, -0.0072],\n",
      "        [ 1.6895,  1.4817, -0.0066]])\n",
      "\n",
      "i=1800 -> loss = 0.000\n",
      "tensor([[-0.0071, -0.0068, -0.0063],\n",
      "        [-0.0068, -0.0062, -0.0072],\n",
      "        [ 1.7602,  1.5524, -0.0066]])\n",
      "\n",
      "i=1900 -> loss = 0.000\n",
      "tensor([[-0.0071, -0.0068, -0.0063],\n",
      "        [-0.0068, -0.0062, -0.0072],\n",
      "        [ 1.8309,  1.6231, -0.0066]])\n",
      "\n",
      "i=2000 -> loss = 0.000\n",
      "tensor([[-0.0071, -0.0068, -0.0063],\n",
      "        [-0.0068, -0.0062, -0.0072],\n",
      "        [ 1.9016,  1.6938, -0.0066]])\n",
      "\n",
      "i=2100 -> loss = 0.000\n",
      "tensor([[-0.0071, -0.0068, -0.0063],\n",
      "        [-0.0068, -0.0062, -0.0072],\n",
      "        [ 1.9723,  1.7645, -0.0066]])\n",
      "\n",
      "i=2200 -> loss = 0.000\n",
      "tensor([[-0.0071, -0.0068, -0.0063],\n",
      "        [-0.0068, -0.0062, -0.0072],\n",
      "        [ 2.0430,  1.8352, -0.0066]])\n",
      "\n",
      "i=2300 -> loss = 0.000\n",
      "tensor([[-0.0071, -0.0068, -0.0063],\n",
      "        [-0.0068, -0.0062, -0.0072],\n",
      "        [ 2.1137,  1.9059, -0.0066]])\n",
      "\n",
      "i=2400 -> loss = 0.000\n",
      "tensor([[-0.0071, -0.0068, -0.0063],\n",
      "        [-0.0068, -0.0062, -0.0072],\n",
      "        [ 2.1844,  1.9766, -0.0066]])\n",
      "\n",
      "i=2500 -> loss = 0.000\n",
      "tensor([[-0.0071, -0.0068, -0.0063],\n",
      "        [-0.0068, -0.0062, -0.0072],\n",
      "        [ 2.2552,  2.0474, -0.0066]])\n",
      "\n",
      "i=2600 -> loss = 0.000\n",
      "tensor([[-0.0071, -0.0068, -0.0063],\n",
      "        [-0.0068, -0.0062, -0.0072],\n",
      "        [ 2.3259,  2.1181, -0.0066]])\n",
      "\n",
      "i=2700 -> loss = 0.000\n",
      "tensor([[-0.0071, -0.0068, -0.0063],\n",
      "        [-0.0068, -0.0062, -0.0072],\n",
      "        [ 2.3966,  2.1888, -0.0066]])\n",
      "\n",
      "i=2800 -> loss = 0.000\n",
      "tensor([[-0.0071, -0.0068, -0.0063],\n",
      "        [-0.0068, -0.0062, -0.0072],\n",
      "        [ 2.4673,  2.2595, -0.0066]])\n",
      "\n",
      "i=2900 -> loss = 0.000\n",
      "tensor([[-0.0071, -0.0068, -0.0063],\n",
      "        [-0.0068, -0.0062, -0.0072],\n",
      "        [ 2.5380,  2.3302, -0.0066]])\n",
      "\n",
      "i=3000 -> loss = 0.000\n",
      "tensor([[-0.0071, -0.0068, -0.0063],\n",
      "        [-0.0068, -0.0062, -0.0072],\n",
      "        [ 2.6087,  2.4009, -0.0066]])\n",
      "\n",
      "i=3100 -> loss = 0.000\n",
      "tensor([[-0.0071, -0.0068, -0.0063],\n",
      "        [-0.0068, -0.0062, -0.0072],\n",
      "        [ 2.6794,  2.4716, -0.0066]])\n",
      "\n",
      "i=3200 -> loss = 0.000\n",
      "tensor([[-0.0071, -0.0068, -0.0063],\n",
      "        [-0.0068, -0.0062, -0.0072],\n",
      "        [ 2.7501,  2.5423, -0.0066]])\n",
      "\n",
      "i=3300 -> loss = 0.000\n",
      "tensor([[-0.0071, -0.0068, -0.0063],\n",
      "        [-0.0068, -0.0062, -0.0072],\n",
      "        [ 2.8208,  2.6130, -0.0066]])\n",
      "\n",
      "i=3400 -> loss = 0.000\n",
      "tensor([[-0.0071, -0.0068, -0.0063],\n",
      "        [-0.0068, -0.0062, -0.0072],\n",
      "        [ 2.8915,  2.6837, -0.0066]])\n",
      "\n",
      "i=3500 -> loss = 0.000\n",
      "tensor([[-0.0071, -0.0068, -0.0063],\n",
      "        [-0.0068, -0.0062, -0.0072],\n",
      "        [ 2.9622,  2.7544, -0.0066]])\n",
      "\n",
      "i=3600 -> loss = 0.000\n",
      "tensor([[-0.0071, -0.0068, -0.0063],\n",
      "        [-0.0068, -0.0062, -0.0072],\n",
      "        [ 3.0329,  2.8251, -0.0066]])\n",
      "\n",
      "i=3700 -> loss = 0.000\n",
      "tensor([[-0.0071, -0.0068, -0.0063],\n",
      "        [-0.0068, -0.0062, -0.0072],\n",
      "        [ 3.1036,  2.8958, -0.0066]])\n",
      "\n",
      "i=3800 -> loss = 0.000\n",
      "tensor([[-0.0071, -0.0068, -0.0063],\n",
      "        [-0.0068, -0.0062, -0.0072],\n",
      "        [ 3.1743,  2.9665, -0.0066]])\n",
      "\n",
      "i=3900 -> loss = 0.000\n",
      "tensor([[-0.0071, -0.0068, -0.0063],\n",
      "        [-0.0068, -0.0062, -0.0072],\n",
      "        [ 3.2450,  3.0372, -0.0066]])\n",
      "\n",
      "i=4000 -> loss = 0.000\n",
      "tensor([[-0.0071, -0.0068, -0.0063],\n",
      "        [-0.0068, -0.0062, -0.0072],\n",
      "        [ 3.3157,  3.1079, -0.0066]])\n",
      "\n",
      "i=4100 -> loss = 0.000\n",
      "tensor([[-0.0071, -0.0068, -0.0063],\n",
      "        [-0.0068, -0.0062, -0.0072],\n",
      "        [ 3.3864,  3.1786, -0.0066]])\n",
      "\n",
      "i=4200 -> loss = 0.000\n",
      "tensor([[-0.0071, -0.0068, -0.0063],\n",
      "        [-0.0068, -0.0062, -0.0072],\n",
      "        [ 3.4571,  3.2493, -0.0066]])\n",
      "\n",
      "i=4300 -> loss = 0.000\n",
      "tensor([[-0.0071, -0.0068, -0.0063],\n",
      "        [-0.0068, -0.0062, -0.0072],\n",
      "        [ 3.4530,  3.3200, -0.0066]])\n",
      "\n",
      "i=4400 -> loss = 0.000\n",
      "tensor([[-0.0071, -0.0068, -0.0063],\n",
      "        [-0.0068, -0.0062, -0.0072],\n",
      "        [ 3.1982,  3.3907, -0.0066]])\n",
      "\n",
      "i=4500 -> loss = 0.000\n",
      "tensor([[-0.0071, -0.0068, -0.0063],\n",
      "        [-0.0068, -0.0062, -0.0072],\n",
      "        [ 3.0258,  3.4614, -0.0066]])\n",
      "\n",
      "i=4600 -> loss = 0.000\n",
      "tensor([[-0.0071, -0.0068, -0.0063],\n",
      "        [-0.0068, -0.0062, -0.0072],\n",
      "        [ 2.8842,  3.5321, -0.0066]])\n",
      "\n",
      "i=4700 -> loss = 0.000\n",
      "tensor([[-0.0071, -0.0068, -0.0063],\n",
      "        [-0.0068, -0.0062, -0.0072],\n",
      "        [ 2.7595,  3.6028, -0.0066]])\n",
      "\n",
      "i=4800 -> loss = 0.000\n",
      "tensor([[-0.0071, -0.0068, -0.0063],\n",
      "        [-0.0068, -0.0062, -0.0072],\n",
      "        [ 2.6458,  3.6735, -0.0066]])\n",
      "\n",
      "i=4900 -> loss = 0.000\n",
      "tensor([[-0.0071, -0.0068, -0.0063],\n",
      "        [-0.0068, -0.0062, -0.0072],\n",
      "        [ 2.5400,  3.7442, -0.0066]])\n",
      "\n",
      "i=5000 -> loss = 0.000\n",
      "tensor([[-0.0071, -0.0068, -0.0063],\n",
      "        [-0.0068, -0.0062, -0.0072],\n",
      "        [ 2.4399,  3.8149, -0.0066]])\n",
      "\n"
     ]
    }
   ],
   "source": [
    "# need products 3 and 4 to make 5\n",
    "# att weights should have nonzero in 3,1 and/or 3,2 - this works\n",
    "opt = torch.optim.Adam(module.parameters())\n",
    "losses = []\n",
    "for i in range(0, 5001):\n",
    "    opt.zero_grad()\n",
    "    if (i % 2) == 0:\n",
    "        # 1 sells 5 to 2\n",
    "        src = t.Tensor([1]).long()\n",
    "        dst = t.Tensor([2]).long()\n",
    "        prod = t.Tensor([5]).long()\n",
    "        raw_msg = t.Tensor([1]).reshape(-1, 1)\n",
    "    else:\n",
    "        # 1 buys 3 and 4 from 0\n",
    "        src = t.Tensor([0, 0]).long()\n",
    "        dst = t.Tensor([1, 1]).long()\n",
    "        prod = t.Tensor([3, 4]).long()\n",
    "        raw_msg = t.Tensor([2, 4]).reshape(-1, 1)\n",
    "    if (i%100) == 0:\n",
    "        print('i=%d -> loss = %.3f' % (i, float(loss)))\n",
    "        print(module.att_weights.data)\n",
    "        print()\n",
    "    loss = module(src, dst, prod, raw_msg)\n",
    "    loss.backward(retain_graph=False)\n",
    "    opt.step()\n",
    "    module.detach()\n",
    "    losses.append(float(loss))"
   ]
  },
  {
   "cell_type": "code",
   "execution_count": 18,
   "metadata": {},
   "outputs": [
    {
     "name": "stdout",
     "output_type": "stream",
     "text": [
      "Parameter containing:\n",
      "tensor([[0.3364, 0.5904, 0.8218],\n",
      "        [0.6400, 0.1977, 0.7878],\n",
      "        [0.6339, 0.0069, 0.1946]], requires_grad=True)\n"
     ]
    },
    {
     "data": {
      "text/plain": [
       "tensor([[1., 0., 0.],\n",
       "        [0., 1., 0.],\n",
       "        [0., 0., 1.]])"
      ]
     },
     "execution_count": 18,
     "metadata": {},
     "output_type": "execute_result"
    }
   ],
   "source": [
    "# test learning attention weights with product embeddings\n",
    "# use one-hot, should produce the same results\n",
    "module = TGNPLInventory(num_firms, num_prods, learn_att_direct=False, emb_dim=3)\n",
    "print(module.prod_bilinear)\n",
    "embs = torch.eye(3)\n",
    "embs"
   ]
  },
  {
   "cell_type": "code",
   "execution_count": 21,
   "metadata": {},
   "outputs": [
    {
     "name": "stdout",
     "output_type": "stream",
     "text": [
      "i=0 -> loss = -1.856\n",
      "tensor([[0.3364, 0.5904, 0.8218],\n",
      "        [0.6400, 0.1977, 0.7878],\n",
      "        [0.6339, 0.0069, 0.1946]])\n",
      "\n",
      "i=100 -> loss = 39.378\n",
      "tensor([[0.2663, 0.5203, 0.7517],\n",
      "        [0.5699, 0.1276, 0.7177],\n",
      "        [0.7047, 0.0777, 0.1356]])\n",
      "\n",
      "i=200 -> loss = 33.642\n",
      "tensor([[0.1955, 0.4495, 0.6809],\n",
      "        [0.4991, 0.0568, 0.6468],\n",
      "        [0.7753, 0.1483, 0.0627]])\n",
      "\n",
      "i=300 -> loss = 28.148\n",
      "tensor([[ 0.1247,  0.3787,  0.6101],\n",
      "        [ 0.4283, -0.0058,  0.5761],\n",
      "        [ 0.8460,  0.2190, -0.0051]])\n",
      "\n",
      "i=400 -> loss = 23.690\n",
      "tensor([[ 0.0540,  0.3080,  0.5393],\n",
      "        [ 0.3575, -0.0067,  0.5053],\n",
      "        [ 0.9166,  0.2896, -0.0069]])\n",
      "\n",
      "i=500 -> loss = 19.378\n",
      "tensor([[-0.0060,  0.2372,  0.4686],\n",
      "        [ 0.2868, -0.0067,  0.4346],\n",
      "        [ 0.9873,  0.3603, -0.0069]])\n",
      "\n",
      "i=600 -> loss = 15.558\n",
      "tensor([[-0.0065,  0.1665,  0.3979],\n",
      "        [ 0.2161, -0.0067,  0.3639],\n",
      "        [ 1.0580,  0.4310, -0.0069]])\n",
      "\n",
      "i=700 -> loss = 11.739\n",
      "tensor([[-0.0065,  0.0958,  0.3271],\n",
      "        [ 0.1453, -0.0067,  0.2931],\n",
      "        [ 1.1287,  0.5017, -0.0069]])\n",
      "\n",
      "i=800 -> loss = 7.920\n",
      "tensor([[-0.0065,  0.0251,  0.2564],\n",
      "        [ 0.0746, -0.0067,  0.2224],\n",
      "        [ 1.1994,  0.5724, -0.0069]])\n",
      "\n",
      "i=900 -> loss = 4.505\n",
      "tensor([[-0.0065, -0.0072,  0.1857],\n",
      "        [ 0.0039, -0.0067,  0.1517],\n",
      "        [ 1.2701,  0.6431, -0.0069]])\n",
      "\n",
      "i=1000 -> loss = 2.512\n",
      "tensor([[-0.0065, -0.0072,  0.1150],\n",
      "        [-0.0071, -0.0067,  0.0810],\n",
      "        [ 1.3408,  0.7138, -0.0069]])\n",
      "\n",
      "i=1100 -> loss = 0.603\n",
      "tensor([[-0.0065, -0.0072,  0.0443],\n",
      "        [-0.0071, -0.0067,  0.0102],\n",
      "        [ 1.4115,  0.7845, -0.0069]])\n",
      "\n",
      "i=1200 -> loss = 0.000\n",
      "tensor([[-0.0065, -0.0072, -0.0062],\n",
      "        [-0.0071, -0.0067, -0.0064],\n",
      "        [ 1.4822,  0.8552, -0.0069]])\n",
      "\n",
      "i=1300 -> loss = 0.000\n",
      "tensor([[-0.0065, -0.0072, -0.0063],\n",
      "        [-0.0071, -0.0067, -0.0064],\n",
      "        [ 1.5529,  0.9259, -0.0069]])\n",
      "\n",
      "i=1400 -> loss = 0.000\n",
      "tensor([[-0.0065, -0.0072, -0.0063],\n",
      "        [-0.0071, -0.0067, -0.0064],\n",
      "        [ 1.6236,  0.9966, -0.0069]])\n",
      "\n",
      "i=1500 -> loss = 0.000\n",
      "tensor([[-0.0065, -0.0072, -0.0063],\n",
      "        [-0.0071, -0.0067, -0.0064],\n",
      "        [ 1.6943,  1.0673, -0.0069]])\n",
      "\n",
      "i=1600 -> loss = 0.000\n",
      "tensor([[-0.0065, -0.0072, -0.0063],\n",
      "        [-0.0071, -0.0067, -0.0064],\n",
      "        [ 1.7650,  1.1380, -0.0069]])\n",
      "\n",
      "i=1700 -> loss = 0.000\n",
      "tensor([[-0.0065, -0.0072, -0.0063],\n",
      "        [-0.0071, -0.0067, -0.0064],\n",
      "        [ 1.8357,  1.2087, -0.0069]])\n",
      "\n",
      "i=1800 -> loss = 0.000\n",
      "tensor([[-0.0065, -0.0072, -0.0063],\n",
      "        [-0.0071, -0.0067, -0.0064],\n",
      "        [ 1.9064,  1.2794, -0.0069]])\n",
      "\n",
      "i=1900 -> loss = 0.000\n",
      "tensor([[-0.0065, -0.0072, -0.0063],\n",
      "        [-0.0071, -0.0067, -0.0064],\n",
      "        [ 1.9771,  1.3501, -0.0069]])\n",
      "\n",
      "i=2000 -> loss = 0.000\n",
      "tensor([[-0.0065, -0.0072, -0.0063],\n",
      "        [-0.0071, -0.0067, -0.0064],\n",
      "        [ 2.0478,  1.4208, -0.0069]])\n",
      "\n",
      "i=2100 -> loss = 0.000\n",
      "tensor([[-0.0065, -0.0072, -0.0063],\n",
      "        [-0.0071, -0.0067, -0.0064],\n",
      "        [ 2.1185,  1.4915, -0.0069]])\n",
      "\n",
      "i=2200 -> loss = 0.000\n",
      "tensor([[-0.0065, -0.0072, -0.0063],\n",
      "        [-0.0071, -0.0067, -0.0064],\n",
      "        [ 2.1892,  1.5622, -0.0069]])\n",
      "\n",
      "i=2300 -> loss = 0.000\n",
      "tensor([[-0.0065, -0.0072, -0.0063],\n",
      "        [-0.0071, -0.0067, -0.0064],\n",
      "        [ 2.2599,  1.6330, -0.0069]])\n",
      "\n",
      "i=2400 -> loss = 0.000\n",
      "tensor([[-0.0065, -0.0072, -0.0063],\n",
      "        [-0.0071, -0.0067, -0.0064],\n",
      "        [ 2.3306,  1.7037, -0.0069]])\n",
      "\n",
      "i=2500 -> loss = 0.000\n",
      "tensor([[-0.0065, -0.0072, -0.0063],\n",
      "        [-0.0071, -0.0067, -0.0064],\n",
      "        [ 2.4013,  1.7744, -0.0069]])\n",
      "\n",
      "i=2600 -> loss = 0.000\n",
      "tensor([[-0.0065, -0.0072, -0.0063],\n",
      "        [-0.0071, -0.0067, -0.0064],\n",
      "        [ 2.4720,  1.8451, -0.0069]])\n",
      "\n",
      "i=2700 -> loss = 0.000\n",
      "tensor([[-0.0065, -0.0072, -0.0063],\n",
      "        [-0.0071, -0.0067, -0.0064],\n",
      "        [ 2.5427,  1.9158, -0.0069]])\n",
      "\n",
      "i=2800 -> loss = 0.000\n",
      "tensor([[-0.0065, -0.0072, -0.0063],\n",
      "        [-0.0071, -0.0067, -0.0064],\n",
      "        [ 2.6134,  1.9865, -0.0069]])\n",
      "\n",
      "i=2900 -> loss = 0.000\n",
      "tensor([[-0.0065, -0.0072, -0.0063],\n",
      "        [-0.0071, -0.0067, -0.0064],\n",
      "        [ 2.6841,  2.0572, -0.0069]])\n",
      "\n",
      "i=3000 -> loss = 0.000\n",
      "tensor([[-0.0065, -0.0072, -0.0063],\n",
      "        [-0.0071, -0.0067, -0.0064],\n",
      "        [ 2.7548,  2.1279, -0.0069]])\n",
      "\n",
      "i=3100 -> loss = 0.000\n",
      "tensor([[-0.0065, -0.0072, -0.0063],\n",
      "        [-0.0071, -0.0067, -0.0064],\n",
      "        [ 2.8255,  2.1986, -0.0069]])\n",
      "\n",
      "i=3200 -> loss = 0.000\n",
      "tensor([[-0.0065, -0.0072, -0.0063],\n",
      "        [-0.0071, -0.0067, -0.0064],\n",
      "        [ 2.8963,  2.2693, -0.0069]])\n",
      "\n",
      "i=3300 -> loss = 0.000\n",
      "tensor([[-0.0065, -0.0072, -0.0063],\n",
      "        [-0.0071, -0.0067, -0.0064],\n",
      "        [ 2.9670,  2.3400, -0.0069]])\n",
      "\n",
      "i=3400 -> loss = 0.000\n",
      "tensor([[-0.0065, -0.0072, -0.0063],\n",
      "        [-0.0071, -0.0067, -0.0064],\n",
      "        [ 3.0377,  2.4107, -0.0069]])\n",
      "\n",
      "i=3500 -> loss = 0.000\n",
      "tensor([[-0.0065, -0.0072, -0.0063],\n",
      "        [-0.0071, -0.0067, -0.0064],\n",
      "        [ 3.1084,  2.4814, -0.0069]])\n",
      "\n",
      "i=3600 -> loss = 0.000\n",
      "tensor([[-0.0065, -0.0072, -0.0063],\n",
      "        [-0.0071, -0.0067, -0.0064],\n",
      "        [ 3.1791,  2.5521, -0.0069]])\n",
      "\n",
      "i=3700 -> loss = 0.000\n",
      "tensor([[-0.0065, -0.0072, -0.0063],\n",
      "        [-0.0071, -0.0067, -0.0064],\n",
      "        [ 3.2498,  2.6228, -0.0069]])\n",
      "\n",
      "i=3800 -> loss = 0.000\n",
      "tensor([[-0.0065, -0.0072, -0.0063],\n",
      "        [-0.0071, -0.0067, -0.0064],\n",
      "        [ 3.3205,  2.6935, -0.0069]])\n",
      "\n",
      "i=3900 -> loss = 0.000\n",
      "tensor([[-0.0065, -0.0072, -0.0063],\n",
      "        [-0.0071, -0.0067, -0.0064],\n",
      "        [ 3.2607,  2.7642, -0.0069]])\n",
      "\n",
      "i=4000 -> loss = 0.000\n",
      "tensor([[-0.0065, -0.0072, -0.0063],\n",
      "        [-0.0071, -0.0067, -0.0064],\n",
      "        [ 3.0256,  2.8349, -0.0069]])\n",
      "\n",
      "i=4100 -> loss = 0.000\n",
      "tensor([[-0.0065, -0.0072, -0.0063],\n",
      "        [-0.0071, -0.0067, -0.0064],\n",
      "        [ 2.8594,  2.9056, -0.0069]])\n",
      "\n",
      "i=4200 -> loss = 0.000\n",
      "tensor([[-0.0065, -0.0072, -0.0063],\n",
      "        [-0.0071, -0.0067, -0.0064],\n",
      "        [ 2.7210,  2.9763, -0.0069]])\n",
      "\n",
      "i=4300 -> loss = 0.000\n",
      "tensor([[-0.0065, -0.0072, -0.0063],\n",
      "        [-0.0071, -0.0067, -0.0064],\n",
      "        [ 2.5985,  3.0470, -0.0069]])\n",
      "\n",
      "i=4400 -> loss = 0.000\n",
      "tensor([[-0.0065, -0.0072, -0.0063],\n",
      "        [-0.0071, -0.0067, -0.0064],\n",
      "        [ 2.4863,  3.1177, -0.0069]])\n",
      "\n",
      "i=4500 -> loss = 0.000\n",
      "tensor([[-0.0065, -0.0072, -0.0063],\n",
      "        [-0.0071, -0.0067, -0.0064],\n",
      "        [ 2.3815,  3.1885, -0.0069]])\n",
      "\n",
      "i=4600 -> loss = 0.000\n",
      "tensor([[-0.0065, -0.0072, -0.0063],\n",
      "        [-0.0071, -0.0067, -0.0064],\n",
      "        [ 2.2823,  3.2592, -0.0069]])\n",
      "\n",
      "i=4700 -> loss = 0.000\n",
      "tensor([[-0.0065, -0.0072, -0.0063],\n",
      "        [-0.0071, -0.0067, -0.0064],\n",
      "        [ 2.1875,  3.3299, -0.0069]])\n",
      "\n",
      "i=4800 -> loss = 0.000\n",
      "tensor([[-0.0065, -0.0072, -0.0063],\n",
      "        [-0.0071, -0.0067, -0.0064],\n",
      "        [ 2.0960,  3.4006, -0.0069]])\n",
      "\n",
      "i=4900 -> loss = 0.000\n",
      "tensor([[-0.0065, -0.0072, -0.0063],\n",
      "        [-0.0071, -0.0067, -0.0064],\n",
      "        [ 2.0074,  3.4713, -0.0069]])\n",
      "\n",
      "i=5000 -> loss = 0.000\n",
      "tensor([[-0.0065, -0.0072, -0.0063],\n",
      "        [-0.0071, -0.0067, -0.0064],\n",
      "        [ 1.9993,  3.5420, -0.0069]])\n",
      "\n"
     ]
    }
   ],
   "source": [
    "# need products 3 and 4 to make 5\n",
    "# att weights should have nonzero in 3,1 and/or 3,2 - this works\n",
    "opt = torch.optim.Adam(module.parameters())\n",
    "losses = []\n",
    "for i in range(0, 5001):\n",
    "    opt.zero_grad()\n",
    "    if (i % 2) == 0:\n",
    "        # 1 sells 5 to 2\n",
    "        src = t.Tensor([1]).long()\n",
    "        dst = t.Tensor([2]).long()\n",
    "        prod = t.Tensor([5]).long()\n",
    "        raw_msg = t.Tensor([1]).reshape(-1, 1)\n",
    "    else:\n",
    "        # 1 buys 3 and 4 from 0\n",
    "        src = t.Tensor([0, 0]).long()\n",
    "        dst = t.Tensor([1, 1]).long()\n",
    "        prod = t.Tensor([3, 4]).long()\n",
    "        raw_msg = t.Tensor([2, 4]).reshape(-1, 1)\n",
    "    if (i%100) == 0:\n",
    "        print('i=%d -> loss = %.3f' % (i, float(loss)))\n",
    "        print(module.prod_bilinear.data)\n",
    "        print()\n",
    "    loss = module(src, dst, prod, raw_msg, embs)\n",
    "    loss.backward(retain_graph=False)\n",
    "    opt.step()\n",
    "    module.detach()\n",
    "    losses.append(float(loss))"
   ]
  },
  {
   "cell_type": "markdown",
   "metadata": {},
   "source": [
    "# Test data + HyperEdgebank"
   ]
  },
  {
   "cell_type": "code",
   "execution_count": 4,
   "metadata": {},
   "outputs": [],
   "source": [
    "import wandb\n",
    "import math\n",
    "import timeit\n",
    "from tqdm import tqdm\n",
    "import json\n",
    "\n",
    "import os\n",
    "import os.path as osp\n",
    "from pathlib import Path\n",
    "import numpy as np\n",
    "\n",
    "import torch\n",
    "from sklearn.metrics import average_precision_score, roc_auc_score\n",
    "from torch.nn import Linear\n",
    "\n",
    "from torch_geometric.datasets import JODIEDataset\n",
    "from torch_geometric.loader import TemporalDataLoader\n",
    "\n",
    "from torch_geometric.nn import TransformerConv\n",
    "\n",
    "# internal imports\n",
    "from tgb.utils.utils import *\n",
    "from tgb.linkproppred.evaluate import Evaluator\n",
    "from modules.decoder import LinkPredictorTGNPL\n",
    "from modules.emb_module import GraphAttentionEmbedding\n",
    "from modules.msg_func import TGNPLMessage\n",
    "from modules.msg_agg import MeanAggregator\n",
    "from modules.neighbor_loader import LastNeighborLoaderTGNPL\n",
    "from modules.memory_module import TGNPLMemory, StaticMemory\n",
    "from modules.early_stopping import  EarlyStopMonitor\n",
    "from modules.hyper_edgebank import HyperEdgeBankPredictor, test_edgebank\n",
    "from tgb.linkproppred.dataset_pyg import PyGLinkPropPredDataset, PyGLinkPropPredDatasetHyper"
   ]
  },
  {
   "cell_type": "markdown",
   "metadata": {},
   "source": [
    "## Logistic data"
   ]
  },
  {
   "cell_type": "code",
   "execution_count": 75,
   "metadata": {},
   "outputs": [
    {
     "data": {
      "text/plain": [
       "dict_keys(['product_threshold', 'id2entity', 'train_max_ts', 'val_max_ts', 'test_max_ts'])"
      ]
     },
     "execution_count": 75,
     "metadata": {},
     "output_type": "execute_result"
    }
   ],
   "source": [
    "DATA = 'tgbl-hypergraph'\n",
    "with open(f\"/lfs/turing1/0/{os.getlogin()}/supply-chains/TGB/tgb/datasets/{DATA.replace('-', '_')}/{DATA}_meta.json\",\"r\") as file:\n",
    "    METADATA = json.load(file)\n",
    "    NUM_NODES = len(METADATA[\"id2entity\"])\n",
    "METADATA.keys()"
   ]
  },
  {
   "cell_type": "code",
   "execution_count": 76,
   "metadata": {},
   "outputs": [
    {
     "data": {
      "text/plain": [
       "272"
      ]
     },
     "execution_count": 76,
     "metadata": {},
     "output_type": "execute_result"
    }
   ],
   "source": [
    "METADATA['train_max_ts']"
   ]
  },
  {
   "cell_type": "code",
   "execution_count": 77,
   "metadata": {},
   "outputs": [
    {
     "data": {
      "text/plain": [
       "364"
      ]
     },
     "execution_count": 77,
     "metadata": {},
     "output_type": "execute_result"
    }
   ],
   "source": [
    "METADATA['test_max_ts']"
   ]
  },
  {
   "cell_type": "code",
   "execution_count": 78,
   "metadata": {},
   "outputs": [
    {
     "data": {
      "text/plain": [
       "(7257, 2852)"
      ]
     },
     "execution_count": 78,
     "metadata": {},
     "output_type": "execute_result"
    }
   ],
   "source": [
    "NUM_FIRMS = METADATA[\"product_threshold\"]\n",
    "NUM_PRODUCTS = NUM_NODES - NUM_FIRMS\n",
    "NUM_FIRMS, NUM_PRODUCTS"
   ]
  },
  {
   "cell_type": "code",
   "execution_count": 79,
   "metadata": {},
   "outputs": [
    {
     "name": "stdout",
     "output_type": "stream",
     "text": [
      "Dataset tgbl-hypergraph url not found, download not supported yet.\n",
      "file found, skipping download\n",
      "Dataset directory is  /lfs/turing1/0/serinac/supply-chains/TGB/tgb/datasets/tgbl_hypergraph\n",
      "loading processed file\n"
     ]
    }
   ],
   "source": [
    "# load dataset\n",
    "device = \"cpu\"\n",
    "dataset = PyGLinkPropPredDatasetHyper(name=DATA, root=\"datasets\")\n",
    "train_mask = dataset.train_mask\n",
    "val_mask = dataset.val_mask\n",
    "test_mask = dataset.test_mask\n",
    "data = dataset.get_TemporalData()\n",
    "data = data.to(device)\n",
    "\n",
    "# for evaluation\n",
    "neg_sampler = dataset.negative_sampler\n",
    "dataset.load_val_ns()  # load validation negative samples\n",
    "metric = dataset.eval_metric\n",
    "evaluator = Evaluator(name=DATA)"
   ]
  },
  {
   "cell_type": "code",
   "execution_count": 80,
   "metadata": {},
   "outputs": [
    {
     "data": {
      "text/plain": [
       "TemporalData(src=[305277], dst=[305277], t=[305277], msg=[305277, 1], prod=[305277], y=[305277])"
      ]
     },
     "execution_count": 80,
     "metadata": {},
     "output_type": "execute_result"
    }
   ],
   "source": [
    "data"
   ]
  },
  {
   "cell_type": "code",
   "execution_count": 81,
   "metadata": {},
   "outputs": [
    {
     "data": {
      "text/plain": [
       "tensor([2246, 6686, 3109, 3791, 2124, 4738, 5023, 6768, 1081,  708])"
      ]
     },
     "execution_count": 81,
     "metadata": {},
     "output_type": "execute_result"
    }
   ],
   "source": [
    "data.src[:10]"
   ]
  },
  {
   "cell_type": "code",
   "execution_count": 82,
   "metadata": {},
   "outputs": [
    {
     "data": {
      "text/plain": [
       "tensor([1727, 4512, 5068, 6941, 2609, 4240, 1410, 4512, 3544, 5851])"
      ]
     },
     "execution_count": 82,
     "metadata": {},
     "output_type": "execute_result"
    }
   ],
   "source": [
    "data.dst[:10]"
   ]
  },
  {
   "cell_type": "code",
   "execution_count": 83,
   "metadata": {},
   "outputs": [
    {
     "data": {
      "text/plain": [
       "tensor([8448, 8055, 9212, 7338, 8490, 9519, 9689, 8055, 7342, 8440])"
      ]
     },
     "execution_count": 83,
     "metadata": {},
     "output_type": "execute_result"
    }
   ],
   "source": [
    "data.prod[:10]"
   ]
  },
  {
   "cell_type": "code",
   "execution_count": 84,
   "metadata": {},
   "outputs": [
    {
     "data": {
      "text/plain": [
       "tensor([0, 0, 0, 0, 0, 0, 0, 0, 0, 0])"
      ]
     },
     "execution_count": 84,
     "metadata": {},
     "output_type": "execute_result"
    }
   ],
   "source": [
    "data.t[:10]"
   ]
  },
  {
   "cell_type": "code",
   "execution_count": 85,
   "metadata": {},
   "outputs": [
    {
     "data": {
      "text/plain": [
       "tensor([  0,   0,   0,  ..., 272, 272, 272])"
      ]
     },
     "execution_count": 85,
     "metadata": {},
     "output_type": "execute_result"
    }
   ],
   "source": [
    "data.t[train_mask]"
   ]
  },
  {
   "cell_type": "code",
   "execution_count": 86,
   "metadata": {},
   "outputs": [
    {
     "data": {
      "text/plain": [
       "tensor([318, 318, 318,  ..., 364, 364, 364])"
      ]
     },
     "execution_count": 86,
     "metadata": {},
     "output_type": "execute_result"
    }
   ],
   "source": [
    "data.t[test_mask]"
   ]
  },
  {
   "cell_type": "code",
   "execution_count": 87,
   "metadata": {},
   "outputs": [
    {
     "name": "stdout",
     "output_type": "stream",
     "text": [
      "1074\n"
     ]
    }
   ],
   "source": [
    "BATCH_SIZE = 200\n",
    "train_data = data[train_mask]\n",
    "val_data = data[val_mask]\n",
    "test_data = data[test_mask]\n",
    "\n",
    "train_loader = TemporalDataLoader(train_data, batch_size=BATCH_SIZE)\n",
    "val_loader = TemporalDataLoader(val_data, batch_size=BATCH_SIZE)\n",
    "test_loader = TemporalDataLoader(test_data, batch_size=BATCH_SIZE)\n",
    "print(len(train_loader))"
   ]
  },
  {
   "cell_type": "code",
   "execution_count": 88,
   "metadata": {},
   "outputs": [
    {
     "name": "stdout",
     "output_type": "stream",
     "text": [
      "0 7256\n",
      "7257 10108\n",
      "3 7253\n"
     ]
    }
   ],
   "source": [
    "# Ensure to only sample actual source, product, or destination nodes as negatives.\n",
    "min_src_idx, max_src_idx = int(data.src.min()), int(data.src.max())\n",
    "min_prod_idx, max_prod_idx = int(data.prod.min()), int(data.prod.max())\n",
    "min_dst_idx, max_dst_idx = int(data.dst.min()), int(data.dst.max())\n",
    "print(min_src_idx, max_src_idx)\n",
    "print(min_prod_idx, max_prod_idx)\n",
    "print(min_dst_idx, max_dst_idx)"
   ]
  },
  {
   "cell_type": "markdown",
   "metadata": {},
   "source": [
    "## Test edgebank"
   ]
  },
  {
   "cell_type": "code",
   "execution_count": 89,
   "metadata": {},
   "outputs": [],
   "source": [
    "edgebank = HyperEdgeBankPredictor(NUM_FIRMS, NUM_PRODUCTS, consecutive=True)"
   ]
  },
  {
   "cell_type": "code",
   "execution_count": 90,
   "metadata": {},
   "outputs": [
    {
     "name": "stdout",
     "output_type": "stream",
     "text": [
      "tensor([ 46490307739, 138392770326,  64361316967,  78481986337,  43967793637,\n",
      "         98074310174, 103964873924, 140089921374,  22383525657,  14670138747])\n"
     ]
    }
   ],
   "source": [
    "idx = edgebank.convert_triplet_to_index(train_data.src, train_data.dst, train_data.prod)\n",
    "print(idx[:10])\n",
    "src, dst, prod = edgebank.convert_index_to_triplet(idx)\n",
    "assert (train_data.src == src).all()\n",
    "assert (train_data.dst == dst).all()\n",
    "assert (train_data.prod == prod).all()"
   ]
  },
  {
   "cell_type": "code",
   "execution_count": 91,
   "metadata": {},
   "outputs": [
    {
     "name": "stdout",
     "output_type": "stream",
     "text": [
      "Fit on 214674 edges; found 38756 unique\n"
     ]
    }
   ],
   "source": [
    "edgebank.fit(train_data.src, train_data.dst, train_data.prod)"
   ]
  },
  {
   "cell_type": "code",
   "execution_count": 92,
   "metadata": {},
   "outputs": [
    {
     "data": {
      "text/plain": [
       "tensor([ 11.,  61.,   1., 213.,   0., 172.,   3.,   1., 131.,   7.])"
      ]
     },
     "execution_count": 92,
     "metadata": {},
     "output_type": "execute_result"
    }
   ],
   "source": [
    "edgebank.predict(val_data.src[:10], val_data.dst[:10], val_data.prod[:10])"
   ]
  },
  {
   "cell_type": "code",
   "execution_count": 93,
   "metadata": {},
   "outputs": [
    {
     "data": {
      "text/plain": [
       "(tensor(38147), 44991)"
      ]
     },
     "execution_count": 93,
     "metadata": {},
     "output_type": "execute_result"
    }
   ],
   "source": [
    "y_pred = edgebank.predict(val_data.src, val_data.dst, val_data.prod, use_counts=True)\n",
    "torch.sum(y_pred > 0), len(y_pred)"
   ]
  },
  {
   "cell_type": "code",
   "execution_count": 94,
   "metadata": {},
   "outputs": [
    {
     "name": "stderr",
     "output_type": "stream",
     "text": [
      "100%|██████████████████████████████████████████████████████████████████████████████████| 225/225 [01:35<00:00,  2.36it/s]\n"
     ]
    },
    {
     "data": {
      "text/plain": [
       "0.3399311304092407"
      ]
     },
     "execution_count": 94,
     "metadata": {},
     "output_type": "execute_result"
    }
   ],
   "source": [
    "test_edgebank(val_loader, neg_sampler, \"val\", evaluator, metric, edgebank, use_counts=False,\n",
    "              use_prev_sampling=True)"
   ]
  },
  {
   "cell_type": "code",
   "execution_count": 95,
   "metadata": {},
   "outputs": [
    {
     "name": "stderr",
     "output_type": "stream",
     "text": [
      "100%|██████████████████████████████████████████████████████████████████████████████████| 225/225 [00:13<00:00, 16.61it/s]\n"
     ]
    },
    {
     "data": {
      "text/plain": [
       "0.6819248199462891"
      ]
     },
     "execution_count": 95,
     "metadata": {},
     "output_type": "execute_result"
    }
   ],
   "source": [
    "test_edgebank(val_loader, neg_sampler, \"val\", evaluator, metric, edgebank, use_counts=True,\n",
    "              use_prev_sampling=True)"
   ]
  },
  {
   "cell_type": "markdown",
   "metadata": {},
   "source": [
    "## Synthetic data"
   ]
  },
  {
   "cell_type": "code",
   "execution_count": 5,
   "metadata": {},
   "outputs": [
    {
     "data": {
      "text/plain": [
       "dict_keys(['product_threshold', 'id2entity', 'train_max_ts', 'val_max_ts', 'test_max_ts'])"
      ]
     },
     "execution_count": 5,
     "metadata": {},
     "output_type": "execute_result"
    }
   ],
   "source": [
    "DATA = 'tgbl-hypergraph_synthetic'\n",
    "with open(f\"/lfs/turing1/0/{os.getlogin()}/supply-chains/TGB/tgb/datasets/{DATA.replace('-', '_')}/{DATA}_meta.json\",\"r\") as file:\n",
    "    METADATA = json.load(file)\n",
    "    NUM_NODES = len(METADATA[\"id2entity\"])\n",
    "METADATA.keys()"
   ]
  },
  {
   "cell_type": "code",
   "execution_count": 6,
   "metadata": {},
   "outputs": [
    {
     "data": {
      "text/plain": [
       "105"
      ]
     },
     "execution_count": 6,
     "metadata": {},
     "output_type": "execute_result"
    }
   ],
   "source": [
    "METADATA['train_max_ts']"
   ]
  },
  {
   "cell_type": "code",
   "execution_count": 7,
   "metadata": {},
   "outputs": [
    {
     "data": {
      "text/plain": [
       "149"
      ]
     },
     "execution_count": 7,
     "metadata": {},
     "output_type": "execute_result"
    }
   ],
   "source": [
    "METADATA['test_max_ts']"
   ]
  },
  {
   "cell_type": "code",
   "execution_count": 8,
   "metadata": {},
   "outputs": [
    {
     "data": {
      "text/plain": [
       "(21, 97)"
      ]
     },
     "execution_count": 8,
     "metadata": {},
     "output_type": "execute_result"
    }
   ],
   "source": [
    "NUM_FIRMS = METADATA[\"product_threshold\"]\n",
    "NUM_PRODUCTS = NUM_NODES - NUM_FIRMS\n",
    "NUM_FIRMS, NUM_PRODUCTS"
   ]
  },
  {
   "cell_type": "code",
   "execution_count": 9,
   "metadata": {},
   "outputs": [
    {
     "name": "stdout",
     "output_type": "stream",
     "text": [
      "Dataset tgbl-hypergraph_synthetic url not found, download not supported yet.\n",
      "file found, skipping download\n",
      "Dataset directory is  /lfs/turing1/0/serinac/supply-chains/TGB/tgb/datasets/tgbl_hypergraph_synthetic\n",
      "loading processed file\n"
     ]
    }
   ],
   "source": [
    "# load dataset\n",
    "device = \"cpu\"\n",
    "dataset = PyGLinkPropPredDatasetHyper(name=DATA, root=\"datasets\", use_prev_sampling=False)\n",
    "train_mask = dataset.train_mask\n",
    "val_mask = dataset.val_mask\n",
    "test_mask = dataset.test_mask\n",
    "data = dataset.get_TemporalData()\n",
    "data = data.to(device)\n",
    "\n",
    "# for evaluation\n",
    "neg_sampler = dataset.negative_sampler\n",
    "dataset.load_val_ns()  # load validation negative samples\n",
    "metric = dataset.eval_metric\n",
    "evaluator = Evaluator(name=DATA)"
   ]
  },
  {
   "cell_type": "code",
   "execution_count": 10,
   "metadata": {},
   "outputs": [
    {
     "data": {
      "text/plain": [
       "TemporalData(src=[74887], dst=[74887], t=[74887], msg=[74887, 1], prod=[74887], y=[74887])"
      ]
     },
     "execution_count": 10,
     "metadata": {},
     "output_type": "execute_result"
    }
   ],
   "source": [
    "data"
   ]
  },
  {
   "cell_type": "code",
   "execution_count": 11,
   "metadata": {},
   "outputs": [
    {
     "data": {
      "text/plain": [
       "tensor([7, 7, 7, 3, 3, 3, 3, 3, 3, 3])"
      ]
     },
     "execution_count": 11,
     "metadata": {},
     "output_type": "execute_result"
    }
   ],
   "source": [
    "data.src[:10]"
   ]
  },
  {
   "cell_type": "code",
   "execution_count": 12,
   "metadata": {},
   "outputs": [
    {
     "data": {
      "text/plain": [
       "tensor([ 9, 12,  9, 12,  7, 16, 12, 18, 13,  2])"
      ]
     },
     "execution_count": 12,
     "metadata": {},
     "output_type": "execute_result"
    }
   ],
   "source": [
    "data.dst[:10]"
   ]
  },
  {
   "cell_type": "code",
   "execution_count": 13,
   "metadata": {},
   "outputs": [
    {
     "data": {
      "text/plain": [
       "tensor([ 66,  97,  66, 104, 104, 104, 104, 104, 104, 104])"
      ]
     },
     "execution_count": 13,
     "metadata": {},
     "output_type": "execute_result"
    }
   ],
   "source": [
    "data.prod[:10]"
   ]
  },
  {
   "cell_type": "code",
   "execution_count": 14,
   "metadata": {},
   "outputs": [
    {
     "data": {
      "text/plain": [
       "tensor([1, 2, 3, 3, 3, 3, 3, 3, 3, 3])"
      ]
     },
     "execution_count": 14,
     "metadata": {},
     "output_type": "execute_result"
    }
   ],
   "source": [
    "data.t[:10]"
   ]
  },
  {
   "cell_type": "code",
   "execution_count": 15,
   "metadata": {},
   "outputs": [
    {
     "data": {
      "text/plain": [
       "tensor([  1,   2,   3,  ..., 105, 105, 105])"
      ]
     },
     "execution_count": 15,
     "metadata": {},
     "output_type": "execute_result"
    }
   ],
   "source": [
    "data.t[train_mask]"
   ]
  },
  {
   "cell_type": "code",
   "execution_count": 16,
   "metadata": {},
   "outputs": [
    {
     "data": {
      "text/plain": [
       "tensor([128, 128, 128,  ..., 149, 149, 149])"
      ]
     },
     "execution_count": 16,
     "metadata": {},
     "output_type": "execute_result"
    }
   ],
   "source": [
    "data.t[test_mask]"
   ]
  },
  {
   "cell_type": "code",
   "execution_count": 17,
   "metadata": {},
   "outputs": [
    {
     "name": "stdout",
     "output_type": "stream",
     "text": [
      "6\n"
     ]
    }
   ],
   "source": [
    "BATCH_SIZE = 10000\n",
    "train_data = data[train_mask]\n",
    "val_data = data[val_mask]\n",
    "test_data = data[test_mask]\n",
    "\n",
    "train_loader = TemporalDataLoader(train_data, batch_size=BATCH_SIZE)\n",
    "val_loader = TemporalDataLoader(val_data, batch_size=BATCH_SIZE)\n",
    "test_loader = TemporalDataLoader(test_data, batch_size=BATCH_SIZE)\n",
    "print(len(train_loader))"
   ]
  },
  {
   "cell_type": "code",
   "execution_count": 18,
   "metadata": {},
   "outputs": [],
   "source": [
    "# check that we can use neg_sampler\n",
    "batch = next(iter(val_loader))\n",
    "pos_src, pos_prod, pos_dst, pos_t, pos_msg = batch.src, batch.prod, batch.dst, batch.t, batch.msg\n",
    "neg_batch_list = neg_sampler.query_batch(pos_src, pos_dst, pos_prod, pos_t, split_mode='val')"
   ]
  },
  {
   "cell_type": "code",
   "execution_count": 19,
   "metadata": {},
   "outputs": [
    {
     "name": "stdout",
     "output_type": "stream",
     "text": [
      "0 20\n",
      "21 117\n",
      "0 20\n"
     ]
    }
   ],
   "source": [
    "# Ensure to only sample actual source, product, or destination nodes as negatives.\n",
    "min_src_idx, max_src_idx = int(data.src.min()), int(data.src.max())\n",
    "min_prod_idx, max_prod_idx = int(data.prod.min()), int(data.prod.max())\n",
    "min_dst_idx, max_dst_idx = int(data.dst.min()), int(data.dst.max())\n",
    "print(min_src_idx, max_src_idx)\n",
    "print(min_prod_idx, max_prod_idx)\n",
    "print(min_dst_idx, max_dst_idx)"
   ]
  },
  {
   "cell_type": "markdown",
   "metadata": {},
   "source": [
    "## Test edgebank"
   ]
  },
  {
   "cell_type": "code",
   "execution_count": 20,
   "metadata": {},
   "outputs": [],
   "source": [
    "edgebank = HyperEdgeBankPredictor(NUM_FIRMS, NUM_PRODUCTS, consecutive=True)"
   ]
  },
  {
   "cell_type": "code",
   "execution_count": 21,
   "metadata": {},
   "outputs": [
    {
     "name": "stdout",
     "output_type": "stream",
     "text": [
      "tensor([15177, 15499, 15177,  7358,  6873,  7746,  7358,  7940,  7455,  6388])\n"
     ]
    }
   ],
   "source": [
    "idx = edgebank.convert_triplet_to_index(train_data.src, train_data.dst, train_data.prod)\n",
    "print(idx[:10])\n",
    "src, dst, prod = edgebank.convert_index_to_triplet(idx)\n",
    "assert (train_data.src == src).all()\n",
    "assert (train_data.dst == dst).all()\n",
    "assert (train_data.prod == prod).all()"
   ]
  },
  {
   "cell_type": "code",
   "execution_count": 22,
   "metadata": {},
   "outputs": [
    {
     "name": "stdout",
     "output_type": "stream",
     "text": [
      "Fit on 52736 edges; found 458 unique\n"
     ]
    }
   ],
   "source": [
    "edgebank.fit(train_data.src, train_data.dst, train_data.prod)"
   ]
  },
  {
   "cell_type": "code",
   "execution_count": 23,
   "metadata": {},
   "outputs": [
    {
     "data": {
      "text/plain": [
       "tensor([106., 106., 106., 105., 315., 210., 315., 105., 315., 210.])"
      ]
     },
     "execution_count": 23,
     "metadata": {},
     "output_type": "execute_result"
    }
   ],
   "source": [
    "edgebank.predict(val_data.src[:10], val_data.dst[:10], val_data.prod[:10])"
   ]
  },
  {
   "cell_type": "code",
   "execution_count": 24,
   "metadata": {},
   "outputs": [
    {
     "data": {
      "text/plain": [
       "(tensor(11100), 11100)"
      ]
     },
     "execution_count": 24,
     "metadata": {},
     "output_type": "execute_result"
    }
   ],
   "source": [
    "y_pred = edgebank.predict(val_data.src, val_data.dst, val_data.prod, use_counts=True)\n",
    "torch.sum(y_pred > 0), len(y_pred)"
   ]
  },
  {
   "cell_type": "code",
   "execution_count": 30,
   "metadata": {},
   "outputs": [
    {
     "name": "stderr",
     "output_type": "stream",
     "text": [
      "100%|██████████████████████████████████████████████████████████████████████████████████████| 2/2 [00:01<00:00,  1.14it/s]\n"
     ]
    },
    {
     "data": {
      "text/plain": [
       "0.38609811663627625"
      ]
     },
     "execution_count": 30,
     "metadata": {},
     "output_type": "execute_result"
    }
   ],
   "source": [
    "test_edgebank(val_loader, neg_sampler, \"val\", evaluator, metric, edgebank, use_counts=False,\n",
    "              use_prev_sampling=False)"
   ]
  },
  {
   "cell_type": "code",
   "execution_count": 31,
   "metadata": {},
   "outputs": [
    {
     "name": "stderr",
     "output_type": "stream",
     "text": [
      "100%|██████████████████████████████████████████████████████████████████████████████████████| 2/2 [00:05<00:00,  2.51s/it]\n"
     ]
    },
    {
     "data": {
      "text/plain": [
       "0.5654792785644531"
      ]
     },
     "execution_count": 31,
     "metadata": {},
     "output_type": "execute_result"
    }
   ],
   "source": [
    "test_edgebank(val_loader, neg_sampler, \"val\", evaluator, metric, edgebank, use_counts=True,\n",
    "              use_prev_sampling=False)"
   ]
  },
  {
   "cell_type": "code",
   "execution_count": 33,
   "metadata": {},
   "outputs": [
    {
     "name": "stderr",
     "output_type": "stream",
     "text": [
      "100%|██████████████████████████████████████████████████████████████████████████████████████| 2/2 [00:01<00:00,  1.07it/s]\n"
     ]
    },
    {
     "data": {
      "text/plain": [
       "0.4747615158557892"
      ]
     },
     "execution_count": 33,
     "metadata": {},
     "output_type": "execute_result"
    }
   ],
   "source": [
    "dataset.load_test_ns()\n",
    "test_edgebank(test_loader, neg_sampler, \"test\", evaluator, metric, edgebank, use_counts=False,\n",
    "              use_prev_sampling=False)"
   ]
  },
  {
   "cell_type": "code",
   "execution_count": 34,
   "metadata": {},
   "outputs": [
    {
     "name": "stderr",
     "output_type": "stream",
     "text": [
      "100%|██████████████████████████████████████████████████████████████████████████████████████| 2/2 [00:04<00:00,  2.10s/it]\n"
     ]
    },
    {
     "data": {
      "text/plain": [
       "0.6792834997177124"
      ]
     },
     "execution_count": 34,
     "metadata": {},
     "output_type": "execute_result"
    }
   ],
   "source": [
    "dataset.load_test_ns()\n",
    "test_edgebank(test_loader, neg_sampler, \"test\", evaluator, metric, edgebank, use_counts=True,\n",
    "              use_prev_sampling=False)"
   ]
  },
  {
   "cell_type": "code",
   "execution_count": null,
   "metadata": {},
   "outputs": [],
   "source": []
  }
 ],
 "metadata": {
  "kernelspec": {
   "display_name": "Python 3 (ipykernel)",
   "language": "python",
   "name": "python3"
  },
  "language_info": {
   "codemirror_mode": {
    "name": "ipython",
    "version": 3
   },
   "file_extension": ".py",
   "mimetype": "text/x-python",
   "name": "python",
   "nbconvert_exporter": "python",
   "pygments_lexer": "ipython3",
   "version": "3.9.13"
  }
 },
 "nbformat": 4,
 "nbformat_minor": 4
}
