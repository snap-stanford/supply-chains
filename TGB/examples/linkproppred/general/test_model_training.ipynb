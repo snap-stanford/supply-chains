{
 "cells": [
  {
   "cell_type": "code",
   "execution_count": 1,
   "id": "7a2f6adc",
   "metadata": {},
   "outputs": [],
   "source": [
    "%load_ext autoreload\n",
    "%autoreload 2\n",
    "\n",
    "import torch\n",
    "import numpy as np\n",
    "\n",
    "# internal imports\n",
    "from tgb.utils.utils import *\n",
    "from tgb.linkproppred.evaluate import Evaluator\n",
    "from modules.decoder import LinkPredictorTGNPL\n",
    "from modules.emb_module import GraphAttentionEmbedding\n",
    "from modules.msg_func import TGNPLMessage\n",
    "from modules.msg_agg import MeanAggregator\n",
    "from modules.neighbor_loader import LastNeighborLoaderTGNPL\n",
    "from modules.memory_module import TGNPLMemory, StaticMemory\n",
    "from modules.early_stopping import  EarlyStopMonitor\n",
    "from modules.hyper_edgebank import HyperEdgeBankPredictor, test_edgebank\n",
    "from tgb.linkproppred.dataset_pyg import PyGLinkPropPredDataset, PyGLinkPropPredDatasetHyper\n",
    "from tgnpl import *"
   ]
  },
  {
   "cell_type": "markdown",
   "id": "789af635",
   "metadata": {},
   "source": [
    "# Initialize data and EdgeBank"
   ]
  },
  {
   "cell_type": "code",
   "execution_count": 2,
   "id": "cc8286c7",
   "metadata": {},
   "outputs": [],
   "source": [
    "# recreate args\n",
    "class Namespace:\n",
    "    def __init__(self, **kwargs):\n",
    "        self.__dict__.update(kwargs)\n",
    "        \n",
    "args = Namespace(dataset='tgbl-hypergraph',\n",
    "                 lr=1e-4,\n",
    "                 bs=2000,  # use larger batch size since we're not training\n",
    "                 k_value=10,\n",
    "                 num_epoch=100,\n",
    "                 seed=1,\n",
    "                 mem_dim=100,\n",
    "                 time_dim=10,\n",
    "                 emb_dim=100,\n",
    "                 tolerance=1e-6,\n",
    "                 patience=100,\n",
    "                 num_run=1,\n",
    "                 wandb=False,\n",
    "                 bipartite=False,\n",
    "                 memory_name='static',\n",
    "                 use_inventory=False,\n",
    "                 debt_penalty=0,\n",
    "                 consum_rwd=0,\n",
    "                 gpu=0)\n",
    "device = torch.device(\"cpu\")"
   ]
  },
  {
   "cell_type": "code",
   "execution_count": 3,
   "id": "d7221533",
   "metadata": {},
   "outputs": [
    {
     "name": "stdout",
     "output_type": "stream",
     "text": [
      "Dataset tgbl-hypergraph url not found, download not supported yet.\n",
      "file found, skipping download\n",
      "Dataset directory is  /lfs/turing1/0/serinac/supply-chains/TGB/tgb/datasets/tgbl_hypergraph\n",
      "loading processed file\n"
     ]
    }
   ],
   "source": [
    "# Initialize dataset - copied from run_experiment() in tgnpl.py\n",
    "with open(os.path.join(PATH_TO_DATASETS, f\"{args.dataset.replace('-', '_')}/{args.dataset}_meta.json\"), \"r\") as f:\n",
    "    metadata = json.load(f)\n",
    "# set global data variables\n",
    "num_nodes = len(metadata[\"id2entity\"])  \n",
    "num_firms = metadata[\"product_threshold\"]\n",
    "num_products = num_nodes - num_firms              \n",
    "dataset = PyGLinkPropPredDatasetHyper(name=args.dataset, root=\"datasets\")\n",
    "metric = dataset.eval_metric\n",
    "neg_sampler = dataset.negative_sampler\n",
    "evaluator = Evaluator(name=args.dataset)\n",
    "\n",
    "# split into train/val/test\n",
    "data = dataset.get_TemporalData().to(device)\n",
    "train_loader = TemporalDataLoader(data[dataset.train_mask], batch_size=args.bs)\n",
    "val_loader = TemporalDataLoader(data[dataset.val_mask], batch_size=args.bs)\n",
    "test_loader = TemporalDataLoader(data[dataset.test_mask], batch_size=args.bs)\n",
    "\n",
    "dataset.load_val_ns()  # load validation negative samples"
   ]
  },
  {
   "cell_type": "code",
   "execution_count": 4,
   "id": "c4d32b1a",
   "metadata": {},
   "outputs": [
    {
     "name": "stdout",
     "output_type": "stream",
     "text": [
      "Fit on 214674 edges; found 38756 unique\n"
     ]
    }
   ],
   "source": [
    "# initialize edgebank, fit on train\n",
    "edgebank = HyperEdgeBankPredictor(num_firms, num_products, consecutive=True)\n",
    "train_data = data[dataset.train_mask]\n",
    "edgebank.fit(train_data.src, train_data.dst, train_data.prod)"
   ]
  },
  {
   "cell_type": "code",
   "execution_count": 5,
   "id": "4d28104c",
   "metadata": {},
   "outputs": [
    {
     "name": "stderr",
     "output_type": "stream",
     "text": [
      "100%|██████████████████████████████████████████████████████████████████████████████████| 23/23 [00:00<00:00, 26.48it/s]\n"
     ]
    },
    {
     "data": {
      "text/plain": [
       "0.3399311602115631"
      ]
     },
     "execution_count": 5,
     "metadata": {},
     "output_type": "execute_result"
    }
   ],
   "source": [
    "test_edgebank(val_loader, neg_sampler, \"val\", evaluator, metric, edgebank, use_counts=False)"
   ]
  },
  {
   "cell_type": "code",
   "execution_count": 6,
   "id": "7b547626",
   "metadata": {},
   "outputs": [
    {
     "name": "stderr",
     "output_type": "stream",
     "text": [
      "100%|██████████████████████████████████████████████████████████████████████████████████| 23/23 [00:04<00:00,  5.49it/s]\n"
     ]
    },
    {
     "data": {
      "text/plain": [
       "0.6819248199462891"
      ]
     },
     "execution_count": 6,
     "metadata": {},
     "output_type": "execute_result"
    }
   ],
   "source": [
    "test_edgebank(val_loader, neg_sampler, \"val\", evaluator, metric, edgebank, use_counts=True)"
   ]
  },
  {
   "cell_type": "markdown",
   "id": "bc37fdb6",
   "metadata": {},
   "source": [
    "# Results from full experiments"
   ]
  },
  {
   "cell_type": "code",
   "execution_count": 7,
   "id": "7e17732a",
   "metadata": {},
   "outputs": [],
   "source": [
    "def apply_smoothing(x, agg_func=np.mean, before=2, after=2):\n",
    "    new_x = []\n",
    "    for i, x_point in enumerate(x):\n",
    "        before_idx = max(0, i-before)\n",
    "        after_idx = min(len(x), i+after+1)\n",
    "        new_x.append(agg_func(x[before_idx:after_idx]))\n",
    "    return np.array(new_x)"
   ]
  },
  {
   "cell_type": "code",
   "execution_count": 8,
   "id": "7722062b",
   "metadata": {},
   "outputs": [],
   "source": [
    "import matplotlib.pyplot as plt \n",
    "\n",
    "def plot_train_loss_and_val_mrr(results, smoothing=0, logscale=True):\n",
    "    fig, axes = plt.subplots(1, 2, figsize=(9, 4), sharex=True)\n",
    "    fig.subplots_adjust(wspace=0.3)\n",
    "    ax = axes[0]\n",
    "    loss = results['train loss']\n",
    "    ax.plot(loss)\n",
    "    if smoothing > 0:\n",
    "        ax.plot(apply_smoothing(loss, before=smoothing, after=smoothing), label='smoothed')\n",
    "    ax.set_xlabel('Epoch', fontsize=12)\n",
    "    ax.set_ylabel('Train loss', fontsize=12)\n",
    "    if logscale:\n",
    "        ax.set_yscale('symlog')\n",
    "    ax.grid(alpha=0.2)\n",
    "\n",
    "    ax = axes[1]\n",
    "    mrr = results['val mrr']\n",
    "    ax.plot(mrr)\n",
    "    if smoothing:\n",
    "        mrr = ax.plot(apply_smoothing(mrr, before=smoothing, after=smoothing), label='smoothed')\n",
    "    ax.set_xlabel('Epoch', fontsize=12)\n",
    "    ax.set_ylabel('Val MRR', fontsize=12)\n",
    "    ax.grid(alpha=0.2)\n",
    "    return fig, axes"
   ]
  },
  {
   "cell_type": "code",
   "execution_count": 25,
   "id": "acd950c4",
   "metadata": {},
   "outputs": [
    {
     "name": "stdout",
     "output_type": "stream",
     "text": [
      "First test mrr = 0.3723, second test mrr = 0.3809\n",
      "Total num epochs 1000\n",
      "Min train loss = 1.1642, best val mrr = 0.4006 (epoch 515, train loss = 1.1642)\n"
     ]
    },
    {
     "data": {
      "text/plain": [
       "Text(0.5, 0.98, 'GNN + static memory, cross-entropy')"
      ]
     },
     "execution_count": 25,
     "metadata": {},
     "output_type": "execute_result"
    },
    {
     "data": {
      "image/png": "[encoded data removed]",
      "text/plain": [
       "<Figure size 900x400 with 2 Axes>"
      ]
     },
     "metadata": {},
     "output_type": "display_data"
    }
   ],
   "source": [
    "# static memory, softmax cross-entropy loss, 18 random negative samples, 500 epochs (no early stopping)\n",
    "# command:\n",
    "# nohup python -u tgnpl.py --time_dim 10 --memory_name static --num_epoch 500 --patience 500 --lr 0.0003 > static_experiment.out 2>&1 &\n",
    "fn = 'TGNPL_tgbl-hypergraph_0.0003_200_10_500_1_100_10_100_1e-06_500.0_1_False_False_static_False_0_0_0_2023_09_10-20_50_47_results.json'\n",
    "fn = os.path.join('saved_results', fn)\n",
    "with open(fn, 'r') as f:\n",
    "    results1 = json.load(f)[-1]\n",
    "    \n",
    "# ran for 500 more epochs, initialized with previous experiment's best weights\n",
    "# command:\n",
    "# nohup python -u tgnpl.py --time_dim 10 --memory_name static --num_epoch 500 --patience 500 --lr 0.0003 --weights TGNPL_tgbl-hypergraph_0.0003_200_10_500_1_100_10_100_1e-06_500.0_1_False_False_static_False_0_0_0_2023_09_10-20_50_47_0.pth > static_experiment_ctd.out 2>&1 &\n",
    "fn = 'TGNPL_tgbl-hypergraph_0.0003_200_10_500_1_100_10_100_1e-06_500.0_1_False_False_static_False_0_0_0_TGNPL_tgbl-hypergraph_0.0003_200_10_500_1_100_10_100_1e-06_500.0_1_False_False_static_False_0_0_0_2023_09_10-20_50_47_0.pth_2023_09_14-11_57_46_results.json'\n",
    "fn = os.path.join('saved_results', fn)\n",
    "with open(fn, 'r') as f:\n",
    "    results2 = json.load(f)\n",
    "    \n",
    "print('First test mrr = %.4f, second test mrr = %.4f' % (results1['test mrr'], results2['test mrr']))\n",
    "results = {'train loss': results1['train loss'] + results2['train loss'],\n",
    "           'val mrr': results1['val mrr'] + results2['val mrr'],\n",
    "           'test mrr': results1['test mrr']}\n",
    "train_loss, val_mrr, test_mrr = results['train loss'], results['val mrr'], results['test mrr']\n",
    "print('Total num epochs', len(train_loss))\n",
    "print('Min train loss = %.4f, best val mrr = %.4f (epoch %d, train loss = %.4f)' % (\n",
    "    min(train_loss), max(val_mrr), np.argmax(val_mrr), train_loss[np.argmax(val_mrr)]))\n",
    "\n",
    "fig, axes = plot_train_loss_and_val_mrr(results, smoothing=5, logscale=False)\n",
    "baseline = torch.nn.CrossEntropyLoss()(torch.ones(1, 19), torch.tensor([0]))\n",
    "axes[0].plot(axes[0].get_xlim(), [baseline, baseline], label='same score baseline')\n",
    "axes[0].set_ylim(0, 5)\n",
    "axes[0].legend(loc='lower left', fontsize=11)\n",
    "axes[1].plot(axes[1].get_xlim(), [0.1, 0.1], label='same score baseline')\n",
    "fig.suptitle('GNN + static memory, cross-entropy', fontsize=13)"
   ]
  },
  {
   "cell_type": "code",
   "execution_count": 16,
   "id": "e59f43ac",
   "metadata": {},
   "outputs": [
    {
     "data": {
      "image/png": "[encoded data removed]",
      "text/plain": [
       "<Figure size 400x400 with 1 Axes>"
      ]
     },
     "metadata": {},
     "output_type": "display_data"
    }
   ],
   "source": [
    "# compare train loss and val mrr\n",
    "plt.figure(figsize=(4,4))\n",
    "plt.scatter(results['train loss'][10:], results['val mrr'][10:], alpha=0.5)\n",
    "plt.xlabel('Train loss', fontsize=12)\n",
    "plt.ylabel('Val MRR', fontsize=12)\n",
    "plt.xlim(1, 3.5)\n",
    "plt.grid(alpha=0.2)"
   ]
  },
  {
   "cell_type": "code",
   "execution_count": 17,
   "id": "f4da8a97",
   "metadata": {},
   "outputs": [
    {
     "name": "stdout",
     "output_type": "stream",
     "text": [
      "All epochs PearsonRResult(statistic=-0.03203155814835888, pvalue=0.3115765054849065)\n",
      "0.944\n",
      "All epochs, tr < 3 PearsonRResult(statistic=-0.9247579691479946, pvalue=0.0)\n"
     ]
    }
   ],
   "source": [
    "from scipy.stats import pearsonr \n",
    "\n",
    "tr = np.array(results['train loss'])\n",
    "val = np.array(results['val mrr'])\n",
    "print('All epochs', pearsonr(tr, val))\n",
    "keep = tr < 3\n",
    "print(keep.sum()/len(tr))\n",
    "print('All epochs, tr < 3', pearsonr(tr[keep], val[keep]))"
   ]
  },
  {
   "cell_type": "code",
   "execution_count": 26,
   "id": "807b2422",
   "metadata": {},
   "outputs": [
    {
     "name": "stdout",
     "output_type": "stream",
     "text": [
      "Total num epochs 352\n",
      "Min train loss = 2.1775, best val mrr = 0.2475 (epoch 8, train loss = 722.2569), test mrr = -1.0000\n",
      "[2.27458364 2.27707945 2.28002233 2.29775319 2.30261146 2.31074171\n",
      " 2.30663907 2.31458418 2.32125305 2.33567235 2.34287703 2.36022591\n",
      " 2.36386233 2.36510932 2.354077   2.36141221 2.35852877 2.35304813\n",
      " 2.3487047  2.34419892 2.33918297 2.34467858 2.3424496  2.34333444\n",
      " 2.3366027  2.33708153 2.3269533  2.33019877 2.33989788 2.3431695 ]\n"
     ]
    },
    {
     "data": {
      "text/plain": [
       "Text(0.5, 0.98, 'GNN + static memory, cross-entropy')"
      ]
     },
     "execution_count": 26,
     "metadata": {},
     "output_type": "execute_result"
    },
    {
     "data": {
      "image/png": "[encoded data removed]",
      "text/plain": [
       "<Figure size 900x400 with 2 Axes>"
      ]
     },
     "metadata": {},
     "output_type": "display_data"
    }
   ],
   "source": [
    "# same experiment but with lower (default) learning rate of 0.0001\n",
    "# command:\n",
    "# nohup python -u tgnpl.py --time_dim 10 --memory_name static --num_epoch 500 --patience 500 --gpu 1 > static_experiment_lr.out 2>&1 &\n",
    "fn = 'TGNPL_tgbl-hypergraph_0.0001_200_10_500_1_100_10_100_1e-06_500.0_1_False_False_static_False_0_0_1__2023_09_15-09_02_18_results.json'\n",
    "fn = os.path.join('saved_results', fn)\n",
    "with open(fn, 'r') as f:\n",
    "    results = json.load(f)\n",
    "train_loss, val_mrr, test_mrr = results['train loss'], results['val mrr'], results.get('test mrr', -1)\n",
    "print('Total num epochs', len(train_loss))\n",
    "print('Min train loss = %.4f, best val mrr = %.4f (epoch %d, train loss = %.4f), test mrr = %.4f' % (\n",
    "    min(train_loss), max(val_mrr), np.argmax(val_mrr), train_loss[np.argmax(val_mrr)], test_mrr))\n",
    "\n",
    "print(apply_smoothing(results['train loss'], before=5, after=5)[-30:])\n",
    "fig, axes = plot_train_loss_and_val_mrr(results, smoothing=5, logscale=False)\n",
    "baseline = torch.nn.CrossEntropyLoss()(torch.ones(1, 19), torch.tensor([0]))\n",
    "axes[0].plot(axes[0].get_xlim(), [baseline, baseline], label='same score baseline')\n",
    "axes[0].set_ylim(0, 5)\n",
    "axes[0].legend(loc='lower left', fontsize=11)\n",
    "axes[1].plot(axes[1].get_xlim(), [0.1, 0.1], label='same score baseline')\n",
    "fig.suptitle('GNN + static memory, cross-entropy', fontsize=13)"
   ]
  },
  {
   "cell_type": "code",
   "execution_count": 27,
   "id": "1518fd8d",
   "metadata": {},
   "outputs": [
    {
     "name": "stdout",
     "output_type": "stream",
     "text": [
      "All epochs PearsonRResult(statistic=0.5607372965810364, pvalue=1.540496466852236e-30)\n",
      "0.8778409090909091\n",
      "All epochs, tr < 3 PearsonRResult(statistic=-0.7963432817313217, pvalue=5.258106489987849e-69)\n"
     ]
    }
   ],
   "source": [
    "from scipy.stats import pearsonr \n",
    "\n",
    "tr = np.array(results['train loss'])\n",
    "val = np.array(results['val mrr'])\n",
    "print('All epochs', pearsonr(tr, val))\n",
    "keep = tr < 3\n",
    "print(keep.sum()/len(tr))\n",
    "print('All epochs, tr < 3', pearsonr(tr[keep], val[keep]))"
   ]
  },
  {
   "cell_type": "code",
   "execution_count": 30,
   "id": "e36a5c63",
   "metadata": {
    "scrolled": true
   },
   "outputs": [
    {
     "name": "stdout",
     "output_type": "stream",
     "text": [
      "Min train loss = 2.0597, best val mrr = 0.2331 (train loss = 944.9884), test mrr = 0.2287\n"
     ]
    },
    {
     "data": {
      "text/plain": [
       "Text(0.5, 0.98, 'GNN + static memory')"
      ]
     },
     "execution_count": 30,
     "metadata": {},
     "output_type": "execute_result"
    },
    {
     "data": {
      "image/png": "[encoded data removed]",
      "text/plain": [
       "<Figure size 900x400 with 2 Axes>"
      ]
     },
     "metadata": {},
     "output_type": "display_data"
    }
   ],
   "source": [
    "# old experiment\n",
    "# static, mostly default settings, BCE criterion\n",
    "fn = 'TGNPL_tgbl-hypergraph_0.0001_200_10_100_1_100_10_100_1e-06_100.0_1_10_static_False_0_0_2023_09_05-14_14_02_results.json'\n",
    "fn = os.path.join('saved_results', fn)\n",
    "with open(fn, 'r') as f:\n",
    "    results = json.load(f)\n",
    "train_loss, val_mrr, test_mrr = results['train loss'], results['val mrr'], results['test mrr']\n",
    "print('Min train loss = %.4f, best val mrr = %.4f (train loss = %.4f), test mrr = %.4f' % (\n",
    "    min(train_loss), max(val_mrr), train_loss[np.argmax(val_mrr)], test_mrr))\n",
    "fig, axes = plot_train_loss_and_val_mrr(results)\n",
    "fig.suptitle('GNN + static memory', fontsize=13)"
   ]
  },
  {
   "cell_type": "markdown",
   "id": "e6ef4c1f",
   "metadata": {},
   "source": [
    "## What did the model learn?"
   ]
  },
  {
   "cell_type": "code",
   "execution_count": 8,
   "id": "6cd21976",
   "metadata": {},
   "outputs": [],
   "source": [
    "# Initialize model and neighbor_loader\n",
    "model, opt = set_up_model(args, data, device, num_nodes=num_nodes, num_products=num_products)\n",
    "neighbor_loader = LastNeighborLoaderTGNPL(num_nodes, size=NUM_NEIGHBORS, device=device)"
   ]
  },
  {
   "cell_type": "markdown",
   "id": "9b54156a",
   "metadata": {},
   "source": [
    "### Try final model with low train loss"
   ]
  },
  {
   "cell_type": "code",
   "execution_count": 7,
   "id": "7ac7d9ef",
   "metadata": {},
   "outputs": [],
   "source": [
    "# load saved model - final model with low training loss\n",
    "model_path = 'TGNPL_tgbl-hypergraph_0.0001_200_10_100_1_100_10_100_1e-06_100.0_1_10_static_False_0_0_2023_09_05-14_14_02_0_final.pth'\n",
    "model_path = os.path.join('saved_models', model_path)\n",
    "checkpoint = torch.load(model_path)\n",
    "for module_name, module in model.items():\n",
    "    module.load_state_dict(checkpoint[module_name])"
   ]
  },
  {
   "cell_type": "code",
   "execution_count": 8,
   "id": "1d01c87a",
   "metadata": {},
   "outputs": [
    {
     "name": "stderr",
     "output_type": "stream",
     "text": [
      "100%|███████████████████████████████████████████████████████████████████████| 108/108 [01:20<00:00,  1.35it/s]\n"
     ]
    },
    {
     "data": {
      "text/plain": [
       "(2.2241699868197795, 2.2241699868197795, 0.0)"
      ]
     },
     "execution_count": 8,
     "metadata": {},
     "output_type": "execute_result"
    }
   ],
   "source": [
    "# run the model through train loader *without* updating model weights\n",
    "# this is so that we can update model memory and neighbor loader with train data\n",
    "# and to verify that the train loss is low\n",
    "train(model, _, neighbor_loader, data, train_loader, device, loss_name='bce-logits',\n",
    "      update_params=False, num_nodes=num_nodes, num_firms=num_firms, num_products=num_products)"
   ]
  },
  {
   "cell_type": "code",
   "execution_count": 10,
   "id": "314340b5",
   "metadata": {},
   "outputs": [
    {
     "name": "stdout",
     "output_type": "stream",
     "text": [
      "GNN MRR: 0.104181096\n",
      "EdgeBank MRR: 0.69496816\n"
     ]
    }
   ],
   "source": [
    "# test model on first batch of val loader\n",
    "# copied from test() in tgnpl.py\n",
    "model['memory'].eval()\n",
    "model['gnn'].eval()\n",
    "model['link_pred'].eval()\n",
    "assoc = torch.empty(num_nodes, dtype=torch.long, device=device)\n",
    "\n",
    "pos_batch = next(iter(val_loader))\n",
    "pos_src, pos_prod, pos_dst, pos_t, pos_msg = (\n",
    "    pos_batch.src,\n",
    "    pos_batch.prod,\n",
    "    pos_batch.dst,\n",
    "    pos_batch.t,\n",
    "    pos_batch.msg,\n",
    ")\n",
    "bs = len(pos_src)  # batch size\n",
    "\n",
    "neg_batch_list = neg_sampler.query_batch(pos_src, pos_prod, pos_dst, pos_t, split_mode='val')\n",
    "assert len(neg_batch_list) == bs\n",
    "neg_batch_list = torch.Tensor(neg_batch_list)\n",
    "ns_samples = neg_batch_list.size(1) // 3 \n",
    "batch_src = pos_src.reshape(bs, 1).repeat(1, 1+(3*ns_samples))  # [[src1, src1, ...], [src2, src2, ...]]\n",
    "batch_src[:, 1:ns_samples+1] = neg_batch_list[:, :ns_samples]  # replace pos_src with negatives\n",
    "batch_prod = pos_prod.reshape(bs, 1).repeat(1, 1+(3*ns_samples))\n",
    "batch_prod[:, ns_samples+1:(2*ns_samples)+1] = neg_batch_list[:, ns_samples:(2*ns_samples)]  # replace pos_prod with negatives\n",
    "batch_dst = pos_dst.reshape(bs, 1).repeat(1, 1+(3*ns_samples))\n",
    "batch_dst[:, (2*ns_samples)+1:] = neg_batch_list[:, (2*ns_samples):]  # replace pos_dst with negatives\n",
    "src, dst, prod = batch_src.flatten(), batch_dst.flatten(), batch_prod.flatten()  # row-wise\n",
    "\n",
    "# Get GNN prediction\n",
    "f_id = torch.cat([src, dst]).unique()\n",
    "p_id = torch.cat([prod]).unique()\n",
    "n_id, edge_index, e_id = neighbor_loader(f_id, p_id)\n",
    "assoc[n_id] = torch.arange(n_id.size(0), device=device)\n",
    "# Get updated memory of all nodes involved in the computation.\n",
    "memory, last_update, inv_loss = model['memory'](n_id)\n",
    "z = model['gnn'](\n",
    "    memory,\n",
    "    last_update,\n",
    "    edge_index,\n",
    "    repeat_tensor(data.t, 2)[e_id].to(device),\n",
    "    repeat_tensor(data.msg, 2)[e_id].to(device),\n",
    ")\n",
    "y_pred_gnn = model['link_pred'](z[assoc[src]], z[assoc[dst]], z[assoc[prod]])\n",
    "y_pred = y_pred_gnn.reshape(bs, 1+(3*ns_samples))\n",
    "input_dict = {\n",
    "    \"y_pred_pos\": y_pred[:, :1],\n",
    "    \"y_pred_neg\": y_pred[:, 1:],\n",
    "    \"eval_metric\": [metric]\n",
    "}\n",
    "print('GNN MRR:', evaluator.eval(input_dict)[metric])\n",
    "\n",
    "# Get Edgebank prediction\n",
    "y_pred_eb = edgebank.predict(src, dst, prod, use_counts=True)\n",
    "y_pred = y_pred_eb.reshape(bs, 1+(3*ns_samples))\n",
    "input_dict = {\n",
    "    \"y_pred_pos\": y_pred[:, :1],\n",
    "    \"y_pred_neg\": y_pred[:, 1:],\n",
    "    \"eval_metric\": [metric]\n",
    "}\n",
    "print('EdgeBank MRR:', evaluator.eval(input_dict)[metric])"
   ]
  },
  {
   "cell_type": "code",
   "execution_count": 11,
   "id": "ad441ddf",
   "metadata": {},
   "outputs": [
    {
     "name": "stdout",
     "output_type": "stream",
     "text": [
      "(38000, 1)\n",
      "Spearman correlation SpearmanrResult(correlation=0.0576111721834171, pvalue=2.610014425769743e-29)\n",
      "[[-0.8352514]\n",
      " [-0.8352514]\n",
      " [-0.8352514]\n",
      " [-0.8352514]\n",
      " [-0.8352514]\n",
      " [-0.8352514]\n",
      " [-0.8352514]\n",
      " [-0.8352514]\n",
      " [-0.8352514]\n",
      " [-0.8352514]]\n"
     ]
    }
   ],
   "source": [
    "from scipy.stats import spearmanr\n",
    "\n",
    "y_pred_gnn = y_pred_gnn.detach().numpy()\n",
    "y_pred_eb = y_pred_eb.detach().numpy()\n",
    "print(y_pred_gnn.shape)\n",
    "print('Spearman correlation', spearmanr(y_pred_gnn, y_pred_eb))\n",
    "print(y_pred_gnn[:10])"
   ]
  },
  {
   "cell_type": "code",
   "execution_count": 12,
   "id": "bccc5298",
   "metadata": {},
   "outputs": [
    {
     "data": {
      "text/plain": [
       "array([11.,  0.,  0.,  0.,  0.,  0.,  0.,  2.,  1.,  1.], dtype=float32)"
      ]
     },
     "execution_count": 12,
     "metadata": {},
     "output_type": "execute_result"
    }
   ],
   "source": [
    "y_pred_eb[:10]"
   ]
  },
  {
   "cell_type": "markdown",
   "id": "a85d3814",
   "metadata": {},
   "source": [
    "### Try best model with highest val MRR"
   ]
  },
  {
   "cell_type": "code",
   "execution_count": 13,
   "id": "219d5ee1",
   "metadata": {},
   "outputs": [],
   "source": [
    "# load saved model - model with highest MRR\n",
    "model_path = 'TGNPL_tgbl-hypergraph_0.0001_200_10_100_1_100_10_100_1e-06_100.0_1_10_static_False_0_0_2023_09_05-14_14_02_0.pth'\n",
    "model_path = os.path.join('saved_models', model_path)\n",
    "checkpoint = torch.load(model_path)\n",
    "for module_name, module in model.items():\n",
    "    module.load_state_dict(checkpoint[module_name])"
   ]
  },
  {
   "cell_type": "code",
   "execution_count": 14,
   "id": "e405c4f2",
   "metadata": {},
   "outputs": [
    {
     "name": "stderr",
     "output_type": "stream",
     "text": [
      "100%|███████████████████████████████████████████████████████████████████████| 108/108 [01:33<00:00,  1.16it/s]\n"
     ]
    },
    {
     "data": {
      "text/plain": [
       "(345.256700752653, 345.256700752653, 0.0)"
      ]
     },
     "execution_count": 14,
     "metadata": {},
     "output_type": "execute_result"
    }
   ],
   "source": [
    "# run the model through train loader *without* updating model weights\n",
    "# this is so that we can update model memory and neighbor loader with train data\n",
    "# and to verify that the train loss is much higher\n",
    "train(model, _, neighbor_loader, data, train_loader, device, loss_name='bce-logits',\n",
    "      update_params=False, num_nodes=num_nodes, num_firms=num_firms, num_products=num_products)"
   ]
  },
  {
   "cell_type": "code",
   "execution_count": 15,
   "id": "f3112c72",
   "metadata": {},
   "outputs": [
    {
     "name": "stdout",
     "output_type": "stream",
     "text": [
      "GNN MRR: 0.22699822\n",
      "EdgeBank MRR: 0.69496816\n"
     ]
    }
   ],
   "source": [
    "# Get GNN prediction\n",
    "f_id = torch.cat([src, dst]).unique()\n",
    "p_id = torch.cat([prod]).unique()\n",
    "n_id, edge_index, e_id = neighbor_loader(f_id, p_id)\n",
    "assoc[n_id] = torch.arange(n_id.size(0), device=device)\n",
    "# Get updated memory of all nodes involved in the computation.\n",
    "memory, last_update, inv_loss = model['memory'](n_id)\n",
    "z = model['gnn'](\n",
    "    memory,\n",
    "    last_update,\n",
    "    edge_index,\n",
    "    repeat_tensor(data.t, 2)[e_id].to(device),\n",
    "    repeat_tensor(data.msg, 2)[e_id].to(device),\n",
    ")\n",
    "y_pred_gnn = model['link_pred'](z[assoc[src]], z[assoc[dst]], z[assoc[prod]])\n",
    "y_pred = y_pred_gnn.reshape(bs, 1+(3*ns_samples))\n",
    "input_dict = {\n",
    "    \"y_pred_pos\": y_pred[:, :1],\n",
    "    \"y_pred_neg\": y_pred[:, 1:],\n",
    "    \"eval_metric\": [metric]\n",
    "}\n",
    "print('GNN MRR:', evaluator.eval(input_dict)[metric])  # should be higher than before\n",
    "\n",
    "# Get Edgebank prediction\n",
    "y_pred_eb = edgebank.predict(src, dst, prod, use_counts=True)\n",
    "y_pred = y_pred_eb.reshape(bs, 1+(3*ns_samples))\n",
    "input_dict = {\n",
    "    \"y_pred_pos\": y_pred[:, :1],\n",
    "    \"y_pred_neg\": y_pred[:, 1:],\n",
    "    \"eval_metric\": [metric]\n",
    "}\n",
    "print('EdgeBank MRR:', evaluator.eval(input_dict)[metric])  # should be the same as before"
   ]
  },
  {
   "cell_type": "code",
   "execution_count": 16,
   "id": "c2c03ac9",
   "metadata": {},
   "outputs": [
    {
     "name": "stdout",
     "output_type": "stream",
     "text": [
      "(38000, 1)\n",
      "Spearman correlation SpearmanrResult(correlation=0.16916034598167873, pvalue=6.769444725066205e-242)\n",
      "[[-1406.6364 ]\n",
      " [-2458.574  ]\n",
      " [-2461.6873 ]\n",
      " [-1911.2262 ]\n",
      " [-2617.1443 ]\n",
      " [-2453.531  ]\n",
      " [-2464.6873 ]\n",
      " [-1370.6754 ]\n",
      " [-1371.9606 ]\n",
      " [ -726.79846]]\n"
     ]
    }
   ],
   "source": [
    "from scipy.stats import spearmanr\n",
    "\n",
    "y_pred_gnn = y_pred_gnn.detach().numpy()\n",
    "y_pred_eb = y_pred_eb.detach().numpy()\n",
    "print(y_pred_gnn.shape)\n",
    "print('Spearman correlation', spearmanr(y_pred_gnn, y_pred_eb))\n",
    "print(y_pred_gnn[:10])"
   ]
  },
  {
   "cell_type": "markdown",
   "id": "8735d159",
   "metadata": {},
   "source": [
    "### Test loss"
   ]
  },
  {
   "cell_type": "code",
   "execution_count": 8,
   "id": "de39e46f",
   "metadata": {},
   "outputs": [
    {
     "name": "stdout",
     "output_type": "stream",
     "text": [
      "sigmoid x: 0.30253583558385383\n",
      "loss if positive 1.1955555437876215\n",
      "loss if negative 0.36030414378762143\n",
      "expected total loss from batch 2.276467975150486\n"
     ]
    }
   ],
   "source": [
    "def sigmoid(x):\n",
    "    return 1 / (1 + np.exp(-x))\n",
    "\n",
    "x = -0.8352514\n",
    "sigx = sigmoid(x)\n",
    "print('sigmoid x:', sigx)\n",
    "\n",
    "pos_l = -np.log(sigx)\n",
    "print('loss if positive', pos_l)\n",
    "\n",
    "neg_l = -np.log(1-sigx)\n",
    "print('loss if negative', neg_l)\n",
    "\n",
    "total = pos_l + (3*neg_l)\n",
    "print('expected total loss from batch', total)"
   ]
  },
  {
   "cell_type": "code",
   "execution_count": 9,
   "id": "7d2a927e",
   "metadata": {},
   "outputs": [
    {
     "data": {
      "text/plain": [
       "tensor(1.3863)"
      ]
     },
     "execution_count": 9,
     "metadata": {},
     "output_type": "execute_result"
    }
   ],
   "source": [
    "ce_loss = torch.nn.CrossEntropyLoss()\n",
    "ce_loss(torch.tensor([[x, x, x, x]]), torch.tensor([0]).long())"
   ]
  },
  {
   "cell_type": "code",
   "execution_count": 10,
   "id": "7f83ce5f",
   "metadata": {},
   "outputs": [
    {
     "data": {
      "text/plain": [
       "tensor(1.3863)"
      ]
     },
     "execution_count": 10,
     "metadata": {},
     "output_type": "execute_result"
    }
   ],
   "source": [
    "# same if you use any equal number\n",
    "ce_loss(torch.ones((1, 4)), torch.tensor([0]).long())"
   ]
  },
  {
   "cell_type": "code",
   "execution_count": 26,
   "id": "11eaa07e",
   "metadata": {
    "scrolled": true
   },
   "outputs": [
    {
     "name": "stdout",
     "output_type": "stream",
     "text": [
      "4 tensor(1.3863)\n",
      "5 tensor(1.6094)\n",
      "6 tensor(1.7918)\n",
      "7 tensor(1.9459)\n",
      "8 tensor(2.0794)\n",
      "9 tensor(2.1972)\n",
      "10 tensor(2.3026)\n",
      "11 tensor(2.3979)\n",
      "12 tensor(2.4849)\n",
      "13 tensor(2.5649)\n",
      "14 tensor(2.6391)\n",
      "15 tensor(2.7081)\n",
      "16 tensor(2.7726)\n",
      "17 tensor(2.8332)\n",
      "18 tensor(2.8904)\n",
      "19 tensor(2.9444)\n"
     ]
    }
   ],
   "source": [
    "for c in range(4, 20):\n",
    "    print(c, ce_loss(torch.ones((1, c)), torch.tensor([0]).long()))"
   ]
  },
  {
   "cell_type": "code",
   "execution_count": 27,
   "id": "add4d5a1",
   "metadata": {},
   "outputs": [
    {
     "data": {
      "text/plain": [
       "tensor(0.7437)"
      ]
     },
     "execution_count": 27,
     "metadata": {},
     "output_type": "execute_result"
    }
   ],
   "source": [
    "# double, four classes\n",
    "ce_loss(torch.tensor([[2., 1., 1., 1.]]), torch.tensor([0]).long())"
   ]
  },
  {
   "cell_type": "code",
   "execution_count": 28,
   "id": "46081c66",
   "metadata": {},
   "outputs": [
    {
     "data": {
      "text/plain": [
       "tensor(1.7827)"
      ]
     },
     "execution_count": 28,
     "metadata": {},
     "output_type": "execute_result"
    }
   ],
   "source": [
    "# half, four classes\n",
    "ce_loss(torch.tensor([[0.5, 1., 1., 1.]]), torch.tensor([0]).long())"
   ]
  },
  {
   "cell_type": "markdown",
   "id": "dc6eae33",
   "metadata": {},
   "source": [
    "### Try final model from cross-entropy experiment"
   ]
  },
  {
   "cell_type": "code",
   "execution_count": 32,
   "id": "b5063821",
   "metadata": {},
   "outputs": [],
   "source": [
    "# load saved model\n",
    "model_path = 'TGNPL_tgbl-hypergraph_0.0001_200_10_100_1_100_10_100_1e-06_100.0_1_10_static_False_0_0_2023_09_06-11_46_26_0_final.pth'\n",
    "model_path = os.path.join('saved_models', model_path)\n",
    "checkpoint = torch.load(model_path)\n",
    "for module_name, module in model.items():\n",
    "    module.load_state_dict(checkpoint[module_name])"
   ]
  },
  {
   "cell_type": "code",
   "execution_count": 33,
   "id": "ffb8c947",
   "metadata": {},
   "outputs": [
    {
     "name": "stderr",
     "output_type": "stream",
     "text": [
      "100%|███████████████████████████████████████████████████████████████████████| 108/108 [01:11<00:00,  1.51it/s]\n"
     ]
    },
    {
     "data": {
      "text/plain": [
       "(1.3821909806848687, 1.3821909806848687, 0.0)"
      ]
     },
     "execution_count": 33,
     "metadata": {},
     "output_type": "execute_result"
    }
   ],
   "source": [
    "# run the model through train loader *without* updating model weights\n",
    "# this is so that we can update model memory and neighbor loader with train data\n",
    "# and to verify that the train loss is much higher\n",
    "train(model, _, neighbor_loader, data, train_loader, device, loss_name='ce-softmax',\n",
    "      update_params=False, num_nodes=num_nodes, num_firms=num_firms, num_products=num_products)"
   ]
  },
  {
   "cell_type": "code",
   "execution_count": 34,
   "id": "9ae22571",
   "metadata": {},
   "outputs": [
    {
     "name": "stdout",
     "output_type": "stream",
     "text": [
      "GNN MRR: 0.1001942\n",
      "EdgeBank MRR: 0.69496816\n"
     ]
    }
   ],
   "source": [
    "# Get GNN prediction\n",
    "f_id = torch.cat([src, dst]).unique()\n",
    "p_id = torch.cat([prod]).unique()\n",
    "n_id, edge_index, e_id = neighbor_loader(f_id, p_id)\n",
    "assoc[n_id] = torch.arange(n_id.size(0), device=device)\n",
    "# Get updated memory of all nodes involved in the computation.\n",
    "memory, last_update, inv_loss = model['memory'](n_id)\n",
    "z = model['gnn'](\n",
    "    memory,\n",
    "    last_update,\n",
    "    edge_index,\n",
    "    repeat_tensor(data.t, 2)[e_id].to(device),\n",
    "    repeat_tensor(data.msg, 2)[e_id].to(device),\n",
    ")\n",
    "y_pred_gnn = model['link_pred'](z[assoc[src]], z[assoc[dst]], z[assoc[prod]])\n",
    "y_pred = y_pred_gnn.reshape(bs, 1+(3*ns_samples))\n",
    "input_dict = {\n",
    "    \"y_pred_pos\": y_pred[:, :1],\n",
    "    \"y_pred_neg\": y_pred[:, 1:],\n",
    "    \"eval_metric\": [metric]\n",
    "}\n",
    "print('GNN MRR:', evaluator.eval(input_dict)[metric])  # should be higher than before\n",
    "\n",
    "# Get Edgebank prediction\n",
    "y_pred_eb = edgebank.predict(src, dst, prod, use_counts=True)\n",
    "y_pred = y_pred_eb.reshape(bs, 1+(3*ns_samples))\n",
    "input_dict = {\n",
    "    \"y_pred_pos\": y_pred[:, :1],\n",
    "    \"y_pred_neg\": y_pred[:, 1:],\n",
    "    \"eval_metric\": [metric]\n",
    "}\n",
    "print('EdgeBank MRR:', evaluator.eval(input_dict)[metric])  # should be the same as before"
   ]
  },
  {
   "cell_type": "code",
   "execution_count": 35,
   "id": "20b72cea",
   "metadata": {},
   "outputs": [
    {
     "name": "stdout",
     "output_type": "stream",
     "text": [
      "(38000, 1)\n",
      "Spearman correlation SpearmanrResult(correlation=0.023991311286992563, pvalue=2.9069547426294575e-06)\n",
      "[[-1.9877135]\n",
      " [-1.9877135]\n",
      " [-1.9877135]\n",
      " [-1.9877135]\n",
      " [-1.9877135]\n",
      " [-1.9877135]\n",
      " [-1.9877135]\n",
      " [-1.9877135]\n",
      " [-1.9877135]\n",
      " [-1.9877135]]\n"
     ]
    }
   ],
   "source": [
    "from scipy.stats import spearmanr\n",
    "\n",
    "y_pred_gnn = y_pred_gnn.detach().numpy()\n",
    "y_pred_eb = y_pred_eb.detach().numpy()\n",
    "print(y_pred_gnn.shape)\n",
    "print('Spearman correlation', spearmanr(y_pred_gnn, y_pred_eb))\n",
    "print(y_pred_gnn[:10])"
   ]
  },
  {
   "cell_type": "code",
   "execution_count": 36,
   "id": "489a179f",
   "metadata": {},
   "outputs": [
    {
     "data": {
      "text/plain": [
       "array([11.,  0.,  0.,  0.,  0.,  0.,  0.,  2.,  1.,  1.], dtype=float32)"
      ]
     },
     "execution_count": 36,
     "metadata": {},
     "output_type": "execute_result"
    }
   ],
   "source": [
    "y_pred_eb[:10]"
   ]
  },
  {
   "cell_type": "markdown",
   "id": "09fda9fe",
   "metadata": {},
   "source": [
    "# Try fitting model on tiny data"
   ]
  },
  {
   "cell_type": "code",
   "execution_count": 9,
   "id": "42938431",
   "metadata": {},
   "outputs": [
    {
     "name": "stdout",
     "output_type": "stream",
     "text": [
      "torch.Size([100])\n"
     ]
    }
   ],
   "source": [
    "# first 100 data points in val, NO neighbors\n",
    "mini_loader = TemporalDataLoader(data[dataset.val_mask][:100], batch_size=args.bs)\n",
    "assert len(mini_loader) == 1\n",
    "batch = next(iter(mini_loader))\n",
    "pos_src, pos_prod, pos_dst, pos_t, pos_msg = batch.src, batch.prod, batch.dst, batch.t, batch.msg\n",
    "print(pos_src.shape)"
   ]
  },
  {
   "cell_type": "code",
   "execution_count": 10,
   "id": "a33115a0",
   "metadata": {
    "scrolled": true
   },
   "outputs": [
    {
     "name": "stdout",
     "output_type": "stream",
     "text": [
      "10 2.9220187664031982\n",
      "20 2.9017345905303955\n",
      "30 2.880199670791626\n",
      "40 2.8553457260131836\n",
      "50 2.8263094425201416\n",
      "60 2.7912774085998535\n",
      "70 2.747941255569458\n",
      "80 2.6948401927948\n",
      "90 2.6300723552703857\n",
      "100 2.551215171813965\n",
      "110 2.4560129642486572\n",
      "120 2.3421247005462646\n",
      "130 2.2077460289001465\n",
      "140 2.054453134536743\n",
      "150 1.8853542804718018\n",
      "160 1.7037063837051392\n",
      "170 1.515998363494873\n",
      "180 1.3258295059204102\n",
      "190 1.141403317451477\n",
      "200 0.9695330858230591\n",
      "210 0.8153750896453857\n",
      "220 0.6815702319145203\n",
      "230 0.5684295296669006\n",
      "240 0.4747850298881531\n",
      "250 0.3986516296863556\n",
      "260 0.33613598346710205\n",
      "270 0.2851008474826813\n",
      "280 0.24368907511234283\n",
      "290 0.20917189121246338\n",
      "300 0.18004654347896576\n",
      "310 0.15600349009037018\n",
      "320 0.13607057929039001\n",
      "330 0.11928333342075348\n",
      "340 0.10512791574001312\n",
      "350 0.09318291395902634\n",
      "360 0.08297906070947647\n",
      "370 0.07427482306957245\n",
      "380 0.06677387654781342\n",
      "390 0.06023601070046425\n",
      "400 0.054511502385139465\n",
      "410 0.04945424944162369\n",
      "420 0.044879134744405746\n",
      "430 0.040811337530612946\n",
      "440 0.0372978150844574\n",
      "450 0.03428230434656143\n",
      "460 0.031652215868234634\n",
      "470 0.029321294277906418\n",
      "480 0.02723967283964157\n",
      "490 0.02536768652498722\n",
      "500 0.023677585646510124\n",
      "510 0.02214779704809189\n",
      "520 0.020757419988512993\n",
      "530 0.019492313265800476\n",
      "540 0.018338067457079887\n",
      "550 0.017282001674175262\n",
      "560 0.01631293073296547\n",
      "570 0.015417673625051975\n",
      "580 0.01458978746086359\n",
      "590 0.013820609077811241\n",
      "600 0.01310285646468401\n",
      "610 0.012434886768460274\n",
      "620 0.011821670457720757\n",
      "630 0.011253148317337036\n",
      "640 0.010725332424044609\n",
      "650 0.010233079083263874\n",
      "660 0.009773104451596737\n",
      "670 0.009342026896774769\n",
      "680 0.008937959559261799\n",
      "690 0.00855985563248396\n",
      "700 0.00820483360439539\n",
      "710 0.007871783338487148\n",
      "720 0.007558571640402079\n",
      "730 0.00726309884339571\n",
      "740 0.00698429811745882\n",
      "750 0.006720764562487602\n",
      "760 0.006471617612987757\n",
      "770 0.0062358081340789795\n",
      "780 0.0060123843140900135\n",
      "790 0.00580024067312479\n",
      "800 0.005598686169832945\n",
      "810 0.005407217890024185\n",
      "820 0.005225100088864565\n",
      "830 0.005051909014582634\n",
      "840 0.004886859096586704\n",
      "850 0.0047293659299612045\n",
      "860 0.0045791747979819775\n",
      "870 0.0044359671883285046\n",
      "880 0.004299216903746128\n",
      "890 0.004168591927736998\n",
      "900 0.004043624270707369\n",
      "910 0.003923998214304447\n",
      "920 0.003809497691690922\n",
      "930 0.003699691966176033\n",
      "940 0.003594391979277134\n",
      "950 0.003493292024359107\n",
      "960 0.0033962675370275974\n",
      "970 0.0033030875492841005\n",
      "980 0.003213612362742424\n",
      "990 0.0031275674700737\n"
     ]
    }
   ],
   "source": [
    "# try model with static memory\n",
    "model, opt = set_up_model(args, data, device, num_firms=num_firms, num_products=num_products)\n",
    "neighbor_loader = LastNeighborLoaderTGNPL(num_nodes, size=NUM_NEIGHBORS, device=device)\n",
    "\n",
    "# fit model on FIXED negative samples from neg_sampler\n",
    "for epoch in range(1, 1000):\n",
    "    loss, _, _ = train(model, opt, neighbor_loader, data, mini_loader, device, \n",
    "                       loss_name='ce-softmax', update_params=True, \n",
    "                       neg_sampler=neg_sampler, split_mode=\"val\", \n",
    "                       num_firms=num_firms, num_products=num_products)\n",
    "    if epoch % 10 == 0:\n",
    "        print(epoch, loss)"
   ]
  },
  {
   "cell_type": "code",
   "execution_count": 11,
   "id": "5da83f3e",
   "metadata": {},
   "outputs": [
    {
     "data": {
      "text/plain": [
       "0.06897573918104172"
      ]
     },
     "execution_count": 11,
     "metadata": {},
     "output_type": "execute_result"
    }
   ],
   "source": [
    "# test MRR on same data\n",
    "# if we don't reset neighbor loader, results will be bad\n",
    "test(model, neighbor_loader, data, mini_loader, neg_sampler, evaluator, device,\n",
    "     split_mode=\"val\", metric=\"mrr\", num_firms=num_firms, num_products=num_products)"
   ]
  },
  {
   "cell_type": "code",
   "execution_count": 12,
   "id": "90e8e54a",
   "metadata": {},
   "outputs": [
    {
     "data": {
      "text/plain": [
       "1.0"
      ]
     },
     "execution_count": 12,
     "metadata": {},
     "output_type": "execute_result"
    }
   ],
   "source": [
    "# perfect results once we reset\n",
    "neighbor_loader.reset_state()\n",
    "test(model, neighbor_loader, data, mini_loader, neg_sampler, evaluator, device,\n",
    "     split_mode=\"val\", metric=\"mrr\", num_firms=num_firms, num_products=num_products)"
   ]
  },
  {
   "cell_type": "code",
   "execution_count": 13,
   "id": "9ab286e4",
   "metadata": {
    "scrolled": true
   },
   "outputs": [
    {
     "name": "stdout",
     "output_type": "stream",
     "text": [
      "10 2.930971145629883\n",
      "20 2.9115118980407715\n",
      "30 2.891180992126465\n",
      "40 2.8688530921936035\n",
      "50 2.842466354370117\n",
      "60 2.8105926513671875\n",
      "70 2.7741265296936035\n",
      "80 2.7234182357788086\n",
      "90 2.670279026031494\n",
      "100 2.606276750564575\n",
      "110 2.523387908935547\n",
      "120 2.4261014461517334\n",
      "130 2.320310592651367\n",
      "140 2.176255941390991\n",
      "150 2.048274278640747\n",
      "160 1.8960990905761719\n",
      "170 1.7060673236846924\n",
      "180 1.5425710678100586\n",
      "190 1.3795925378799438\n",
      "200 1.1849300861358643\n",
      "210 1.080944538116455\n",
      "220 0.9391130208969116\n",
      "230 0.8780184388160706\n",
      "240 0.7507911920547485\n",
      "250 0.6481524705886841\n",
      "260 0.5959666967391968\n",
      "270 0.5392009019851685\n",
      "280 0.43563270568847656\n",
      "290 0.41123539209365845\n",
      "300 0.3986228108406067\n",
      "310 0.35086485743522644\n",
      "320 0.28176915645599365\n",
      "330 0.35280081629753113\n",
      "340 0.316967636346817\n",
      "350 0.24492065608501434\n",
      "360 0.32185104489326477\n",
      "370 0.31544309854507446\n",
      "380 0.2739083766937256\n",
      "390 0.27624624967575073\n",
      "400 0.26546764373779297\n",
      "410 0.22075535356998444\n",
      "420 0.21114473044872284\n",
      "430 0.23568663001060486\n",
      "440 0.2233443260192871\n",
      "450 0.208199143409729\n",
      "460 0.18668107688426971\n",
      "470 0.1727173924446106\n",
      "480 0.18813937902450562\n",
      "490 0.18272678554058075\n",
      "500 0.14924179017543793\n",
      "510 0.1859351098537445\n",
      "520 0.239460751414299\n",
      "530 0.16668327152729034\n",
      "540 0.19230419397354126\n",
      "550 0.1621745526790619\n",
      "560 0.1496506631374359\n",
      "570 0.14762955904006958\n",
      "580 0.19905637204647064\n",
      "590 0.15311995148658752\n",
      "600 0.14866946637630463\n",
      "610 0.17757853865623474\n",
      "620 0.19543881714344025\n",
      "630 0.18040712177753448\n",
      "640 0.12071681767702103\n",
      "650 0.18986497819423676\n",
      "660 0.2091636210680008\n",
      "670 0.15011902153491974\n",
      "680 0.11409750580787659\n",
      "690 0.20642952620983124\n",
      "700 0.15480190515518188\n",
      "710 0.15433984994888306\n",
      "720 0.11170799285173416\n",
      "730 0.19748058915138245\n",
      "740 0.08973376452922821\n",
      "750 0.16138462722301483\n",
      "760 0.15769504010677338\n",
      "770 0.14756053686141968\n",
      "780 0.12248192727565765\n",
      "790 0.15271441638469696\n",
      "800 0.15746040642261505\n",
      "810 0.15731772780418396\n",
      "820 0.14781661331653595\n",
      "830 0.1781955361366272\n",
      "840 0.17722171545028687\n",
      "850 0.16341565549373627\n",
      "860 0.16668975353240967\n",
      "870 0.14791758358478546\n",
      "880 0.16439279913902283\n",
      "890 0.16919296979904175\n",
      "900 0.13020890951156616\n",
      "910 0.13919557631015778\n",
      "920 0.13442307710647583\n",
      "930 0.15867353975772858\n",
      "940 0.13276630640029907\n",
      "950 0.16225594282150269\n",
      "960 0.11161158233880997\n",
      "970 0.16728031635284424\n",
      "980 0.11799690872430801\n",
      "990 0.1211789920926094\n"
     ]
    }
   ],
   "source": [
    "# still trying model with static memory\n",
    "model, opt = set_up_model(args, data, device, num_firms=num_firms, num_products=num_products)\n",
    "neighbor_loader = LastNeighborLoaderTGNPL(num_nodes, size=NUM_NEIGHBORS, device=device)\n",
    "\n",
    "# fit model on RANDOM negative samples\n",
    "# should be able to learn but loss will go down a bit more randomly\n",
    "for epoch in range(1, 1000):\n",
    "    loss, _, _ = train(model, opt, neighbor_loader, data, mini_loader, device, \n",
    "                       loss_name='ce-softmax', update_params=True, \n",
    "                       ns_samples=6, num_firms=num_firms, num_products=num_products)\n",
    "    if epoch % 10 == 0:\n",
    "        print(epoch, loss)"
   ]
  },
  {
   "cell_type": "code",
   "execution_count": 14,
   "id": "9f9127ec",
   "metadata": {},
   "outputs": [
    {
     "name": "stdout",
     "output_type": "stream",
     "text": [
      "MRR: before resetting = 0.0766; after resetting = 0.8275\n"
     ]
    }
   ],
   "source": [
    "# test MRR on same data\n",
    "# if we don't reset neighbor loader, results will be bad\n",
    "mrr1 = test(model, neighbor_loader, data, mini_loader, neg_sampler, evaluator, device,\n",
    "     split_mode=\"val\", metric=\"mrr\", num_firms=num_firms, num_products=num_products)\n",
    "\n",
    "# much better results once we reset\n",
    "neighbor_loader.reset_state()\n",
    "mrr2 = test(model, neighbor_loader, data, mini_loader, neg_sampler, evaluator, device,\n",
    "     split_mode=\"val\", metric=\"mrr\", num_firms=num_firms, num_products=num_products)\n",
    "\n",
    "print(f'MRR: before resetting = {mrr1:.4f}; after resetting = {mrr2:.4f}')"
   ]
  },
  {
   "cell_type": "code",
   "execution_count": 15,
   "id": "8d5d2956",
   "metadata": {},
   "outputs": [
    {
     "name": "stdout",
     "output_type": "stream",
     "text": [
      "10\n",
      "torch.Size([10])\n"
     ]
    }
   ],
   "source": [
    "# first 100 data points in val, WITH time-varying neighbors\n",
    "mini_loader = TemporalDataLoader(data[dataset.val_mask][:100], batch_size=10)\n",
    "print(len(mini_loader))\n",
    "batch = next(iter(mini_loader))\n",
    "pos_src, pos_prod, pos_dst, pos_t, pos_msg = batch.src, batch.prod, batch.dst, batch.t, batch.msg\n",
    "print(pos_src.shape)"
   ]
  },
  {
   "cell_type": "code",
   "execution_count": 16,
   "id": "e2fcd23d",
   "metadata": {
    "scrolled": true
   },
   "outputs": [
    {
     "name": "stdout",
     "output_type": "stream",
     "text": [
      "10 27.83467755317688\n",
      "20 25.512652802467347\n",
      "30 17.72217490673065\n",
      "40 9.773334860801697\n",
      "50 12.475264048576355\n",
      "60 18.38878974914551\n",
      "70 6.673036909103393\n",
      "80 16.780718970298768\n",
      "90 35.1246514081955\n",
      "100 13.547952389717102\n",
      "110 36.498050117492674\n",
      "120 22.376689910888672\n",
      "130 17.23010218143463\n",
      "140 16.06598675251007\n",
      "150 11.117098689079285\n",
      "160 7.550931918621063\n",
      "170 35.25904347896576\n",
      "180 16.91236913204193\n",
      "190 17.091584753990173\n",
      "200 21.56358560323715\n",
      "210 8.307183039188384\n",
      "220 9.269250357151032\n",
      "230 32.50069929361344\n",
      "240 19.948943161964415\n",
      "250 22.00958843231201\n",
      "260 11.412116718292236\n",
      "270 28.59958282709122\n",
      "280 10.828151714801788\n",
      "290 8.165119385719299\n",
      "300 19.106104099750517\n",
      "310 8.442838144302367\n",
      "320 14.171113383769988\n",
      "330 14.392888021469116\n",
      "340 12.668455427885055\n",
      "350 9.190313917398452\n",
      "360 19.574453008174896\n",
      "370 8.777259993553162\n",
      "380 6.195041143894196\n",
      "390 19.86347241103649\n",
      "400 22.268221825361252\n",
      "410 4.114210107922554\n",
      "420 4.014375162124634\n",
      "430 7.906044036149979\n",
      "440 5.86535621881485\n",
      "450 14.850204120576382\n",
      "460 19.151619775593282\n",
      "470 12.163855972886086\n",
      "480 25.301389008760452\n",
      "490 37.66993313133717\n",
      "500 11.969218754768372\n",
      "510 30.607812175154685\n",
      "520 13.632456333935261\n",
      "530 9.459413090348244\n",
      "540 12.05808731392026\n",
      "550 20.46909303814173\n",
      "560 22.198072398453952\n",
      "570 11.303340046107769\n",
      "580 22.057669577002525\n",
      "590 22.469788835942744\n",
      "600 36.37567585557699\n",
      "610 20.373239459097384\n",
      "620 4.49646684601903\n",
      "630 64.39417968913912\n",
      "640 14.980904211103915\n",
      "650 18.407793234288693\n",
      "660 25.96399920582771\n",
      "670 23.298392541706562\n",
      "680 14.18292763531208\n",
      "690 28.45627904832363\n",
      "700 78.808087682724\n",
      "710 36.338156036660074\n",
      "720 9.662016023695468\n",
      "730 14.421938588097692\n",
      "740 15.477403101325034\n",
      "750 32.59876234233379\n",
      "760 21.52929839454591\n",
      "770 29.912316419184208\n",
      "780 11.34633045643568\n",
      "790 14.101379483006895\n",
      "800 27.29752211123705\n",
      "810 5.842660383880139\n",
      "820 4.145823368430138\n",
      "830 9.81765098720789\n",
      "840 170.52994339726865\n",
      "850 25.862938107177616\n",
      "860 5.355633311159909\n",
      "870 13.506136256083845\n",
      "880 4.182943339459598\n",
      "890 10.858432630077004\n",
      "900 14.215321493707597\n",
      "910 26.02097919844091\n",
      "920 3.9432220919057728\n",
      "930 17.5627291392535\n",
      "940 11.143903758004308\n",
      "950 6.57482360675931\n",
      "960 5.272104967944324\n",
      "970 11.47507742177695\n",
      "980 12.021065620332957\n",
      "990 24.95539066195488\n"
     ]
    }
   ],
   "source": [
    "# still trying model with static memory\n",
    "model, opt = set_up_model(args, data, device, num_firms=num_firms, num_products=num_products)\n",
    "neighbor_loader = LastNeighborLoaderTGNPL(num_nodes, size=NUM_NEIGHBORS, device=device)\n",
    "\n",
    "# fit model on FIXED negative samples from neg_sampler, time-varying neighbors\n",
    "# results: loss seems a lot more unstable with time-varying neighbors\n",
    "for epoch in range(1, 1000):\n",
    "    loss, _, _ = train(model, opt, neighbor_loader, data, mini_loader, device, \n",
    "                       loss_name='ce-softmax', update_params=True, \n",
    "                       neg_sampler=neg_sampler, split_mode=\"val\", \n",
    "                       num_firms=num_firms, num_products=num_products)\n",
    "    if epoch % 10 == 0:\n",
    "        print(epoch, loss)"
   ]
  },
  {
   "cell_type": "code",
   "execution_count": 17,
   "id": "0cfbd294",
   "metadata": {},
   "outputs": [
    {
     "name": "stdout",
     "output_type": "stream",
     "text": [
      "MRR: before resetting = 0.3897; after resetting = 0.9201\n"
     ]
    }
   ],
   "source": [
    "# test MRR on same data\n",
    "# if we don't reset neighbor loader, results will be bad\n",
    "mrr1 = test(model, neighbor_loader, data, mini_loader, neg_sampler, evaluator, device,\n",
    "     split_mode=\"val\", metric=\"mrr\", num_firms=num_firms, num_products=num_products)\n",
    "\n",
    "# even with unstable loss, MRR is quite high!\n",
    "neighbor_loader.reset_state()\n",
    "mrr2 = test(model, neighbor_loader, data, mini_loader, neg_sampler, evaluator, device,\n",
    "     split_mode=\"val\", metric=\"mrr\", num_firms=num_firms, num_products=num_products)\n",
    "\n",
    "print(f'MRR: before resetting = {mrr1:.4f}; after resetting = {mrr2:.4f}')"
   ]
  },
  {
   "cell_type": "code",
   "execution_count": 18,
   "id": "e1b98d6b",
   "metadata": {
    "scrolled": true
   },
   "outputs": [
    {
     "name": "stdout",
     "output_type": "stream",
     "text": [
      "10 24.956241965293884\n",
      "20 30.43052921295166\n",
      "30 7.695990705490113\n",
      "40 13.213143491744995\n",
      "50 98.48384375572205\n",
      "60 72.1378377199173\n",
      "70 29.12720568180084\n",
      "80 70.45835793018341\n",
      "90 12.57285213470459\n",
      "100 12.824302053451538\n",
      "110 10.095746684074403\n",
      "120 15.348774886131286\n",
      "130 162.0021781206131\n",
      "140 4.201750612258911\n",
      "150 6.744742202758789\n",
      "160 24.57523732185364\n",
      "170 5.696411538124084\n",
      "180 14.870009446144104\n",
      "190 53.59659504890442\n",
      "200 8.538229417800903\n",
      "210 38.080921220779416\n",
      "220 8.127930772304534\n",
      "230 26.291881763935088\n",
      "240 13.497850334644317\n",
      "250 42.264190673828125\n",
      "260 28.690243244171143\n",
      "270 52.675991606712344\n",
      "280 74.2493488907814\n",
      "290 60.079473447799685\n",
      "300 40.80417897701263\n",
      "310 58.95437757968902\n",
      "320 15.210980558395386\n",
      "330 37.40291576385498\n",
      "340 8.561397051811218\n",
      "350 16.884440660476685\n",
      "360 45.48376286625862\n",
      "370 18.291567957401277\n",
      "380 7.01245037317276\n",
      "390 1.964197474718094\n",
      "400 7.915888142585755\n",
      "410 6.348958498239517\n",
      "420 4.519175231456757\n",
      "430 7.108771502971649\n",
      "440 5.050497698783874\n",
      "450 15.848555278778075\n",
      "460 11.420661824941636\n",
      "470 11.4284886687994\n",
      "480 4.944695913791657\n",
      "490 38.55578412115574\n",
      "500 10.027567958831787\n",
      "510 34.44040275216103\n",
      "520 18.740948358178137\n",
      "530 33.04903652667999\n",
      "540 21.210309278964996\n",
      "550 29.189642569422723\n",
      "560 15.896182829141617\n",
      "570 9.828566354513168\n",
      "580 28.550733065605165\n",
      "590 3.534983143210411\n",
      "600 29.735404655337334\n",
      "610 40.83271049261093\n",
      "620 1.8238075852394104\n",
      "630 5.722455072402954\n",
      "640 18.922756776213646\n",
      "650 13.806805443763732\n",
      "660 1.7616391777992249\n",
      "670 10.23271689414978\n",
      "680 46.05256713628769\n",
      "690 23.60342883467674\n",
      "700 15.481434139609338\n",
      "710 1.8884498991072178\n",
      "720 5.806087346374989\n",
      "730 3.2396934971213343\n",
      "740 7.977601847052574\n",
      "750 10.46219081133604\n",
      "760 2.683671236038208\n",
      "770 20.9065915428102\n",
      "780 20.708022038638592\n",
      "790 19.410957656800747\n",
      "800 13.211375260353089\n",
      "810 9.609750545024871\n",
      "820 23.941060017049313\n",
      "830 13.852692906931043\n",
      "840 37.91631559431553\n",
      "850 4.160894385352731\n",
      "860 3.428443592786789\n",
      "870 48.63101030439138\n",
      "880 6.470276437699795\n",
      "890 42.424835458397865\n",
      "900 1.9682190999388696\n",
      "910 13.969797562062741\n",
      "920 11.506622586399317\n",
      "930 14.777714989334346\n",
      "940 5.552219162136316\n",
      "950 2.141817010566592\n",
      "960 5.3325841397047045\n",
      "970 1.6637404985725879\n",
      "980 20.430793250352146\n",
      "990 21.896310210973024\n"
     ]
    }
   ],
   "source": [
    "# still trying model with static memory\n",
    "model, opt = set_up_model(args, data, device, num_firms=num_firms, num_products=num_products)\n",
    "neighbor_loader = LastNeighborLoaderTGNPL(num_nodes, size=NUM_NEIGHBORS, device=device)\n",
    "\n",
    "# fit model on RANDOM negative samples, time-varying neighbors\n",
    "# should be able to learn but loss will go down a bit more randomly\n",
    "for epoch in range(1, 1000):\n",
    "    loss, _, _ = train(model, opt, neighbor_loader, data, mini_loader, device, \n",
    "                       loss_name='ce-softmax', update_params=True, \n",
    "                       ns_samples=6, num_firms=num_firms, num_products=num_products)\n",
    "    if epoch % 10 == 0:\n",
    "        print(epoch, loss)"
   ]
  },
  {
   "cell_type": "code",
   "execution_count": 19,
   "id": "d4a5dcc5",
   "metadata": {},
   "outputs": [
    {
     "name": "stdout",
     "output_type": "stream",
     "text": [
      "MRR: before resetting = 0.1831; after resetting = 0.8171\n"
     ]
    }
   ],
   "source": [
    "# test MRR on same data\n",
    "# low cross-entropy loss should correspond to high MRR\n",
    "# if we don't reset neighbor loader, results will be bad\n",
    "mrr1 = test(model, neighbor_loader, data, mini_loader, neg_sampler, evaluator, device,\n",
    "     split_mode=\"val\", metric=\"mrr\", num_firms=num_firms, num_products=num_products)\n",
    "\n",
    "# results: even with unstable loss, MRR is quite high!\n",
    "neighbor_loader.reset_state()\n",
    "mrr2 = test(model, neighbor_loader, data, mini_loader, neg_sampler, evaluator, device,\n",
    "     split_mode=\"val\", metric=\"mrr\", num_firms=num_firms, num_products=num_products)\n",
    "\n",
    "print(f'MRR: before resetting = {mrr1:.4f}; after resetting = {mrr2:.4f}')"
   ]
  },
  {
   "cell_type": "code",
   "execution_count": 32,
   "id": "56f25c7e",
   "metadata": {
    "scrolled": true
   },
   "outputs": [
    {
     "name": "stdout",
     "output_type": "stream",
     "text": [
      "311 100\n",
      "10 21.044700503349304\n",
      "20 13.277572965621948\n",
      "30 44.376331901550294\n",
      "40 26.074535775184632\n",
      "50 36.28038969039917\n",
      "60 23.0483519077301\n",
      "70 34.71280031204223\n",
      "80 11.13726601600647\n",
      "90 31.982992911338805\n",
      "100 63.541959691047666\n",
      "110 51.641471076011655\n",
      "120 18.117871856689455\n",
      "130 51.42816169261933\n",
      "140 28.130963444709778\n",
      "150 52.86318504810333\n",
      "160 28.135871171951294\n",
      "170 14.516760754585267\n",
      "180 22.393138194084166\n",
      "190 34.35323522090912\n",
      "200 7.773191690444946\n",
      "210 42.01384627819061\n",
      "220 35.630638289451596\n",
      "230 80.64843201637268\n",
      "240 13.32774043083191\n",
      "250 26.83047523498535\n",
      "260 29.928940653800964\n",
      "270 15.344571352005005\n",
      "280 26.266888093948364\n",
      "290 41.380528116226195\n",
      "300 17.4327721118927\n",
      "310 47.2945433139801\n",
      "320 31.48147656917572\n",
      "330 48.17752730846405\n",
      "340 24.417616271972655\n",
      "350 21.85060112476349\n",
      "360 20.497200322151183\n",
      "370 41.146926045417786\n",
      "380 36.93029487133026\n",
      "390 10.99596610069275\n",
      "400 59.094158387184144\n",
      "410 23.157463335990904\n",
      "420 11.961176013946533\n",
      "430 5.498515725135803\n",
      "440 5.291756224632263\n",
      "450 54.16126356124878\n",
      "460 61.23222739696503\n",
      "470 47.86121280193329\n",
      "480 11.90645956993103\n",
      "490 32.97278389930725\n",
      "500 13.358742356300354\n",
      "510 7.0487874269485475\n",
      "520 7.969903063774109\n",
      "530 11.210775113105774\n",
      "540 18.856139421463013\n",
      "550 23.969790816307068\n",
      "560 16.902139234542847\n",
      "570 5.0075364112854\n",
      "580 9.694260358810425\n",
      "590 47.586169195175174\n",
      "600 14.845268440246581\n",
      "610 10.07753758430481\n",
      "620 4.172241234779358\n",
      "630 13.187165808677673\n",
      "640 13.491472244262695\n",
      "650 37.54686591625214\n",
      "660 23.57270016670227\n",
      "670 4.926394724845887\n",
      "680 10.606466722488403\n",
      "690 7.226132035255432\n",
      "700 30.819653940200805\n",
      "710 12.71837055683136\n",
      "720 9.668102121353149\n",
      "730 3.315197062492371\n",
      "740 5.3695029497146605\n",
      "750 14.256229591369628\n",
      "760 7.3848655223846436\n",
      "770 48.03721308708191\n",
      "780 57.17384650707245\n",
      "790 7.2135919570922855\n",
      "800 8.257444310188294\n",
      "810 6.683406805992126\n",
      "820 10.27360486984253\n",
      "830 9.204386568069458\n",
      "840 13.570422267913818\n",
      "850 47.260428524017335\n",
      "860 231.73115270137788\n",
      "870 7.739323353767395\n",
      "880 6.1661559581756595\n",
      "890 11.713848781585693\n",
      "900 17.567860507965086\n",
      "910 21.978445601463317\n",
      "920 4.243706393241882\n",
      "930 9.776712465286256\n",
      "940 11.886805605888366\n",
      "950 4.466437983512878\n",
      "960 7.075574541091919\n",
      "970 6.6192251443862915\n",
      "980 40.10218338966369\n",
      "990 22.38532075881958\n",
      "1000 6.650476861000061\n",
      "1010 11.171036458015442\n",
      "1020 10.83858289718628\n",
      "1030 10.321725559234618\n",
      "1040 10.159545826911927\n",
      "1050 3.28210244178772\n",
      "1060 19.880445146560668\n",
      "1070 5.472160172462464\n",
      "1080 9.392128086090088\n",
      "1090 23.524624943733215\n",
      "1100 5.262451434135437\n",
      "1110 8.172752809524535\n",
      "1120 12.378645062446594\n",
      "1130 4.9673320055007935\n",
      "1140 16.916829776763915\n",
      "1150 13.161572074890136\n",
      "1160 38.280625867843625\n",
      "1170 19.429453134536743\n",
      "1180 17.094207048416138\n",
      "1190 15.058169484138489\n",
      "1200 10.067696809768677\n",
      "1210 9.541010332107543\n",
      "1220 11.767704105377197\n",
      "1230 6.510530781745911\n",
      "1240 15.561521077156067\n",
      "1250 3.7637162685394285\n",
      "1260 5.903963541984558\n",
      "1270 5.110605192184448\n",
      "1280 3.944157862663269\n",
      "1290 9.26246190071106\n",
      "1300 11.114237809181214\n",
      "1310 23.088926982879638\n",
      "1320 24.976180171966554\n",
      "1330 6.723079085350037\n",
      "1340 8.965919232368469\n",
      "1350 31.466945314407347\n",
      "1360 13.59411780834198\n",
      "1370 19.792679262161254\n",
      "1380 4.687884759902954\n",
      "1390 2.817655920982361\n",
      "1400 5.452466344833374\n",
      "1410 11.163318920135499\n",
      "1420 28.701386165618896\n",
      "1430 10.405614829063415\n",
      "1440 16.063066363334656\n",
      "1450 3.435301148891449\n",
      "1460 3.5500877618789675\n",
      "1470 6.477086317539215\n",
      "1480 6.9508113145828245\n",
      "1490 67.30432741641998\n",
      "1500 4.3858479976654055\n",
      "1510 5.549640655517578\n",
      "1520 11.698063278198243\n",
      "1530 5.717337369918823\n",
      "1540 8.473319363594054\n",
      "1550 6.0993518233299255\n",
      "1560 6.518923044204712\n",
      "1570 25.560025882720947\n",
      "1580 16.176660180091858\n",
      "1590 3.9676639795303346\n",
      "1600 4.5514267683029175\n",
      "1610 4.661046588420868\n",
      "1620 27.574301075935363\n",
      "1630 14.912597942352296\n",
      "1640 3.1576915979385376\n",
      "1650 4.205722451210022\n",
      "1660 3.8107487678527834\n",
      "1670 4.100825381278992\n",
      "1680 21.98934829235077\n",
      "1690 4.600537586212158\n",
      "1700 5.04222092628479\n",
      "1710 4.918454039096832\n",
      "1720 4.104772400856018\n",
      "1730 4.528216361999512\n",
      "1740 33.00986151695251\n",
      "1750 3.9633389353752135\n",
      "1760 13.694371199607849\n",
      "1770 6.554046320915222\n",
      "1780 4.840417432785034\n",
      "1790 13.540543055534362\n",
      "1800 27.2183317899704\n",
      "1810 4.2726953506469725\n",
      "1820 4.707080507278443\n",
      "1830 7.933437633514404\n",
      "1840 14.12838282585144\n",
      "1850 4.821870064735412\n",
      "1860 4.361390590667725\n",
      "1870 3.1858571648597716\n",
      "1880 6.623008799552918\n",
      "1890 3.824619543552399\n",
      "1900 4.814395713806152\n",
      "1910 15.02928614616394\n",
      "1920 4.471208846569061\n",
      "1930 5.5923702120780945\n",
      "1940 3.256752872467041\n",
      "1950 4.511170446872711\n",
      "1960 3.4737523078918455\n",
      "1970 3.793815493583679\n",
      "1980 5.5947658061981205\n",
      "1990 3.823956036567688\n",
      "2000 7.849505734443665\n",
      "2010 32.77673647403717\n",
      "2020 15.13979468345642\n",
      "2030 7.406544184684753\n",
      "2040 26.05924506187439\n",
      "2050 12.003419947624206\n",
      "2060 4.120074319839477\n",
      "2070 5.761371970176697\n",
      "2080 5.896023511886597\n",
      "2090 17.691704273223877\n",
      "2100 2.910444402694702\n",
      "2110 10.811990070343018\n",
      "2120 4.972872495651245\n",
      "2130 7.163500523567199\n",
      "2140 4.0047201156616214\n",
      "2150 19.337374806404114\n",
      "2160 9.543276953697205\n",
      "2170 4.251132512092591\n",
      "2180 4.556612873077393\n",
      "2190 2.5252395033836366\n",
      "2200 2.7949166893959045\n",
      "2210 11.101756572723389\n",
      "2220 9.922725391387939\n",
      "2230 4.838069772720337\n",
      "2240 5.0174497842788695\n",
      "2250 5.3114625215530396\n",
      "2260 3.281009840965271\n",
      "2270 4.570422720909119\n",
      "2280 4.893020439147949\n",
      "2290 8.29307999610901\n",
      "2300 4.9006444931030275\n",
      "2310 5.509735131263733\n",
      "2320 21.156845092773438\n",
      "2330 7.445590996742249\n",
      "2340 4.297595882415772\n",
      "2350 6.575830125808716\n",
      "2360 3.62130389213562\n",
      "2370 13.877814078330994\n",
      "2380 3.0291688203811646\n",
      "2390 4.149299836158752\n",
      "2400 4.632239055633545\n",
      "2410 40.21435110569\n",
      "2420 5.394950270652771\n",
      "2430 5.124825119972229\n",
      "2440 5.978219890594483\n",
      "2450 3.1492720007896424\n",
      "2460 3.3530628204345705\n",
      "2470 15.658530712127686\n",
      "2480 9.452825450897217\n",
      "2490 3.213697040081024\n",
      "2500 5.381633543968201\n",
      "2510 7.367851674556732\n",
      "2520 9.489773416519165\n",
      "2530 9.530387282371521\n",
      "2540 2.7825564622879027\n",
      "2550 5.777314782142639\n",
      "2560 3.564979076385498\n",
      "2570 5.006168913841248\n",
      "2580 4.287798345088959\n",
      "2590 4.168629765510559\n",
      "2600 5.975686943531036\n",
      "2610 9.808266019821167\n",
      "2620 3.042142868041992\n",
      "2630 10.886341571807861\n",
      "2640 3.888400435447693\n",
      "2650 6.41347428560257\n",
      "2660 3.7498432636260985\n",
      "2670 3.627604675292969\n",
      "2680 4.2220709204673765\n",
      "2690 11.589237761497497\n",
      "2700 3.2071881771087645\n",
      "2710 5.7233795642852785\n",
      "2720 3.4440964698791503\n",
      "2730 4.460103273391724\n",
      "2740 5.257755994796753\n",
      "2750 5.524127435684204\n",
      "2760 3.6358753442764282\n",
      "2770 5.359617829322815\n",
      "2780 2.810694766044617\n",
      "2790 6.737711715698242\n",
      "2800 7.227234888076782\n",
      "2810 5.192396140098571\n",
      "2820 3.5285016775131224\n",
      "2830 5.5967125415802\n",
      "2840 4.168253922462464\n",
      "2850 2.6343822956085203\n",
      "2860 6.135681080818176\n",
      "2870 2.9400378704071044\n",
      "2880 3.6666813254356385\n",
      "2890 4.789844512939453\n",
      "2900 7.811434078216553\n",
      "2910 5.881214809417725\n",
      "2920 2.7012935400009157\n",
      "2930 4.290863442420959\n",
      "2940 2.818729543685913\n",
      "2950 11.063691878318787\n",
      "2960 8.832109904289245\n",
      "2970 4.219829201698303\n",
      "2980 5.338668346405029\n",
      "2990 12.631267595291138\n",
      "3000 7.789743232727051\n",
      "3010 2.893559288978577\n",
      "3020 3.8319531202316286\n",
      "3030 2.697506475448608\n",
      "3040 2.4285308122634888\n",
      "3050 2.936886715888977\n",
      "3060 3.48891966342926\n",
      "3070 3.818024182319641\n",
      "3080 4.536039710044861\n",
      "3090 4.294586610794068\n",
      "3100 2.5365797519683837\n",
      "3110 3.522469186782837\n",
      "3120 2.9585623741149902\n",
      "3130 3.1856841325759886\n",
      "3140 13.328259098529816\n",
      "3150 4.156947207450867\n",
      "3160 3.5236536264419556\n",
      "3170 41.82584204673767\n",
      "3180 3.282020688056946\n",
      "3190 4.611243712902069\n",
      "3200 6.082878828048706\n",
      "3210 9.045767498016357\n",
      "3220 3.4742242217063906\n",
      "3230 4.798569536209106\n",
      "3240 7.293464255332947\n",
      "3250 2.4834189653396606\n",
      "3260 2.5206899404525758\n",
      "3270 7.0273067355155945\n",
      "3280 3.743885111808777\n",
      "3290 6.752080821990967\n",
      "3300 4.172818529605865\n",
      "3310 7.565170133113861\n",
      "3320 3.6155767679214477\n",
      "3330 15.904363417625428\n",
      "3340 3.5284302473068236\n",
      "3350 2.4384975910186766\n",
      "3360 3.7135884523391725\n",
      "3370 3.0347973108291626\n",
      "3380 2.5279701828956602\n",
      "3390 4.44512197971344\n",
      "3400 2.969649076461792\n",
      "3410 3.235290789604187\n",
      "3420 2.717694401741028\n",
      "3430 4.301878619194031\n",
      "3440 8.515344738960266\n"
     ]
    },
    {
     "ename": "KeyboardInterrupt",
     "evalue": "",
     "output_type": "error",
     "traceback": [
      "\u001b[0;31m---------------------------------------------------------------------------\u001b[0m",
      "\u001b[0;31mKeyboardInterrupt\u001b[0m                         Traceback (most recent call last)",
      "\u001b[0;32m/tmp/ipykernel_31213/1495270717.py\u001b[0m in \u001b[0;36m<module>\u001b[0;34m\u001b[0m\n\u001b[1;32m      6\u001b[0m \u001b[0;31m# fit model on FIXED negative samples from neg_sampler\u001b[0m\u001b[0;34m\u001b[0m\u001b[0;34m\u001b[0m\u001b[0m\n\u001b[1;32m      7\u001b[0m \u001b[0;32mfor\u001b[0m \u001b[0mepoch\u001b[0m \u001b[0;32min\u001b[0m \u001b[0mrange\u001b[0m\u001b[0;34m(\u001b[0m\u001b[0;36m1\u001b[0m\u001b[0;34m,\u001b[0m \u001b[0;36m10000\u001b[0m\u001b[0;34m)\u001b[0m\u001b[0;34m:\u001b[0m\u001b[0;34m\u001b[0m\u001b[0;34m\u001b[0m\u001b[0m\n\u001b[0;32m----> 8\u001b[0;31m     loss, _, _ = train(model, opt, neighbor_loader, data, mini_loader, device, \n\u001b[0m\u001b[1;32m      9\u001b[0m                        \u001b[0mloss_name\u001b[0m\u001b[0;34m=\u001b[0m\u001b[0;34m'ce-softmax'\u001b[0m\u001b[0;34m,\u001b[0m \u001b[0mupdate_params\u001b[0m\u001b[0;34m=\u001b[0m\u001b[0;32mTrue\u001b[0m\u001b[0;34m,\u001b[0m\u001b[0;34m\u001b[0m\u001b[0;34m\u001b[0m\u001b[0m\n\u001b[1;32m     10\u001b[0m                        \u001b[0mneg_sampler\u001b[0m\u001b[0;34m=\u001b[0m\u001b[0mneg_sampler\u001b[0m\u001b[0;34m,\u001b[0m \u001b[0msplit_mode\u001b[0m\u001b[0;34m=\u001b[0m\u001b[0;34m\"val\"\u001b[0m\u001b[0;34m,\u001b[0m\u001b[0;34m\u001b[0m\u001b[0;34m\u001b[0m\u001b[0m\n",
      "\u001b[0;32m/lfs/turing1/0/serinac/supply-chains/TGB/examples/linkproppred/general/tgnpl.py\u001b[0m in \u001b[0;36mtrain\u001b[0;34m(model, optimizer, neighbor_loader, data, data_loader, device, loss_name, update_params, ns_samples, neg_sampler, split_mode, num_firms, num_products)\u001b[0m\n\u001b[1;32m    212\u001b[0m         \u001b[0;31m# Update model parameters with backprop\u001b[0m\u001b[0;34m\u001b[0m\u001b[0;34m\u001b[0m\u001b[0m\n\u001b[1;32m    213\u001b[0m         \u001b[0;32mif\u001b[0m \u001b[0mupdate_params\u001b[0m\u001b[0;34m:\u001b[0m\u001b[0;34m\u001b[0m\u001b[0;34m\u001b[0m\u001b[0m\n\u001b[0;32m--> 214\u001b[0;31m             \u001b[0mloss\u001b[0m\u001b[0;34m.\u001b[0m\u001b[0mbackward\u001b[0m\u001b[0;34m(\u001b[0m\u001b[0;34m)\u001b[0m\u001b[0;34m\u001b[0m\u001b[0;34m\u001b[0m\u001b[0m\n\u001b[0m\u001b[1;32m    215\u001b[0m             \u001b[0moptimizer\u001b[0m\u001b[0;34m.\u001b[0m\u001b[0mstep\u001b[0m\u001b[0;34m(\u001b[0m\u001b[0;34m)\u001b[0m\u001b[0;34m\u001b[0m\u001b[0;34m\u001b[0m\u001b[0m\n\u001b[1;32m    216\u001b[0m             \u001b[0mmodel\u001b[0m\u001b[0;34m[\u001b[0m\u001b[0;34m'memory'\u001b[0m\u001b[0;34m]\u001b[0m\u001b[0;34m.\u001b[0m\u001b[0mdetach\u001b[0m\u001b[0;34m(\u001b[0m\u001b[0;34m)\u001b[0m\u001b[0;34m\u001b[0m\u001b[0;34m\u001b[0m\u001b[0m\n",
      "\u001b[0;32m/lfs/local/0/serinac/anaconda3/lib/python3.9/site-packages/torch/_tensor.py\u001b[0m in \u001b[0;36mbackward\u001b[0;34m(self, gradient, retain_graph, create_graph, inputs)\u001b[0m\n\u001b[1;32m    485\u001b[0m                 \u001b[0minputs\u001b[0m\u001b[0;34m=\u001b[0m\u001b[0minputs\u001b[0m\u001b[0;34m,\u001b[0m\u001b[0;34m\u001b[0m\u001b[0;34m\u001b[0m\u001b[0m\n\u001b[1;32m    486\u001b[0m             )\n\u001b[0;32m--> 487\u001b[0;31m         torch.autograd.backward(\n\u001b[0m\u001b[1;32m    488\u001b[0m             \u001b[0mself\u001b[0m\u001b[0;34m,\u001b[0m \u001b[0mgradient\u001b[0m\u001b[0;34m,\u001b[0m \u001b[0mretain_graph\u001b[0m\u001b[0;34m,\u001b[0m \u001b[0mcreate_graph\u001b[0m\u001b[0;34m,\u001b[0m \u001b[0minputs\u001b[0m\u001b[0;34m=\u001b[0m\u001b[0minputs\u001b[0m\u001b[0;34m\u001b[0m\u001b[0;34m\u001b[0m\u001b[0m\n\u001b[1;32m    489\u001b[0m         )\n",
      "\u001b[0;32m/lfs/local/0/serinac/anaconda3/lib/python3.9/site-packages/torch/autograd/__init__.py\u001b[0m in \u001b[0;36mbackward\u001b[0;34m(tensors, grad_tensors, retain_graph, create_graph, grad_variables, inputs)\u001b[0m\n\u001b[1;32m    198\u001b[0m     \u001b[0;31m# some Python versions print out the first line of a multi-line function\u001b[0m\u001b[0;34m\u001b[0m\u001b[0;34m\u001b[0m\u001b[0m\n\u001b[1;32m    199\u001b[0m     \u001b[0;31m# calls in the traceback and some print out the last line\u001b[0m\u001b[0;34m\u001b[0m\u001b[0;34m\u001b[0m\u001b[0m\n\u001b[0;32m--> 200\u001b[0;31m     Variable._execution_engine.run_backward(  # Calls into the C++ engine to run the backward pass\n\u001b[0m\u001b[1;32m    201\u001b[0m         \u001b[0mtensors\u001b[0m\u001b[0;34m,\u001b[0m \u001b[0mgrad_tensors_\u001b[0m\u001b[0;34m,\u001b[0m \u001b[0mretain_graph\u001b[0m\u001b[0;34m,\u001b[0m \u001b[0mcreate_graph\u001b[0m\u001b[0;34m,\u001b[0m \u001b[0minputs\u001b[0m\u001b[0;34m,\u001b[0m\u001b[0;34m\u001b[0m\u001b[0;34m\u001b[0m\u001b[0m\n\u001b[1;32m    202\u001b[0m         allow_unreachable=True, accumulate_grad=True)  # Calls into the C++ engine to run the backward pass\n",
      "\u001b[0;31mKeyboardInterrupt\u001b[0m: "
     ]
    }
   ],
   "source": [
    "# now try model WITH MEMORY UPDATES, still no inventory\n",
    "args.memory_name = 'tgnpl'\n",
    "model, opt = set_up_model(args, data, device, num_firms=num_firms, num_products=num_products)\n",
    "neighbor_loader = LastNeighborLoaderTGNPL(num_nodes, size=NUM_NEIGHBORS, device=device)\n",
    "\n",
    "# fit model on FIXED negative samples from neg_sampler\n",
    "for epoch in range(1, 10000):\n",
    "    loss, _, _ = train(model, opt, neighbor_loader, data, mini_loader, device, \n",
    "                       loss_name='ce-softmax', update_params=True, \n",
    "                       neg_sampler=neg_sampler, split_mode=\"val\", \n",
    "                       num_firms=num_firms, num_products=num_products)\n",
    "    if loss < 0.01:\n",
    "        print(f'Early stopping on epoch {epoch}, loss =', loss)\n",
    "        break\n",
    "    if epoch % 10 == 0:\n",
    "        print(epoch, loss)"
   ]
  },
  {
   "cell_type": "code",
   "execution_count": 34,
   "id": "61456c49",
   "metadata": {},
   "outputs": [
    {
     "data": {
      "text/plain": [
       "3.3461313247680664"
      ]
     },
     "execution_count": 34,
     "metadata": {},
     "output_type": "execute_result"
    }
   ],
   "source": [
    "# check final train loss, don't update model params\n",
    "loss, _, _ = train(model, opt, neighbor_loader, data, mini_loader, device, \n",
    "                   loss_name='ce-softmax', update_params=False, \n",
    "                   neg_sampler=neg_sampler, split_mode=\"val\", \n",
    "                   num_firms=num_firms, num_products=num_products)\n",
    "loss"
   ]
  },
  {
   "cell_type": "code",
   "execution_count": 35,
   "id": "b609adb2",
   "metadata": {},
   "outputs": [
    {
     "name": "stdout",
     "output_type": "stream",
     "text": [
      "MRR: before resetting = 0.3893; after resetting = 0.1924\n"
     ]
    }
   ],
   "source": [
    "# test MRR on same data\n",
    "# low cross-entropy loss should correspond to high MRR\n",
    "# if we don't reset neighbor loader, results will be bad\n",
    "mrr1 = test(model, neighbor_loader, data, mini_loader, neg_sampler, evaluator, device,\n",
    "     split_mode=\"val\", metric=\"mrr\", num_firms=num_firms, num_products=num_products)\n",
    "\n",
    "# results: model performs _worse_ after resetting, weird\n",
    "model['memory'].reset_state()\n",
    "neighbor_loader.reset_state()\n",
    "mrr2 = test(model, neighbor_loader, data, mini_loader, neg_sampler, evaluator, device,\n",
    "     split_mode=\"val\", metric=\"mrr\", num_firms=num_firms, num_products=num_products)\n",
    "\n",
    "print(f'MRR: before resetting = {mrr1:.4f}; after resetting = {mrr2:.4f}')"
   ]
  },
  {
   "cell_type": "code",
   "execution_count": 36,
   "id": "76261fd4",
   "metadata": {},
   "outputs": [
    {
     "data": {
      "text/plain": [
       "3.3461313247680664"
      ]
     },
     "execution_count": 36,
     "metadata": {},
     "output_type": "execute_result"
    }
   ],
   "source": [
    "loss, _, _ = train(model, opt, neighbor_loader, data, mini_loader, device, \n",
    "                   loss_name='ce-softmax', update_params=False, \n",
    "                   neg_sampler=neg_sampler, split_mode=\"val\", \n",
    "                   num_firms=num_firms, num_products=num_products)\n",
    "loss"
   ]
  },
  {
   "cell_type": "code",
   "execution_count": 37,
   "id": "b3a26e35",
   "metadata": {},
   "outputs": [
    {
     "name": "stdout",
     "output_type": "stream",
     "text": [
      "MRR: before resetting = 0.3893; after resetting = 0.1924\n"
     ]
    }
   ],
   "source": [
    "# test MRR on same data\n",
    "# low cross-entropy loss should correspond to high MRR\n",
    "# if we don't reset neighbor loader, results will be bad\n",
    "mrr1 = test(model, neighbor_loader, data, mini_loader, neg_sampler, evaluator, device,\n",
    "     split_mode=\"val\", metric=\"mrr\", num_firms=num_firms, num_products=num_products)\n",
    "\n",
    "# results: even with unstable loss, MRR is quite high!\n",
    "model['memory'].reset_state()\n",
    "neighbor_loader.reset_state()\n",
    "mrr2 = test(model, neighbor_loader, data, mini_loader, neg_sampler, evaluator, device,\n",
    "     split_mode=\"val\", metric=\"mrr\", num_firms=num_firms, num_products=num_products)\n",
    "\n",
    "print(f'MRR: before resetting = {mrr1:.4f}; after resetting = {mrr2:.4f}')"
   ]
  }
 ],
 "metadata": {
  "kernelspec": {
   "display_name": "supply_chain_venv",
   "language": "python",
   "name": "supply_chain_venv"
  },
  "language_info": {
   "codemirror_mode": {
    "name": "ipython",
    "version": 3
   },
   "file_extension": ".py",
   "mimetype": "text/x-python",
   "name": "python",
   "nbconvert_exporter": "python",
   "pygments_lexer": "ipython3",
   "version": "3.9.13"
  }
 },
 "nbformat": 4,
 "nbformat_minor": 5
}
