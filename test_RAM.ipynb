{
 "cells": [
  {
   "cell_type": "code",
   "execution_count": 1,
   "id": "3caa33eb-3d6a-493b-a57b-e7012b2a6f23",
   "metadata": {},
   "outputs": [],
   "source": [
    "%load_ext autoreload\n",
    "%autoreload 2"
   ]
  },
  {
   "cell_type": "code",
   "execution_count": 4,
   "id": "0ed9bd64-3170-4eec-acdd-2cd87d785be9",
   "metadata": {},
   "outputs": [],
   "source": [
    "from constants_and_utils import *\n",
    "from sc_experiments import *"
   ]
  },
  {
   "cell_type": "code",
   "execution_count": 5,
   "id": "b23427bd-b679-4331-8f64-2ab939a84df2",
   "metadata": {},
   "outputs": [
    {
     "ename": "ModuleNotFoundError",
     "evalue": "No module named 'apiclass'",
     "output_type": "error",
     "traceback": [
      "\u001b[0;31m---------------------------------------------------------------------------\u001b[0m",
      "\u001b[0;31mModuleNotFoundError\u001b[0m                       Traceback (most recent call last)",
      "Cell \u001b[0;32mIn[5], line 17\u001b[0m\n\u001b[1;32m     14\u001b[0m \u001b[38;5;28;01mimport\u001b[39;00m \u001b[38;5;21;01mos\u001b[39;00m\n\u001b[1;32m     16\u001b[0m sys\u001b[38;5;241m.\u001b[39mpath\u001b[38;5;241m.\u001b[39mappend(\u001b[38;5;124m\"\u001b[39m\u001b[38;5;124m/opt/libs\u001b[39m\u001b[38;5;124m\"\u001b[39m)\n\u001b[0;32m---> 17\u001b[0m \u001b[38;5;28;01mfrom\u001b[39;00m \u001b[38;5;21;01mapiclass\u001b[39;00m \u001b[38;5;28;01mimport\u001b[39;00m APIClass,RedshiftClass\n\u001b[1;32m     18\u001b[0m \u001b[38;5;28;01mfrom\u001b[39;00m \u001b[38;5;21;01mapikeyclass\u001b[39;00m \u001b[38;5;28;01mimport\u001b[39;00m APIkeyClass\n\u001b[1;32m     19\u001b[0m \u001b[38;5;28;01mfrom\u001b[39;00m \u001b[38;5;21;01mdotenv\u001b[39;00m \u001b[38;5;28;01mimport\u001b[39;00m load_dotenv\n",
      "\u001b[0;31mModuleNotFoundError\u001b[0m: No module named 'apiclass'"
     ]
    }
   ],
   "source": [
    "import http.cookiejar as cookielib\n",
    "import pandas as pd\n",
    "import requests\n",
    "import warnings\n",
    "import logging\n",
    "import sqlite3\n",
    "import boto3\n",
    "import glob\n",
    "import json\n",
    "import time\n",
    "import math\n",
    "import tqdm\n",
    "import sys\n",
    "import os\n",
    "\n",
    "sys.path.append(\"/opt/libs\")\n",
    "from apiclass import APIClass,RedshiftClass\n",
    "from apikeyclass import APIkeyClass\n",
    "from dotenv import load_dotenv\n",
    "\n",
    "warnings.filterwarnings('ignore')"
   ]
  },
  {
   "cell_type": "code",
   "execution_count": null,
   "id": "d8a4e28b-085f-40c1-b645-c994a8b2c2c6",
   "metadata": {},
   "outputs": [],
   "source": [
    "\n",
    "\n",
    "rs = RedshiftClass('serina','Serina123')"
   ]
  }
 ],
 "metadata": {
  "kernelspec": {
   "display_name": "Python 3 (ipykernel)",
   "language": "python",
   "name": "python3"
  },
  "language_info": {
   "codemirror_mode": {
    "name": "ipython",
    "version": 3
   },
   "file_extension": ".py",
   "mimetype": "text/x-python",
   "name": "python",
   "nbconvert_exporter": "python",
   "pygments_lexer": "ipython3",
   "version": "3.10.9"
  }
 },
 "nbformat": 4,
 "nbformat_minor": 5
}
