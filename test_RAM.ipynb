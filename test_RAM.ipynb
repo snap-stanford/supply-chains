{
 "cells": [
  {
   "cell_type": "code",
   "execution_count": 1,
   "id": "3caa33eb-3d6a-493b-a57b-e7012b2a6f23",
   "metadata": {},
   "outputs": [],
   "source": [
    "%load_ext autoreload\n",
    "%autoreload 2"
   ]
  },
  {
   "cell_type": "code",
   "execution_count": 2,
   "id": "0ed9bd64-3170-4eec-acdd-2cd87d785be9",
   "metadata": {},
   "outputs": [],
   "source": [
    "from constants_and_utils import *\n",
    "from sc_experiments import *"
   ]
  },
  {
   "cell_type": "code",
   "execution_count": 3,
   "id": "b23427bd-b679-4331-8f64-2ab939a84df2",
   "metadata": {},
   "outputs": [],
   "source": [
    "import http.cookiejar as cookielib\n",
    "import pandas as pd\n",
    "import requests\n",
    "import warnings\n",
    "import logging\n",
    "import sqlite3\n",
    "import boto3\n",
    "import glob\n",
    "import json\n",
    "import time\n",
    "import math\n",
    "import tqdm\n",
    "import sys\n",
    "import os\n",
    "\n",
    "sys.path.append(\"/opt/libs\")\n",
    "from apiclass import APIClass,RedshiftClass\n",
    "from apikeyclass import APIkeyClass\n",
    "from dotenv import load_dotenv\n",
    "\n",
    "warnings.filterwarnings('ignore')"
   ]
  },
  {
   "cell_type": "code",
   "execution_count": 4,
   "id": "d8a4e28b-085f-40c1-b645-c994a8b2c2c6",
   "metadata": {},
   "outputs": [
    {
     "name": "stdout",
     "output_type": "stream",
     "text": [
      "Successful connection！\n",
      " \n"
     ]
    }
   ],
   "source": [
    "rs = RedshiftClass('zhiyin','Zhiyin123')"
   ]
  },
  {
   "cell_type": "code",
   "execution_count": 9,
   "id": "5f738cd0-81d0-411f-86e5-330eed72bf60",
   "metadata": {},
   "outputs": [
    {
     "name": "stdout",
     "output_type": "stream",
     "text": [
      "Total memory: 61.7G; free memory: 45.1G; available memory 50.9G; available memory 82.582%\n"
     ]
    }
   ],
   "source": [
    "# before any queries\n",
    "orig_mem = check_memory_usage()"
   ]
  },
  {
   "cell_type": "code",
   "execution_count": 10,
   "id": "bc840de8-1d11-48cb-a28c-b7b1edffd36e",
   "metadata": {},
   "outputs": [
    {
     "name": "stdout",
     "output_type": "stream",
     "text": [
      "Total memory: 61.7G; free memory: 54.7G; available memory 57.5G; available memory 93.159%\n",
      "304537\n",
      "Total memory: 61.7G; free memory: 54.4G; available memory 57.2G; available memory 92.720%\n",
      "Change in available memory: -277.5M\n"
     ]
    }
   ],
   "source": [
    "# how big is index_hs6\n",
    "before_mem = check_memory_usage()\n",
    "index = rs.query_df(\"select * from index_hs6;\")\n",
    "print(len(index))\n",
    "after_mem = check_memory_usage()\n",
    "diff = after_mem-before_mem\n",
    "sign = '-' if after_mem < before_mem else '+'\n",
    "# need to use abs since bytes2human can't simplify negative bytes\n",
    "print('Change in available memory: %s%s' % (sign, bytes2human(abs(diff))))  "
   ]
  },
  {
   "cell_type": "code",
   "execution_count": 7,
   "id": "036bb3a4-24f5-4782-93e9-65803822739b",
   "metadata": {},
   "outputs": [
    {
     "name": "stdout",
     "output_type": "stream",
     "text": [
      "Total memory: 61.7G; free memory: 46.7G; available memory 49.1G; available memory 79.510%\n",
      "100000\n",
      "Total memory: 61.7G; free memory: 46.6G; available memory 48.9G; available memory 79.248%\n",
      "Change in available memory: -165.7M\n"
     ]
    }
   ],
   "source": [
    "# how big is logistic data: 10^5 rows\n",
    "before_mem = check_memory_usage()\n",
    "df = rs.query_df(\"select * from logistic_data limit 100000;\")\n",
    "print(len(df))\n",
    "after_mem = check_memory_usage()\n",
    "diff = after_mem-before_mem\n",
    "sign = '-' if after_mem < before_mem else '+'\n",
    "print('Change in available memory: %s%s' % (sign, bytes2human(abs(diff))))  "
   ]
  },
  {
   "cell_type": "code",
   "execution_count": 13,
   "id": "1aba7826-7192-468c-9fae-28f1365668ca",
   "metadata": {},
   "outputs": [
    {
     "name": "stdout",
     "output_type": "stream",
     "text": [
      "Total memory: 61.7G; free memory: 54.7G; available memory 57.5G; available memory 93.130%\n",
      "100000\n",
      "Total memory: 61.7G; free memory: 54.6G; available memory 57.4G; available memory 93.054%\n",
      "Change in available memory: -47.9M\n"
     ]
    }
   ],
   "source": [
    "# how big is logistic data: 10^5 rows, selected columns\n",
    "before_mem = check_memory_usage()\n",
    "df = rs.query_df(f\"select date, supplier_t, buyer_t, hs_code, quantity, amount from logistic_data limit 100000;\")\n",
    "print(len(df))\n",
    "after_mem = check_memory_usage()\n",
    "diff = after_mem-before_mem\n",
    "sign = '-' if after_mem < before_mem else '+'\n",
    "print('Change in available memory: %s%s' % (sign, bytes2human(abs(diff))))  "
   ]
  },
  {
   "cell_type": "code",
   "execution_count": 8,
   "id": "8ea03324-518e-425e-b57d-0fc0c57a5366",
   "metadata": {},
   "outputs": [
    {
     "name": "stdout",
     "output_type": "stream",
     "text": [
      "Total memory: 61.7G; free memory: 46.6G; available memory 48.9G; available memory 79.249%\n",
      "1000000\n",
      "Total memory: 61.7G; free memory: 44.9G; available memory 47.3G; available memory 76.589%\n",
      "Change in available memory: -1.6G\n"
     ]
    }
   ],
   "source": [
    "# how big is logistic data: 10^6 rows\n",
    "before_mem = check_memory_usage()\n",
    "df = rs.query_df(\"select * from logistic_data limit 1000000;\")\n",
    "print(len(df))\n",
    "after_mem = check_memory_usage()\n",
    "diff = after_mem-before_mem\n",
    "sign = '-' if after_mem < before_mem else '+'\n",
    "print('Change in available memory: %s%s' % (sign, bytes2human(abs(diff))))  "
   ]
  },
  {
   "cell_type": "code",
   "execution_count": 14,
   "id": "feb74728-2707-4da3-a87b-b232528e3377",
   "metadata": {},
   "outputs": [
    {
     "name": "stdout",
     "output_type": "stream",
     "text": [
      "Total memory: 61.7G; free memory: 54.6G; available memory 57.4G; available memory 93.053%\n",
      "2363475\n",
      "Total memory: 61.7G; free memory: 53.5G; available memory 56.3G; available memory 91.266%\n",
      "Change in available memory: -1.1G\n"
     ]
    }
   ],
   "source": [
    "# how big is logistic data: one-month rows, selected columns\n",
    "before_mem = check_memory_usage()\n",
    "df = rs.query_df(f\"select date, supplier_t, buyer_t, hs_code, quantity, amount from logistic_data where date like '2022-06%';\")\n",
    "print(len(df))\n",
    "after_mem = check_memory_usage()\n",
    "diff = after_mem-before_mem\n",
    "sign = '-' if after_mem < before_mem else '+'\n",
    "print('Change in available memory: %s%s' % (sign, bytes2human(abs(diff))))  "
   ]
  },
  {
   "cell_type": "code",
   "execution_count": 9,
   "id": "af93d899-ddba-484b-8428-2e66cb9883d2",
   "metadata": {},
   "outputs": [
    {
     "name": "stdout",
     "output_type": "stream",
     "text": [
      "Total memory: 61.7G; free memory: 44.9G; available memory 47.3G; available memory 76.589%\n",
      "Total memory: 61.7G; free memory: 46.7G; available memory 49.1G; available memory 79.515%\n",
      "Change in available memory: +1.8G\n"
     ]
    }
   ],
   "source": [
    "# try reset df to new variable - this works to deallocate RAM\n",
    "before_mem = check_memory_usage()\n",
    "df = \"hello\"\n",
    "after_mem = check_memory_usage()\n",
    "diff = after_mem-before_mem\n",
    "sign = '-' if after_mem < before_mem else '+'\n",
    "# gain in memory is larger than reduction in memory since in previous cell, we were also deallocating from original df (10^5 rows)\n",
    "print('Change in available memory: %s%s' % (sign, bytes2human(abs(diff))))  "
   ]
  },
  {
   "cell_type": "code",
   "execution_count": 10,
   "id": "2dde2164-1f20-488c-928d-402e9c69ad17",
   "metadata": {},
   "outputs": [
    {
     "name": "stdout",
     "output_type": "stream",
     "text": [
      "Total memory: 61.7G; free memory: 46.7G; available memory 49.1G; available memory 79.515%\n",
      "Total memory: 61.7G; free memory: 46.7G; available memory 49.1G; available memory 79.515%\n",
      "Change in available memory: +16.0K\n"
     ]
    }
   ],
   "source": [
    "# try deleting df - no real difference\n",
    "before_mem = check_memory_usage()\n",
    "del df\n",
    "after_mem = check_memory_usage()\n",
    "diff = after_mem-before_mem\n",
    "sign = '-' if after_mem < before_mem else '+'\n",
    "print('Change in available memory: %s%s' % (sign, bytes2human(abs(diff))))  "
   ]
  }
 ],
 "metadata": {
  "kernelspec": {
   "display_name": "Python 3 (ipykernel)",
   "language": "python",
   "name": "python3"
  },
  "language_info": {
   "codemirror_mode": {
    "name": "ipython",
    "version": 3
   },
   "file_extension": ".py",
   "mimetype": "text/x-python",
   "name": "python",
   "nbconvert_exporter": "python",
   "pygments_lexer": "ipython3",
   "version": "3.9.12"
  }
 },
 "nbformat": 4,
 "nbformat_minor": 5
}
