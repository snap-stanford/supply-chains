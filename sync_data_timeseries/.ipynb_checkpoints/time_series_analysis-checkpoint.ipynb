{
 "cells": [
  {
   "cell_type": "code",
   "execution_count": 1,
   "id": "db575b95",
   "metadata": {},
   "outputs": [],
   "source": [
    "%load_ext autoreload\n",
    "%autoreload 2"
   ]
  },
  {
   "cell_type": "code",
   "execution_count": 2,
   "id": "a3a06418",
   "metadata": {},
   "outputs": [],
   "source": [
    "# import http.cookiejar as cookielib\n",
    "# import pandas as pd\n",
    "# import requests\n",
    "# import warnings\n",
    "# import logging\n",
    "# import sqlite3\n",
    "# import boto3\n",
    "# import glob\n",
    "# import json\n",
    "# import time\n",
    "# import math\n",
    "# import tqdm\n",
    "# import sys\n",
    "\n",
    "# from apiclass import APIClass,RedshiftClass\n",
    "# from apikeyclass import APIkeyClass\n",
    "# from dotenv import load_dotenv\n",
    "import os\n",
    "import pandas as pd\n",
    "import pickle\n",
    "from collections import Counter\n",
    "import matplotlib.pyplot as plt \n",
    "from scipy.stats import pearsonr\n",
    "\n",
    "from constants_and_utils import *\n",
    "\n",
    "plot_dir = \"./result/plot\"\n",
    "# import numpy as np\n",
    "# from scipy.stats.stats import pearsonr"
   ]
  },
  {
   "cell_type": "markdown",
   "id": "d0d11b4e",
   "metadata": {
    "tags": []
   },
   "source": [
    "# Data Exploration"
   ]
  },
  {
   "cell_type": "code",
   "execution_count": 3,
   "id": "dfa576a9",
   "metadata": {},
   "outputs": [
    {
     "name": "stdout",
     "output_type": "stream",
     "text": [
      "Synthetica data with shape (74887, 5), lets peek ...\n"
     ]
    },
    {
     "data": {
      "text/html": [
       "<div>\n",
       "<style scoped>\n",
       "    .dataframe tbody tr th:only-of-type {\n",
       "        vertical-align: middle;\n",
       "    }\n",
       "\n",
       "    .dataframe tbody tr th {\n",
       "        vertical-align: top;\n",
       "    }\n",
       "\n",
       "    .dataframe thead th {\n",
       "        text-align: right;\n",
       "    }\n",
       "</style>\n",
       "<table border=\"1\" class=\"dataframe\">\n",
       "  <thead>\n",
       "    <tr style=\"text-align: right;\">\n",
       "      <th></th>\n",
       "      <th>time</th>\n",
       "      <th>amt</th>\n",
       "      <th>origin_company</th>\n",
       "      <th>dest_company</th>\n",
       "      <th>product</th>\n",
       "    </tr>\n",
       "  </thead>\n",
       "  <tbody>\n",
       "    <tr>\n",
       "      <th>0</th>\n",
       "      <td>1</td>\n",
       "      <td>15.801313</td>\n",
       "      <td>3</td>\n",
       "      <td>9</td>\n",
       "      <td>62</td>\n",
       "    </tr>\n",
       "    <tr>\n",
       "      <th>1</th>\n",
       "      <td>2</td>\n",
       "      <td>37.329604</td>\n",
       "      <td>3</td>\n",
       "      <td>5</td>\n",
       "      <td>61</td>\n",
       "    </tr>\n",
       "    <tr>\n",
       "      <th>2</th>\n",
       "      <td>3</td>\n",
       "      <td>18.087301</td>\n",
       "      <td>3</td>\n",
       "      <td>9</td>\n",
       "      <td>62</td>\n",
       "    </tr>\n",
       "    <tr>\n",
       "      <th>3</th>\n",
       "      <td>3</td>\n",
       "      <td>62.191280</td>\n",
       "      <td>16</td>\n",
       "      <td>5</td>\n",
       "      <td>56</td>\n",
       "    </tr>\n",
       "    <tr>\n",
       "      <th>4</th>\n",
       "      <td>3</td>\n",
       "      <td>640.205554</td>\n",
       "      <td>16</td>\n",
       "      <td>3</td>\n",
       "      <td>56</td>\n",
       "    </tr>\n",
       "  </tbody>\n",
       "</table>\n",
       "</div>"
      ],
      "text/plain": [
       "   time         amt  origin_company  dest_company  product\n",
       "0     1   15.801313               3             9       62\n",
       "1     2   37.329604               3             5       61\n",
       "2     3   18.087301               3             9       62\n",
       "3     3   62.191280              16             5       56\n",
       "4     3  640.205554              16             3       56"
      ]
     },
     "execution_count": 3,
     "metadata": {},
     "output_type": "execute_result"
    }
   ],
   "source": [
    "# Get Data\n",
    "df = pd.read_csv(\"./data/observed_transactions.psv\", sep=\"|\")\n",
    "print(f\"Synthetica data with shape {df.shape}, lets peek ...\")\n",
    "df[\"origin_company\"] = df[\"origin_company\"].str.replace('company','').astype(int)\n",
    "df[\"dest_company\"] = df[\"dest_company\"].str.replace('company','')\n",
    "df[\"dest_company\"] = df[\"dest_company\"].str.replace('market','20') # We denote market as 20\n",
    "df[\"dest_company\"] = df[\"dest_company\"].astype(int)\n",
    "df[\"product\"] = df[\"product\"].str.replace('product','').astype(int)\n",
    "df.head()"
   ]
  },
  {
   "cell_type": "code",
   "execution_count": 4,
   "id": "7965842b",
   "metadata": {},
   "outputs": [
    {
     "name": "stdout",
     "output_type": "stream",
     "text": [
      "Column=time has minimum 1 and maximum 149\n",
      "Column=amt has minimum 1.3872190867448278e-05 and maximum 5781.804779314904\n",
      "Column=origin_company has minimum 0 and maximum 19\n",
      "Column=dest_company has minimum 0 and maximum 20\n",
      "Column=product has minimum 0 and maximum 99\n"
     ]
    }
   ],
   "source": [
    "for col in df.columns:\n",
    "    print(f\"Column={col} has minimum {min(df[col].values)} and maximum {max(df[col].values)}\")"
   ]
  },
  {
   "cell_type": "code",
   "execution_count": 5,
   "id": "f9e2c72a",
   "metadata": {},
   "outputs": [
    {
     "name": "stdout",
     "output_type": "stream",
     "text": [
      "origin_company has max_count 10492 and min_count 748\n",
      "dest_company has max_count 10314 and min_count 897\n",
      "product has max_count 3453 and min_count 149\n"
     ]
    },
    {
     "data": {
      "image/png": "[encoded data removed]",
      "text/plain": [
       "<Figure size 1080x360 with 3 Axes>"
      ]
     },
     "metadata": {
      "needs_background": "light"
     },
     "output_type": "display_data"
    }
   ],
   "source": [
    "fig, axs = plt.subplots(1, 3, figsize=(15, 5))\n",
    "fig.suptitle('Distributions of counts of origin_company, dest_company, and product')\n",
    "\n",
    "counter_src = Counter(df['origin_company'])\n",
    "axs[0].bar(counter_src.keys(), counter_src.values(), color='g')\n",
    "axs[0].set_title(f\"origin_company count\")\n",
    "print(f\"origin_company has max_count {max(counter_src.values())} and min_count {min(counter_src.values())}\")\n",
    "\n",
    "\n",
    "counter_dst = Counter(df['dest_company'])\n",
    "axs[1].bar(counter_dst.keys(), counter_dst.values(), color='b')\n",
    "axs[1].set_title(f\"dest_company count\")\n",
    "print(f\"dest_company has max_count {max(counter_dst.values())} and min_count {min(counter_dst.values())}\")\n",
    "\n",
    "counter_prod = Counter(df['product'])\n",
    "axs[2].bar(counter_prod.keys(), counter_prod.values(), color='r')\n",
    "axs[2].set_title(f\"product count\")\n",
    "print(f\"product has max_count {max(counter_prod.values())} and min_count {min(counter_prod.values())}\")"
   ]
  },
  {
   "cell_type": "code",
   "execution_count": 6,
   "id": "d9c23398",
   "metadata": {},
   "outputs": [
    {
     "data": {
      "text/html": [
       "<div>\n",
       "<style scoped>\n",
       "    .dataframe tbody tr th:only-of-type {\n",
       "        vertical-align: middle;\n",
       "    }\n",
       "\n",
       "    .dataframe tbody tr th {\n",
       "        vertical-align: top;\n",
       "    }\n",
       "\n",
       "    .dataframe thead th {\n",
       "        text-align: right;\n",
       "    }\n",
       "</style>\n",
       "<table border=\"1\" class=\"dataframe\">\n",
       "  <thead>\n",
       "    <tr style=\"text-align: right;\">\n",
       "      <th></th>\n",
       "      <th>ts</th>\n",
       "      <th>weight</th>\n",
       "      <th>source</th>\n",
       "      <th>target</th>\n",
       "      <th>product</th>\n",
       "    </tr>\n",
       "  </thead>\n",
       "  <tbody>\n",
       "    <tr>\n",
       "      <th>0</th>\n",
       "      <td>1</td>\n",
       "      <td>15.801313</td>\n",
       "      <td>3</td>\n",
       "      <td>9</td>\n",
       "      <td>62</td>\n",
       "    </tr>\n",
       "    <tr>\n",
       "      <th>1</th>\n",
       "      <td>2</td>\n",
       "      <td>37.329604</td>\n",
       "      <td>3</td>\n",
       "      <td>5</td>\n",
       "      <td>61</td>\n",
       "    </tr>\n",
       "    <tr>\n",
       "      <th>2</th>\n",
       "      <td>3</td>\n",
       "      <td>18.087301</td>\n",
       "      <td>3</td>\n",
       "      <td>9</td>\n",
       "      <td>62</td>\n",
       "    </tr>\n",
       "    <tr>\n",
       "      <th>3</th>\n",
       "      <td>3</td>\n",
       "      <td>62.191280</td>\n",
       "      <td>16</td>\n",
       "      <td>5</td>\n",
       "      <td>56</td>\n",
       "    </tr>\n",
       "    <tr>\n",
       "      <th>4</th>\n",
       "      <td>3</td>\n",
       "      <td>640.205554</td>\n",
       "      <td>16</td>\n",
       "      <td>3</td>\n",
       "      <td>56</td>\n",
       "    </tr>\n",
       "  </tbody>\n",
       "</table>\n",
       "</div>"
      ],
      "text/plain": [
       "   ts      weight  source  target  product\n",
       "0   1   15.801313       3       9       62\n",
       "1   2   37.329604       3       5       61\n",
       "2   3   18.087301       3       9       62\n",
       "3   3   62.191280      16       5       56\n",
       "4   3  640.205554      16       3       56"
      ]
     },
     "execution_count": 6,
     "metadata": {},
     "output_type": "execute_result"
    }
   ],
   "source": [
    "df = df.rename(columns={\"origin_company\": \"source\", \"dest_company\": \"target\", \"time\": \"ts\", \"amt\": \"weight\"})\n",
    "df.head()"
   ]
  },
  {
   "cell_type": "markdown",
   "id": "b3513002",
   "metadata": {
    "tags": []
   },
   "source": [
    "# Example Analysis"
   ]
  },
  {
   "cell_type": "markdown",
   "id": "5d737bba",
   "metadata": {},
   "source": [
    "## Prepare Data"
   ]
  },
  {
   "cell_type": "code",
   "execution_count": 7,
   "id": "e6c495ab",
   "metadata": {},
   "outputs": [
    {
     "name": "stdout",
     "output_type": "stream",
     "text": [
      "One buys product 9 to supply product 3\n"
     ]
    }
   ],
   "source": [
    "# Identify products\n",
    "SUPPLY_PROD, BUY_PROD = 3, 9 # Buy --> company --> supply\n",
    "print(f\"One buys product {BUY_PROD} to supply product {SUPPLY_PROD}\")\n",
    "\n",
    "def identify_companies(SUPPLY_PROD, BUY_PROD):\n",
    "    assert 0<=SUPPLY_PROD and SUPPLY_PROD<=99\n",
    "    assert 0<=BUY_PROD and BUY_PROD<=99\n",
    "    \n",
    "    # Compute product specific supply, buy dataframe\n",
    "    supply_df = df[(df['product']==SUPPLY_PROD)]\n",
    "    buy_df = df[(df['product']==BUY_PROD)]\n",
    "    \n",
    "    # Identify company: top SUPPLY_PROD supplier AND BUY_PROD buyer\n",
    "    supply_index = supply_df.groupby(\"source\", as_index=False).sum()\n",
    "    buy_index = buy_df.groupby(\"target\", as_index=False).sum()\n",
    "    index = pd.merge(supply_index, buy_index, how='inner', left_on=\"source\", right_on=\"target\")\n",
    "    \n",
    "    assert (index['source_x']==index['target_y']).all()\n",
    "    COMPANIES = index['source_x'].values\n",
    "    # print(f\"COMPANIES involved are {COMPANIES}\")\n",
    "    return COMPANIES\n",
    "COMPANIES = identify_companies(SUPPLY_PROD, BUY_PROD)"
   ]
  },
  {
   "cell_type": "code",
   "execution_count": 8,
   "id": "4a6413f4",
   "metadata": {},
   "outputs": [],
   "source": [
    "def get_df_for_company(SUPPLY_PROD, BUY_PROD, COMPANY):\n",
    "    # Compute product specific supply, buy dataframe\n",
    "    supply_df = df[(df['product']==SUPPLY_PROD) & (df['source']==COMPANY)]\n",
    "    buy_df = df[(df['product']==BUY_PROD) & (df['target']==COMPANY)]\n",
    "    # print(f\"supply shape {supply_df.shape}, buy shape {buy_df.shape}\")\n",
    "    return supply_df, buy_df\n",
    "COMPANY = COMPANIES[0]\n",
    "supply_df, buy_df = get_df_for_company(SUPPLY_PROD, BUY_PROD, COMPANY)"
   ]
  },
  {
   "cell_type": "markdown",
   "id": "b81549f2",
   "metadata": {},
   "source": [
    "## Time Series Analysis"
   ]
  },
  {
   "cell_type": "code",
   "execution_count": 9,
   "id": "93ee95a4",
   "metadata": {},
   "outputs": [],
   "source": [
    "# Get supply_summary, buy_summary\n",
    "def get_summary_df(supply_df, buy_df, time='ts'): # Use given timestamp as basic unit\n",
    "    supply_summary = supply_df.groupby(time)['weight'].sum()\n",
    "    buy_summary = buy_df.groupby(time)['weight'].sum()\n",
    "    return supply_summary, buy_summary\n",
    "\n",
    "# Plot weights\n",
    "def plot_weights(supply_summary, buy_summary):\n",
    "    print(\"Plotting purchases and sales of products without lag\")\n",
    "    fig, axes = plt.subplots(2, 1, figsize=(8, 7), sharex=True)\n",
    "    ax = axes[0]\n",
    "    ax.set_title(f'Purchases of buy product {BUY_PROD}', fontsize=12)\n",
    "    ax.plot(buy_summary.index.values, buy_summary.values)\n",
    "    ax.set_ylabel('Total weight', fontsize=12)\n",
    "    ax = axes[1]           \n",
    "    ax.set_title(f'Sales of supply product {SUPPLY_PROD}', fontsize=12)\n",
    "    ax.plot(supply_summary.index.values, supply_summary.values)\n",
    "    ax.set_ylabel('Total weight', fontsize=12)\n",
    "    ax.set_xlabel('Timestamp')\n",
    "    plt.show()\n",
    "    \n",
    "    # save plot\n",
    "    if not os.path.exists(plot_dir):\n",
    "        os.mkdir(plot_dir)\n",
    "    fig.savefig(f\"{plot_dir}/B{BUY_PROD}_S{SUPPLY_PROD}_C{COMPANY}.jpg\", bbox_inches=\"tight\")\n",
    "\n",
    "def compute_correlations(supply_summary, buy_summary, num_before=0, num_after=0, lag=0):\n",
    "    # Add lags\n",
    "    if lag!=0:\n",
    "        buy_summary.index += lag\n",
    "        \n",
    "    # Apply smoothing\n",
    "    smooth_values = apply_smoothing(supply_summary.values, num_before=num_before, num_after=num_after)\n",
    "    assert(len(supply_summary)==len(smooth_values))\n",
    "    supply_summary.replace(supply_summary.values, smooth_values, inplace=True)\n",
    "    supply_summary.fillna(0, inplace=True)\n",
    "    \n",
    "    smooth_values = apply_smoothing(buy_summary.values, num_before=num_before, num_after=num_after)\n",
    "    assert(len(buy_summary)==len(smooth_values))\n",
    "    buy_summary.replace(buy_summary.values, smooth_values, inplace=True)\n",
    "    buy_summary.fillna(0, inplace=True)\n",
    "    \n",
    "    # Calculate correlation\n",
    "    merged = pd.merge(supply_summary.rename('x'), buy_summary.rename('y'), left_index=True, right_index=True, how='inner')\n",
    "    if len(merged.x) < 2 or len(merged.y) < 2:\n",
    "        r, p = float(\"nan\"), float(\"nan\")\n",
    "    else:\n",
    "        r, p = pearsonr(merged.x, merged.y)\n",
    "    # print('r=%.3f (n=%d, p=%.3f)' % (r, len(merged), p)) # n is number of ts\n",
    "    return (r, len(merged), p)"
   ]
  },
  {
   "cell_type": "code",
   "execution_count": 10,
   "id": "c2312600",
   "metadata": {},
   "outputs": [
    {
     "name": "stdout",
     "output_type": "stream",
     "text": [
      "Plotting purchases and sales of products without lag\n"
     ]
    },
    {
     "data": {
      "image/png": "[encoded data removed]",
      "text/plain": [
       "<Figure size 576x504 with 2 Axes>"
      ]
     },
     "metadata": {
      "needs_background": "light"
     },
     "output_type": "display_data"
    },
    {
     "name": "stdout",
     "output_type": "stream",
     "text": [
      "rnp is (0.7291044479354173, 130, 7.974059420598098e-23)\n"
     ]
    }
   ],
   "source": [
    "supply_summary, buy_summary = get_summary_df(supply_df, buy_df)\n",
    "plot_weights(supply_summary, buy_summary)\n",
    "rnp = compute_correlations(supply_summary, buy_summary, num_before=15, num_after=15, lag=0)\n",
    "print(f\"rnp is {rnp}\")"
   ]
  },
  {
   "cell_type": "markdown",
   "id": "c5c68ec0",
   "metadata": {
    "jp-MarkdownHeadingCollapsed": true,
    "tags": []
   },
   "source": [
    "# Case Analysis: Company 1"
   ]
  },
  {
   "cell_type": "markdown",
   "id": "fb4f36b9",
   "metadata": {
    "tags": []
   },
   "source": [
    "## Generate Correlations"
   ]
  },
  {
   "cell_type": "code",
   "execution_count": null,
   "id": "11ec00c5",
   "metadata": {},
   "outputs": [],
   "source": [
    "MIN_PRODUCT, MAX_PRODUCT = min(df[\"product\"]), max(df[\"product\"])\n",
    "print(f\"MIN_PRODUCT {MIN_PRODUCT}, MAX_PRODUCT {MAX_PRODUCT}\")\n",
    "MIN_LAG, MAX_LAG = 0, max(df[\"ts\"])\n",
    "print(f\"MIN_LAG {MIN_LAG}, MAX_LAG {MAX_LAG}\")"
   ]
  },
  {
   "cell_type": "code",
   "execution_count": null,
   "id": "7907c532",
   "metadata": {},
   "outputs": [],
   "source": [
    "SUPPLY_PRODUCT_LIST = list(set(df[(df[\"source\"]==1)][\"product\"]))\n",
    "print(f\"Company 1 sells products {SUPPLY_PRODUCT_LIST}\")\n",
    "\n",
    "BUY_PRODUCT_LIST = list(set(df[(df[\"target\"]==1)][\"product\"]))\n",
    "print(f\"Company 1 buys products {BUY_PRODUCT_LIST}\")"
   ]
  },
  {
   "cell_type": "code",
   "execution_count": null,
   "id": "1e35149e",
   "metadata": {},
   "outputs": [],
   "source": [
    "import threading\n",
    "result_list = []\n",
    "def function(BUY_PROD, SUPPLY_PROD, COMPANY):\n",
    "    for lag in range(MIN_LAG, MAX_LAG+1):\n",
    "        supply_df, buy_df = get_df_for_company(SUPPLY_PROD=SUPPLY_PROD, BUY_PROD=BUY_PROD, COMPANY=COMPANY)\n",
    "        supply_summary, buy_summary = get_summary_df(supply_df, buy_df)\n",
    "        (r, n, p) = compute_correlations(supply_summary, buy_summary, num_before=15, num_after=15, lag=lag)\n",
    "        result_list.append({'BUY_PROD': BUY_PROD, \n",
    "                            'SUPPLY_PROD': SUPPLY_PROD, \n",
    "                            'COMPANY': COMPANY, \n",
    "                            'lag': lag, \n",
    "                            'r': r, \n",
    "                            'n': n, \n",
    "                            'p': p})      \n",
    "\n",
    "threads = []\n",
    "COMPANY = 1\n",
    "for BUY_PROD in BUY_PRODUCT_LIST:\n",
    "    for SUPPLY_PROD in SUPPLY_PRODUCT_LIST:\n",
    "        if BUY_PROD==SUPPLY_PROD: continue\n",
    "        t = threading.Thread(target=function, args=(BUY_PROD, SUPPLY_PROD, COMPANY,))\n",
    "        threads.append(t)\n",
    "print(f\"There are {len(threads)} threads to execute\")\n",
    "\n",
    "for t in threads: \n",
    "    t.start()\n",
    "for t in threads:\n",
    "    t.join()"
   ]
  },
  {
   "cell_type": "code",
   "execution_count": null,
   "id": "2008a8cc",
   "metadata": {},
   "outputs": [],
   "source": [
    "result_df = pd.DataFrame(result_list)\n",
    "result_df.to_csv(f'./result/result_company1.csv', index=False) \n",
    "result_df.head()"
   ]
  },
  {
   "cell_type": "markdown",
   "id": "52c53879",
   "metadata": {},
   "source": [
    "## Analysis"
   ]
  },
  {
   "cell_type": "code",
   "execution_count": null,
   "id": "86f2c63d",
   "metadata": {},
   "outputs": [],
   "source": [
    "result_df = pd.read_csv(f'./result/result_company1.csv') \n",
    "print(result_df.shape)\n",
    "result_df = result_df.fillna(-1)\n",
    "result_df.head()"
   ]
  },
  {
   "cell_type": "markdown",
   "id": "dbc439b4",
   "metadata": {},
   "source": [
    "For company 1, we have the following production functions (consider linear only)\n",
    "1. company1-product95|0.337(company5-product25)\n",
    "    a. product 25 -> company 1 -> product 95\n",
    "\n",
    "2. company1-product33|0.426(company16-product12)+ 0.843(company9-product53)+ 0.696(company11-product57)\n",
    "    a. product 12, 53, 57 -> company 1 -> product 33\n",
    "\n",
    "3. company1-product15|0.277(company14-product98)+ 0.742(company2-product77)+ 0.319(company8-product63)\n",
    "    a. product 63, 77, 98 -> company 1 -> product 15\n",
    "\n",
    "4. company1-product16|0.264(company16-product56)+ 0.821(company16-product99)+ 0.622(company1-product62)+ 0.306(company15-product85)+ 0.530(company11-product5)+ 0.443(company6-product79)+ 0.310(company10-product67)+ 0.519(company9-product36)\n",
    "    a. product 56, 99, 62, 85, 5, 79, 67, 36 -> company 1 -> product 16\n",
    "\n",
    "5. company1-product51|0.238(company16-product56)+ 0.699(company11-product79)+ 0.189(company15-product85)+ 0.703(company9-product40)+ 0.679(company3-product4)+ 0.713(company1-product80)+ 0.809(company12-product99)\n",
    "    a. product 56, 79, 85, 40, 4, 80, 99 -> company 1 -> product 51"
   ]
  },
  {
   "cell_type": "code",
   "execution_count": null,
   "id": "e866bf65",
   "metadata": {},
   "outputs": [],
   "source": [
    "def plot(ax, prod_func, SUPPLY_PROD, BUY_PROD_LIST):\n",
    "    df = result_df[result_df[\"SUPPLY_PROD\"] == SUPPLY_PROD]\n",
    "    df = df.loc[df.groupby(['BUY_PROD', 'SUPPLY_PROD'], sort=False).r.idxmax()]\n",
    "    condition = df[\"BUY_PROD\"].isin(BUY_PROD_LIST)\n",
    "\n",
    "    x_values = df[condition][\"BUY_PROD\"]\n",
    "    y_values = df[condition][\"r\"]\n",
    "\n",
    "    x_baseline_values = df[~condition][\"BUY_PROD\"]\n",
    "    y_baseline_values = df[~condition][\"r\"]\n",
    "\n",
    "    ax.scatter(x_values, y_values, color='r', label=\"prod_func\")\n",
    "    ax.scatter(x_baseline_values, y_baseline_values, color='b', label=\"baseline\")\n",
    "\n",
    "    ax.set_xlabel(\"Buy product index\")\n",
    "    ax.set_ylabel(\"Correlation of buy_prod-supply_prod amount\")\n",
    "    ax.set_title(f\"{prod_func}\")\n",
    "    \n",
    "    ax.legend()\n",
    "\n",
    "fig, axes = plt.subplots(2, 2, figsize = (10, 10), sharey=True)\n",
    "\n",
    "prod_func = \"prod 25 -> firm 1 -> prod 95\"\n",
    "SUPPLY_PROD = 95\n",
    "BUY_PROD_LIST = [25]\n",
    "plot(axes[0][0], prod_func, SUPPLY_PROD, BUY_PROD_LIST)\n",
    "\n",
    "prod_func = \"prod 12, 53, 57 -> firm 1 -> prod 33\"\n",
    "SUPPLY_PROD = 33\n",
    "BUY_PROD_LIST = [12, 53, 57]\n",
    "plot(axes[0][1], prod_func, SUPPLY_PROD, BUY_PROD_LIST)\n",
    "\n",
    "prod_func = \"prod 63, 77, 98 -> firm 1 -> prod 15\"\n",
    "SUPPLY_PROD = 15\n",
    "BUY_PROD_LIST = [63, 77, 98]\n",
    "plot(axes[1][0], prod_func, SUPPLY_PROD, BUY_PROD_LIST)\n",
    "# prod_func = \"prod 56, 99, 62, 85, 5, \\n 79, 67, 36 -> firm 1 -> prod 16\"\n",
    "# SUPPLY_PROD = 16\n",
    "# BUY_PROD_LIST = [56, 99, 62, 85, 5, 79, 67, 36]\n",
    "# plot(axes[3], prod_func, SUPPLY_PROD, BUY_PROD_LIST)\n",
    "\n",
    "prod_func = \"prod 56, 79, 85, 40, 4, 80, 99 -> firm 1 -> prod 51\"\n",
    "SUPPLY_PROD = 51\n",
    "BUY_PROD_LIST = [56, 79, 85, 40, 4, 80, 99]\n",
    "plot(axes[1][1], prod_func, SUPPLY_PROD, BUY_PROD_LIST)"
   ]
  },
  {
   "cell_type": "markdown",
   "id": "ab164a2d",
   "metadata": {
    "tags": []
   },
   "source": [
    "# Mega Analysis\n",
    "We loop through all $\\textbf{BUY_PROD}$ in [0, 99], $\\textbf{SUPPLY_PROD}$ in [0, 99] to compute correlation score for all involved companies with hyperparameters num_before=15, num_after = 15, and $\\textbf{lag}$ in [0, 149]"
   ]
  },
  {
   "cell_type": "code",
   "execution_count": 11,
   "id": "36c9f471",
   "metadata": {},
   "outputs": [
    {
     "name": "stdout",
     "output_type": "stream",
     "text": [
      "MIN_PRODUCT 0, MAX_PRODUCT 99\n",
      "MIN_LAG 0, MAX_LAG 149\n"
     ]
    }
   ],
   "source": [
    "MIN_PRODUCT, MAX_PRODUCT = min(df[\"product\"]), max(df[\"product\"])\n",
    "print(f\"MIN_PRODUCT {MIN_PRODUCT}, MAX_PRODUCT {MAX_PRODUCT}\")\n",
    "MIN_LAG, MAX_LAG = 0, max(df[\"ts\"])\n",
    "print(f\"MIN_LAG {MIN_LAG}, MAX_LAG {MAX_LAG}\")"
   ]
  },
  {
   "cell_type": "code",
   "execution_count": 16,
   "id": "ac7b4d31",
   "metadata": {},
   "outputs": [],
   "source": [
    "# Define functions\n",
    "import threading\n",
    "result_list = []\n",
    "def function(BUY_PROD, SUPPLY_PROD, COMPANY):\n",
    "    for lag in range(MIN_LAG, MAX_LAG+1):\n",
    "        supply_df, buy_df = get_df_for_company(SUPPLY_PROD=SUPPLY_PROD, BUY_PROD=BUY_PROD, COMPANY=COMPANY)\n",
    "        supply_summary, buy_summary = get_summary_df(supply_df, buy_df)\n",
    "        (r, n, p) = compute_correlations(supply_summary, buy_summary, num_before=15, num_after=15, lag=lag)\n",
    "        result_list.append({'BUY_PROD': BUY_PROD, \n",
    "                            'SUPPLY_PROD': SUPPLY_PROD, \n",
    "                            'COMPANY': COMPANY, \n",
    "                            'lag': lag, \n",
    "                            'r': r, \n",
    "                            'n': n, \n",
    "                            'p': p})  \n",
    "    print(\"done\")"
   ]
  },
  {
   "cell_type": "code",
   "execution_count": 17,
   "id": "383ee21e",
   "metadata": {},
   "outputs": [
    {
     "name": "stdout",
     "output_type": "stream",
     "text": [
      "done\n",
      "Total time is 2.1638801097869873 seconds\n"
     ]
    }
   ],
   "source": [
    "# Timed Analysis\n",
    "import time\n",
    "st = time.time()\n",
    "function(3, 4, 3)\n",
    "et = time.time()\n",
    "print(f\"Total time is {et - st} seconds\")"
   ]
  },
  {
   "cell_type": "code",
   "execution_count": null,
   "id": "a60c9f50",
   "metadata": {},
   "outputs": [
    {
     "name": "stdout",
     "output_type": "stream",
     "text": [
      "Company 9 sells products [96, 33, 36, 40, 10, 11, 45, 62, 53, 86, 55, 54, 25, 21, 28, 30, 95]\n",
      "Company 9 buys products [1, 67, 42, 12, 79, 80, 48, 25, 85, 54, 30, 20, 57, 94, 91, 62]\n",
      "There are 268 threads to execute for company 9\n"
     ]
    },
    {
     "name": "stderr",
     "output_type": "stream",
     "text": [
      "/Users/linzhiyin/Desktop/synthetic_experiment/constants_and_utils.py:93: RuntimeWarning: Mean of empty slice\n",
      "  smoothed_ts[i] = np.nanmean(ts[i-num_before:i+num_after+1])\n",
      "/Users/linzhiyin/Desktop/synthetic_experiment/constants_and_utils.py:93: RuntimeWarning: Mean of empty slice\n",
      "  smoothed_ts[i] = np.nanmean(ts[i-num_before:i+num_after+1])\n",
      "/Users/linzhiyin/Desktop/synthetic_experiment/constants_and_utils.py:93: RuntimeWarning: Mean of empty slice\n",
      "  smoothed_ts[i] = np.nanmean(ts[i-num_before:i+num_after+1])\n"
     ]
    },
    {
     "name": "stdout",
     "output_type": "stream",
     "text": [
      "done\n",
      "done\n",
      "done\n",
      "done\n",
      "done\n",
      "done\n",
      "done\n",
      "done\n",
      "done\n",
      "done\n",
      "donedone\n",
      "\n",
      "done\n",
      "done\n",
      "done\n",
      "done\n",
      "done\n",
      "done\n",
      "done\n",
      "donedone\n",
      "\n",
      "done\n",
      "done\n",
      "done\n",
      "done\n",
      "done\n",
      "done\n",
      "donedone\n",
      "done\n",
      "donedone\n",
      "done\n",
      "\n",
      "\n",
      "done\n",
      "done\n",
      "done\n",
      "donedone\n",
      "\n",
      "done\n",
      "donedone\n",
      "\n",
      "done\n",
      "donedone\n",
      "\n",
      "done\n",
      "done\n",
      "donedone\n",
      "done\n",
      "\n",
      "done\n",
      "done\n",
      "done\n",
      "done\n",
      "donedone\n",
      "\n",
      "done\n",
      "done\n",
      "done\n",
      "donedone\n",
      "donedonedone\n",
      "\n",
      "\n",
      "\n",
      "done\n",
      "done\n",
      "donedone\n",
      "\n",
      "done\n",
      "done\n",
      "done\n",
      "done\n",
      "done\n",
      "done\n",
      "donedone\n",
      "\n",
      "done\n",
      "donedone\n",
      "\n",
      "donedonedone\n",
      "\n",
      "\n",
      "done\n",
      "donedone\n",
      "\n",
      "done\n",
      "done\n",
      "done\n",
      "done\n",
      "done\n",
      "donedone\n",
      "\n",
      "done\n",
      "donedone\n",
      "\n",
      "done\n",
      "done\n",
      "done\n",
      "done\n",
      "donedone\n",
      "donedone\n",
      "\n",
      "\n",
      "done\n",
      "done\n",
      "done\n",
      "done\n",
      "donedone\n",
      "done\n",
      "\n",
      "done\n",
      "donedonedone\n",
      "\n",
      "\n",
      "done\n",
      "done\n",
      "done\n",
      "done\n",
      "donedone\n",
      "done\n",
      "\n",
      "done\n",
      "donedone\n",
      "\n",
      "donedone\n",
      "done\n",
      "\n",
      "done\n",
      "done\n",
      "done\n",
      "donedone\n",
      "done\n",
      "\n",
      "done\n",
      "donedone\n",
      "done\n",
      "\n",
      "done\n",
      "donedone\n",
      "done\n",
      "donedone\n",
      "\n",
      "\n",
      "done\n",
      "done\n",
      "done\n",
      "done\n",
      "done\n",
      "donedone\n",
      "donedone\n",
      "done\n",
      "\n",
      "\n",
      "done\n",
      "donedone\n",
      "\n",
      "done\n",
      "done\n",
      "donedone\n",
      "\n",
      "donedone\n",
      "donedone\n",
      "\n",
      "donedone\n",
      "done\n",
      "\n",
      "done\n",
      "done\n",
      "\n",
      "done\n",
      "donedone\n",
      "\n",
      "donedone\n",
      "\n",
      "done\n",
      "done\n",
      "done\n",
      "donedone\n",
      "\n",
      "done\n",
      "done\n",
      "done\n",
      "donedone\n",
      "donedonedone\n",
      "done\n",
      "\n",
      "done\n",
      "\n",
      "done\n",
      "\n",
      "done\n",
      "done\n",
      "donedone\n",
      "\n",
      "donedone\n",
      "\n",
      "donedone\n",
      "\n",
      "done\n",
      "done\n",
      "done\n",
      "done\n",
      "done\n",
      "donedone\n",
      "\n",
      "done\n",
      "donedone\n",
      "\n",
      "done\n",
      "done\n",
      "done\n",
      "done\n",
      "donedone\n",
      "\n",
      "done\n",
      "done\n",
      "done\n",
      "donedone\n",
      "\n",
      "done\n",
      "donedone\n",
      "\n",
      "done\n",
      "done\n",
      "done\n",
      "done\n",
      "done\n",
      "done\n",
      "donedone\n",
      "done\n",
      "\n",
      "done\n",
      "done\n",
      "done\n",
      "done\n",
      "done\n",
      "done\n",
      "done\n",
      "donedone\n",
      "done\n",
      "\n",
      "donedone\n",
      "\n",
      "done\n",
      "done\n",
      "done\n",
      "done\n",
      "done\n",
      "done\n",
      "donedone\n",
      "\n",
      "donedone\n",
      "\n",
      "done\n",
      "done\n",
      "done\n",
      "donedonedone\n",
      "\n",
      "\n",
      "done\n",
      "done\n",
      "done\n",
      "done\n",
      "done\n",
      "done\n",
      "done\n",
      "done\n",
      "done\n",
      "done\n",
      "Total time is 1093.0520746707916 seconds for company 9\n",
      "Company 10 sells products [35, 67, 92, 49]\n",
      "Company 10 buys products [99, 36, 4, 40, 27, 12, 20, 85, 53, 23, 56, 25, 88, 61, 30, 57]\n",
      "There are 64 threads to execute for company 10\n",
      "done\n",
      "done\n",
      "done\n",
      "done\n",
      "done\n",
      "done\n",
      "donedone\n",
      "\n",
      "done\n",
      "donedone\n",
      "\n",
      "done\n",
      "done\n",
      "donedone\n",
      "\n",
      "done\n",
      "done\n",
      "donedonedone\n",
      "\n",
      "\n",
      "done\n",
      "done\n",
      "donedone\n",
      "done\n",
      "\n",
      "donedone\n",
      "\n",
      "done\n",
      "done\n",
      "donedone\n",
      "\n",
      "done\n",
      "done\n",
      "donedone\n",
      "\n",
      "done\n",
      "done\n",
      "done\n",
      "donedone\n",
      "\n",
      "done\n",
      "done\n",
      "done\n",
      "done\n",
      "donedonedone\n",
      "done\n",
      "\n",
      "\n",
      "done\n",
      "done\n",
      "donedone\n",
      "\n",
      "done\n",
      "done\n",
      "done\n",
      "done\n",
      "donedonedone\n",
      "\n",
      "\n",
      "done\n",
      "done\n",
      "done\n",
      "done\n",
      "done\n",
      "Total time is 229.35636615753174 seconds for company 10\n",
      "Company 11 sells products [0, 5, 7, 13, 15, 23, 25, 32, 34, 35, 36, 44, 46, 54, 57, 68, 69, 70, 79, 82, 86, 87, 94]\n",
      "Company 11 buys products [0, 1, 5, 12, 19, 20, 25, 27, 29, 36, 37, 40, 46, 56, 61, 63, 67, 72, 76, 77, 79, 80, 91, 98]\n",
      "There are 546 threads to execute for company 11\n"
     ]
    },
    {
     "name": "stderr",
     "output_type": "stream",
     "text": [
      "/Users/linzhiyin/Desktop/synthetic_experiment/constants_and_utils.py:93: RuntimeWarning: Mean of empty slice\n",
      "  smoothed_ts[i] = np.nanmean(ts[i-num_before:i+num_after+1])\n",
      "/Library/Frameworks/Python.framework/Versions/3.10/lib/python3.10/site-packages/scipy/stats/stats.py:4023: PearsonRConstantInputWarning: An input array is constant; the correlation coefficient is not defined.\n",
      "  warnings.warn(PearsonRConstantInputWarning())\n",
      "/Users/linzhiyin/Desktop/synthetic_experiment/constants_and_utils.py:93: RuntimeWarning: Mean of empty slice\n",
      "  smoothed_ts[i] = np.nanmean(ts[i-num_before:i+num_after+1])\n",
      "/Users/linzhiyin/Desktop/synthetic_experiment/constants_and_utils.py:93: RuntimeWarning: Mean of empty slice\n",
      "  smoothed_ts[i] = np.nanmean(ts[i-num_before:i+num_after+1])\n"
     ]
    }
   ],
   "source": [
    "# Run threads\n",
    "for COMPANY in range(9,14):  \n",
    "    threads = []\n",
    "    st = time.time()\n",
    "    SUPPLY_PRODUCT_LIST = list(set(df[(df[\"source\"]==COMPANY)][\"product\"]))\n",
    "    BUY_PRODUCT_LIST = list(set(df[(df[\"target\"]==COMPANY)][\"product\"]))\n",
    "    print(f\"Company {COMPANY} sells products {SUPPLY_PRODUCT_LIST}\")\n",
    "    print(f\"Company {COMPANY} buys products {BUY_PRODUCT_LIST}\")\n",
    "    for BUY_PROD in BUY_PRODUCT_LIST:\n",
    "        for SUPPLY_PROD in SUPPLY_PRODUCT_LIST:\n",
    "            if BUY_PROD==SUPPLY_PROD: continue\n",
    "            t = threading.Thread(target=function, args=(BUY_PROD, SUPPLY_PROD, COMPANY,))\n",
    "            threads.append(t)\n",
    "    print(f\"There are {len(threads)} threads to execute for company {COMPANY}\")\n",
    "\n",
    "    for t in threads: \n",
    "        t.start()\n",
    "    for t in threads:\n",
    "        t.join()\n",
    "    \n",
    "    et = time.time()\n",
    "    print(f\"Total time is {et - st} seconds for company {COMPANY}\")\n",
    "    \n",
    "    # save results\n",
    "    result_df = pd.DataFrame(result_list)\n",
    "    result_df.to_csv(f'./result/result{COMPANY}.csv', index=False) \n"
   ]
  },
  {
   "cell_type": "markdown",
   "id": "455a627f",
   "metadata": {},
   "source": [
    "# Compare with BOM"
   ]
  },
  {
   "cell_type": "code",
   "execution_count": null,
   "id": "29b6751b",
   "metadata": {},
   "outputs": [],
   "source": [
    "result_df = pd.read_csv(f'./result/result.csv') \n",
    "result_df.shape"
   ]
  },
  {
   "cell_type": "code",
   "execution_count": null,
   "id": "c284761b",
   "metadata": {},
   "outputs": [],
   "source": []
  },
  {
   "cell_type": "code",
   "execution_count": null,
   "id": "5a3525ed",
   "metadata": {},
   "outputs": [],
   "source": [
    "# company1-product15|0.277(company14-product98)+ 0.742(company2-product77)+ 0.319(company8-product63)"
   ]
  },
  {
   "cell_type": "code",
   "execution_count": null,
   "id": "f1a5e88f",
   "metadata": {},
   "outputs": [],
   "source": [
    "df = result_df[(result_df[\"BUY_PROD\"]==25) & (result_df[\"SUPPLY_PROD\"]==95)]\n",
    "df.head()"
   ]
  },
  {
   "cell_type": "code",
   "execution_count": null,
   "id": "8131039c",
   "metadata": {},
   "outputs": [],
   "source": [
    "set(result_df[result_df[\"BUY_PROD\"]==15].SUPPLY_PROD)"
   ]
  },
  {
   "cell_type": "code",
   "execution_count": null,
   "id": "7dfcc2c7",
   "metadata": {},
   "outputs": [],
   "source": []
  },
  {
   "cell_type": "code",
   "execution_count": null,
   "id": "dcc37c22",
   "metadata": {},
   "outputs": [],
   "source": []
  },
  {
   "cell_type": "markdown",
   "id": "01d9d679",
   "metadata": {},
   "source": [
    "company1-product95|0.337(company5-product25)\n",
    "company1-product33|0.426(company16-product12)+ 0.843(company9-product53)+ 0.696(company11-product57)\n",
    "company1-product15|0.277(company14-product98)+ 0.742(company2-product77)+ 0.319(company8-product63)\n",
    "company1-product16|0.264(company16-product56)+ 0.821(company16-product99)+ 0.622(company1-product62)+ 0.306(company15-product85)+ 0.530(company11-product5)+ 0.443(company6-product79)+ 0.310(company10-product67)+ 0.519(company9-product36)\n",
    "company1-product51|0.238(company16-product56)+ 0.699(company11-product79)+ 0.189(company15-product85)+ 0.703(company9-product40)+ 0.679(company3-product4)+ 0.713(company1-product80)+ 0.809(company12-product99)"
   ]
  },
  {
   "cell_type": "code",
   "execution_count": null,
   "id": "e48b7645",
   "metadata": {},
   "outputs": [],
   "source": []
  },
  {
   "cell_type": "code",
   "execution_count": null,
   "id": "53613c1d",
   "metadata": {},
   "outputs": [],
   "source": []
  },
  {
   "cell_type": "code",
   "execution_count": null,
   "id": "43bb2f82",
   "metadata": {},
   "outputs": [],
   "source": []
  }
 ],
 "metadata": {
  "kernelspec": {
   "display_name": "Python 3 (ipykernel)",
   "language": "python",
   "name": "python3"
  },
  "language_info": {
   "codemirror_mode": {
    "name": "ipython",
    "version": 3
   },
   "file_extension": ".py",
   "mimetype": "text/x-python",
   "name": "python",
   "nbconvert_exporter": "python",
   "pygments_lexer": "ipython3",
   "version": "3.10.1"
  }
 },
 "nbformat": 4,
 "nbformat_minor": 5
}
